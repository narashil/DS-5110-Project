{
 "cells": [
  {
   "cell_type": "code",
   "execution_count": 1,
   "metadata": {},
   "outputs": [],
   "source": [
    "# import context manager: SparkSession\n",
    "from pyspark.sql import SparkSession\n",
    "from pyspark.sql.types import ArrayType, StructField, StructType, StringType, IntegerType\n",
    "from pyspark.ml.linalg import Vectors\n",
    "from pyspark.ml.stat import Correlation\n",
    "from pyspark.sql import functions as F\n",
    "from pyspark.sql.types import *\n",
    "from pyspark.sql import SQLContext\n",
    "# set up the session\n",
    "\n",
    "spark = SparkSession \\\n",
    "    .builder \\\n",
    "    .master(\"local\") \\\n",
    "    .appName(\"Ed Squad Project\") \\\n",
    "    .config(\"spark.executor.memory\", '200g') \\\n",
    "    .config('spark.executor.cores', '6') \\\n",
    "    .config('spark.cores.max', '8')\\\n",
    "    .config(\"spark.driver.memory\",'32g') \\\n",
    "    .getOrCreate()\n",
    "\n",
    "sc = spark.sparkContext\n",
    "        \n",
    "        \n",
    "sqlContext = SQLContext(spark)"
   ]
  },
  {
   "cell_type": "code",
   "execution_count": 2,
   "metadata": {},
   "outputs": [
    {
     "data": {
      "text/plain": [
       "'200'"
      ]
     },
     "execution_count": 2,
     "metadata": {},
     "output_type": "execute_result"
    }
   ],
   "source": [
    "spark.conf.get(\"spark.sql.shuffle.partitions\")"
   ]
  },
  {
   "cell_type": "code",
   "execution_count": 3,
   "metadata": {},
   "outputs": [
    {
     "data": {
      "text/plain": [
       "'/sfs/qumulo/qhome/smn7ba/ds5110/project'"
      ]
     },
     "execution_count": 3,
     "metadata": {},
     "output_type": "execute_result"
    }
   ],
   "source": [
    "import os\n",
    "os.listdir()\n",
    "os.getcwd()"
   ]
  },
  {
   "cell_type": "code",
   "execution_count": 4,
   "metadata": {},
   "outputs": [],
   "source": [
    "#import pandas too for visualizations\n",
    "import plotly.express as px\n",
    "import pandas as pd\n",
    "import seaborn as sns\n",
    "import matplotlib.pyplot as plt\n",
    "import numpy as np\n",
    "import itertools\n",
    "from sklearn.metrics import confusion_matrix\n",
    "pd.set_option('display.max_rows', 200000)"
   ]
  },
  {
   "cell_type": "code",
   "execution_count": 5,
   "metadata": {},
   "outputs": [
    {
     "name": "stdout",
     "output_type": "stream",
     "text": [
      "CPU times: user 3.51 ms, sys: 1.52 ms, total: 5.03 ms\n",
      "Wall time: 4.58 ms\n"
     ]
    }
   ],
   "source": [
    "%%time\n",
    "#import mlLib libraries for classification\n",
    "from pyspark.ml.tuning import CrossValidator, ParamGridBuilder,TrainValidationSplit\n",
    "from pyspark.ml.evaluation import BinaryClassificationEvaluator,MulticlassClassificationEvaluator\n",
    "from pyspark.ml.classification import RandomForestClassifier\n",
    "from pyspark.ml import Pipeline\n",
    "from pyspark.ml.feature import PCA\n",
    "from pyspark.mllib.evaluation import MulticlassMetrics,BinaryClassificationMetrics\n",
    "from pyspark.ml.feature import VectorAssembler\n",
    "from pyspark.ml.feature import StandardScaler"
   ]
  },
  {
   "cell_type": "markdown",
   "metadata": {},
   "source": [
    "### About data\n",
    "AMERICAN COMMUNITY SURVEY 2015-2019 5-YEAR SAMPLE <br>\n",
    "5-in-100 national random sample of the population <br>\n",
    "Contains all households and persons from the 1% ACS samples for 2015, 2016, 2017, 2018, and 2019 identifiable by year. <br>\n",
    "The data include persons in group quarters. <br>\n",
    "This is a weighted sample. <br>\n",
    "The smallest identifiable geographic unit is the PUMA, containing at least 100,000 persons. PUMAs do not cross state boundaries. <br>\n",
    "Users should read the FAQ on the multi-year data. <br>\n",
    "\n",
    "\n",
    "WHERE CAN I GET BETTER GEOGRAPHIC IDENTIFIERS? <br>\n",
    "The lowest unit of geography in the microdata files is still the PUMA. PUMAs contain at least 100,000 people. <br>\n",
    "Aggregate data (but not microdata) is currently available from the Census Bureau for geographic areas as small as block groups, but only for the entire 2005-2009 period. <br>\n",
    "\n",
    "\n",
    "PERNUM numbers all persons within each household consecutively in the order in which they appear on the original census or survey form. <br>\n",
    "When combined with SAMPLE and SERIAL, PERNUM uniquely identifies each person within the IPUMS. <br>\n",
    "\n",
    "MULTYEAR identifies the actual year of survey in multi-year ACS/PRCS samples. <br>\n",
    "\n",
    "<br>\n",
    "For example, the 3-year ACS and PRCS data files each include cases from three single-year files. <br>\n",
    "For these multi-year samples, the YEAR variable identifies the last year of data (2007 for the 2005-2007 3-year data; 2008 for the 2006-2008 data; and so on). <br>\n",
    "MULTYEAR gives the single-year sample from which the case was drawn (2005, 2006, or 2007 for the 2005-2007 3-year data; 2006, 2007, or 2008 for the 2006-2008 3-year data; and so on). <br>\n",
    "\n",
    "https://usa.ipums.org/usa/acs_multyr.shtml\n"
   ]
  },
  {
   "cell_type": "markdown",
   "metadata": {},
   "source": [
    "### Read Data; Create a binary flag; rename columns; Drop if necessary"
   ]
  },
  {
   "cell_type": "code",
   "execution_count": 6,
   "metadata": {},
   "outputs": [
    {
     "name": "stdout",
     "output_type": "stream",
     "text": [
      "CPU times: user 1e+03 ns, sys: 1 µs, total: 2 µs\n",
      "Wall time: 5.25 µs\n"
     ]
    }
   ],
   "source": [
    "%%time\n",
    "seed = 42"
   ]
  },
  {
   "cell_type": "code",
   "execution_count": 7,
   "metadata": {},
   "outputs": [
    {
     "name": "stdout",
     "output_type": "stream",
     "text": [
      "CPU times: user 16.1 ms, sys: 11 ms, total: 27 ms\n",
      "Wall time: 2min 17s\n"
     ]
    }
   ],
   "source": [
    "%%time\n",
    "#import whole data from the census\n",
    "data = spark.read.csv('/project/ds5559/ds5110_project_snoo/acs_15_19_south.csv', inferSchema=\"true\", header=\"true\")"
   ]
  },
  {
   "cell_type": "code",
   "execution_count": 8,
   "metadata": {},
   "outputs": [
    {
     "name": "stdout",
     "output_type": "stream",
     "text": [
      "+---------+\n",
      "|EDUC_FLAG|\n",
      "+---------+\n",
      "|        0|\n",
      "|        1|\n",
      "+---------+\n",
      "only showing top 2 rows\n",
      "\n",
      "CPU times: user 7.74 ms, sys: 739 µs, total: 8.48 ms\n",
      "Wall time: 1.09 s\n"
     ]
    }
   ],
   "source": [
    "%%time\n",
    "#writing a user defined function to create a Educated or Not Flag - if EDUC>6 then it is 1 and if not 0\n",
    "#https://towardsdatascience.com/5-ways-to-add-a-new-column-in-a-pyspark-dataframe-4e75c2fd8c08\n",
    "def EDUCFunc(value):\n",
    "  if   value > 6: \n",
    "      return 1\n",
    "  else:\n",
    "      return 0\n",
    "\n",
    "#create the function to be applied and create a new column EDUC_FLAG\n",
    "udfsomefunc = F.udf(EDUCFunc, IntegerType())\n",
    "data = data.withColumn(\"EDUC_FLAG\", udfsomefunc(\"EDUC\"))\n",
    "#see sample data\n",
    "data.select('EDUC_FLAG').show(2)"
   ]
  },
  {
   "cell_type": "code",
   "execution_count": 10,
   "metadata": {},
   "outputs": [
    {
     "name": "stdout",
     "output_type": "stream",
     "text": [
      "CPU times: user 2.89 ms, sys: 3.32 ms, total: 6.21 ms\n",
      "Wall time: 26.6 s\n"
     ]
    },
    {
     "data": {
      "text/plain": [
       "2470127"
      ]
     },
     "execution_count": 10,
     "metadata": {},
     "output_type": "execute_result"
    }
   ],
   "source": [
    "%%time\n",
    "#check the count for EDUC>6 or verify if flag was populated correctly\n",
    "data.filter(data.EDUC>6).count()"
   ]
  },
  {
   "cell_type": "code",
   "execution_count": 11,
   "metadata": {},
   "outputs": [
    {
     "name": "stdout",
     "output_type": "stream",
     "text": [
      "CPU times: user 5.78 ms, sys: 1.69 ms, total: 7.47 ms\n",
      "Wall time: 29.8 s\n"
     ]
    },
    {
     "data": {
      "text/plain": [
       "2470127"
      ]
     },
     "execution_count": 11,
     "metadata": {},
     "output_type": "execute_result"
    }
   ],
   "source": [
    "%%time\n",
    "#Verify the flag count. Should match number above\n",
    "data.filter(data.EDUC_FLAG!=0).count()"
   ]
  },
  {
   "cell_type": "code",
   "execution_count": 12,
   "metadata": {},
   "outputs": [
    {
     "name": "stdout",
     "output_type": "stream",
     "text": [
      "CPU times: user 6.24 ms, sys: 1.14 ms, total: 7.38 ms\n",
      "Wall time: 29.6 s\n"
     ]
    },
    {
     "data": {
      "text/plain": [
       "3495122"
      ]
     },
     "execution_count": 12,
     "metadata": {},
     "output_type": "execute_result"
    }
   ],
   "source": [
    "%%time\n",
    "#Verify the EDUC count. To check imbalance in data\n",
    "data.filter(data.EDUC_FLAG==0).count()"
   ]
  },
  {
   "cell_type": "markdown",
   "metadata": {},
   "source": [
    "## Balance the data for educ flags"
   ]
  },
  {
   "cell_type": "code",
   "execution_count": 9,
   "metadata": {},
   "outputs": [],
   "source": [
    "#majority sample is for larger class whee we use a ratio by sampling smaller class count out of larger class count\n",
    "sampled_majority_df = data.filter(data['EDUC_FLAG']==0)\\\n",
    "    .sample(False,data.filter(data['EDUC_FLAG']==1).count()/data.filter(data['EDUC_FLAG']==0).count(), seed=seed)\n",
    "#minor sample is kept as is\n",
    "minor_df = data.filter(data['EDUC_FLAG']==1).sample(False,1.0, seed=seed)\n",
    "#combine both in a dataframe for a balanced sample\n",
    "combined_df = sampled_majority_df.unionAll(minor_df)"
   ]
  },
  {
   "cell_type": "code",
   "execution_count": 10,
   "metadata": {},
   "outputs": [
    {
     "name": "stdout",
     "output_type": "stream",
     "text": [
      "+---------+-------+\n",
      "|EDUC_FLAG|  count|\n",
      "+---------+-------+\n",
      "|        1|2470127|\n",
      "|        0|2470573|\n",
      "+---------+-------+\n",
      "\n"
     ]
    }
   ],
   "source": [
    "#check results\n",
    "combined_df.groupBy('EDUC_FLAG').count().show()"
   ]
  },
  {
   "cell_type": "code",
   "execution_count": 10,
   "metadata": {},
   "outputs": [
    {
     "name": "stdout",
     "output_type": "stream",
     "text": [
      "CPU times: user 1.43 ms, sys: 1.53 ms, total: 2.96 ms\n",
      "Wall time: 71.1 ms\n"
     ]
    }
   ],
   "source": [
    "%%time\n",
    "#renaming dependent variable to label because the classfier is not recognizing other names. Skip thsi if you are trying other classifiers\n",
    "df = combined_df.withColumn(\"label\",data.EDUC_FLAG) \\\n",
    "      .drop(\"EDUC_FLAG\")"
   ]
  },
  {
   "cell_type": "code",
   "execution_count": 15,
   "metadata": {},
   "outputs": [
    {
     "data": {
      "text/plain": [
       "'\\nkeep_35 = [\"HHTYPE\",\"REGION\",\"STATEFIP\",\"COUNTYFIP\",\"METRO\",\"COSTELEC\",\"COSTGAS\",\"COSTWATR\",\"COSTFUEL\",\"FOODSTMP\",\"CINETHH\",\"CILAPTOP\",        \"CISMRTPHN\",\"CITABLET\",\"VEHICLES\",\"COUPLETYPE\",\"NFAMS\",\"NMOTHERS\",\"NFATHERS\",\"CITIZEN\",\"YRSUSA1\",\"RACAMIND\",\"RACASIAN\",\"RACBLK\",\"RACPACIS\"        ,\"RACWHT\",\"RACOTHER\",\"HCOVANY\",\"EMPSTAT\",\"LABFORCE\",\"CLASSWKR\",\"UHRSWORK\",\"VETSTAT\",\"TRANWORK\",\"GCHOUSE\",\"label\",\"MULTYEAR\"]\\n'"
      ]
     },
     "execution_count": 15,
     "metadata": {},
     "output_type": "execute_result"
    }
   ],
   "source": [
    "#Define variables which will be consistently used\n",
    "split_ratio = [0.7,0.3]\n",
    "numFolds = 5\n",
    "threads = 6\n",
    "\n",
    "rf = RandomForestClassifier(labelCol = \"label\", featuresCol = \"scaledFeatures_train\")\n",
    "\n",
    "paramGrid = ParamGridBuilder().addGrid(rf.numTrees, [30, 50]).build()\n",
    "\n",
    "pca_model = PCA(k=10, inputCol = \"scaledFeatures_train\", outputCol = \"pca_features_cv\")\n",
    "\n",
    "#create a param grid to pass to cross validator \n",
    "#k --> number of principal components\n",
    "#number of treess in rf\n",
    "#need to add more later\n",
    "paramGrid_pca = ParamGridBuilder().addGrid(rf.numTrees, [20, 30, 50]).build()\n",
    "\n",
    "#.addGrid(pca_model.k, [10]) \\ \n",
    "bcm = MulticlassClassificationEvaluator() #BinaryClassificationEvaluator()\n",
    "\n",
    "#Identified first 35 variables of interest\n",
    "'''\n",
    "keep_35 = [\"HHTYPE\",\"REGION\",\"STATEFIP\",\"COUNTYFIP\",\"METRO\",\"COSTELEC\",\"COSTGAS\",\"COSTWATR\",\"COSTFUEL\",\"FOODSTMP\",\"CINETHH\",\"CILAPTOP\",\\\n",
    "        \"CISMRTPHN\",\"CITABLET\",\"VEHICLES\",\"COUPLETYPE\",\"NFAMS\",\"NMOTHERS\",\"NFATHERS\",\"CITIZEN\",\"YRSUSA1\",\"RACAMIND\",\"RACASIAN\",\"RACBLK\",\"RACPACIS\"\\\n",
    "        ,\"RACWHT\",\"RACOTHER\",\"HCOVANY\",\"EMPSTAT\",\"LABFORCE\",\"CLASSWKR\",\"UHRSWORK\",\"VETSTAT\",\"TRANWORK\",\"GCHOUSE\",\"label\",\"MULTYEAR\"]\n",
    "'''"
   ]
  },
  {
   "cell_type": "markdown",
   "metadata": {},
   "source": [
    "### Reusable Functions to create sample data, split data, preprocess train, tst, fit model and generate classfication metrics and CM"
   ]
  },
  {
   "cell_type": "code",
   "execution_count": 16,
   "metadata": {},
   "outputs": [],
   "source": [
    "def createSampleData(df,cols,sampleweight):\n",
    "    df_small = df.select(cols)\n",
    "    sampled = df_small.sampleBy(\"MULTYEAR\", fractions={2015:sampleweight, 2016: sampleweight, 2017:sampleweight, 2018:sampleweight, 2019:sampleweight}, seed=seed)\n",
    "    return sampled\n",
    "\n",
    "def splitData(dataframe,split_ratio,seed):\n",
    "    training_data, test_data = dataframe.randomSplit(split_ratio, seed=seed)\n",
    "    cached_tr = training_data.cache()\n",
    "    cached_test = test_data.cache()\n",
    "    return cached_tr,cached_test\n",
    "\n",
    "def preProcessTrainFit(cached_tr,model,pca_model,paramGrid,evaluator,numFolds,seed ):\n",
    "    #Assemble traininngdata\n",
    "    #pass all the features into vector assembler to create a vector format to pass to the classification model\n",
    "    selected_cols=[cols for cols in cached_tr.columns if cols not in['label','MULTYEAR']]\n",
    "    assembler = VectorAssembler(inputCols=selected_cols, outputCol=\"features\") \n",
    "    #scale\n",
    "    scaler_train = StandardScaler(inputCol=\"features\", outputCol=\"scaledFeatures_train\")\n",
    "\n",
    "    #creating a pipeline with the assembler,scaler and model to use in the cross validator\n",
    "    if pca_model is None:  print(\"Not PCA\"); ppl_cv = Pipeline(stages = [assembler,scaler_train, model])\n",
    "        \n",
    "    else: \n",
    "        print(\"PCA\");\n",
    "        rf = RandomForestClassifier(labelCol = \"label\", featuresCol = \"pca_features_cv\")\n",
    "        ppl_cv = Pipeline(stages = [assembler,scaler_train,pca_model, rf])\n",
    "\n",
    "    #passs the model with variosu combinations of the parameters and it will pick the best one. Using 3 folds to save time. Check seed=42.\n",
    "    crossval = CrossValidator(estimator = ppl_cv,\\\n",
    "                                            estimatorParamMaps=paramGrid,\\\n",
    "                                            evaluator = evaluator ,\\\n",
    "                                            numFolds= numFolds,seed=seed,parallelism=threads)\n",
    "    #this is our best model - fit the training data\n",
    "    #https://spark.apache.org/docs/2.3.0/api/python/pyspark.ml.html#pyspark.ml.tuning.CrossValidator\n",
    "    return crossval.fit(cached_tr)\n",
    "    \n",
    "\n",
    "def preProcessTest(test_data):\n",
    "    #prepare test data to test predictions\n",
    "    selected_cols=[cols for cols in test_data.columns if cols not in['label','MULTYEAR']]\n",
    "    assembler_test = VectorAssembler(inputCols=selected_cols, outputCol=\"features\") \n",
    "    transformed_test = assembler_test.transform(test_data)\n",
    "    #register table as sql table and keep only columns fo interest and save in a new dataframe. This can be done without using SQl as well.\n",
    "    transformed_test.registerTempTable('transformed_tbl_test')\n",
    "    transformed_df_test = sqlContext.sql('select label,features from transformed_tbl_test')\n",
    "    #scale test data\n",
    "    scaler_test = StandardScaler(inputCol=\"features\", outputCol=\"scaledFeatures\",withStd=False, withMean=True)\n",
    "    scalerModel_test = scaler_test.fit(transformed_df_test)\n",
    "    scaledData_test = scalerModel_test.transform(transformed_df_test)\n",
    "    \n",
    "    return scaledData_test"
   ]
  },
  {
   "cell_type": "code",
   "execution_count": 17,
   "metadata": {},
   "outputs": [],
   "source": [
    "#https://runawayhorse001.github.io/LearningApacheSpark/classification.html\n",
    "#https://shihaojran.com/distributed-machine-learning-using-pyspark/\n",
    "#https://www.analyticsvidhya.com/blog/2020/06/auc-roc-curve-machine-learning/\n",
    "# Calculate the elements of the confusion matrix\n",
    "#https://runawayhorse001.github.io/LearningApacheSpark/classification.html#random-forest-classification\n",
    "\n",
    "def createLabelsCM(preds):\n",
    "    \n",
    "    ##saving labels in a list to pass to the plot\n",
    "    class_temp = preds.select(\"label\").groupBy(\"label\")\\\n",
    "                            .count().sort('count', ascending=False).toPandas()\n",
    "    class_temp = class_temp[\"label\"].values.tolist()\n",
    "    y_true = preds.select(\"label\")\n",
    "    y_true = y_true.toPandas()\n",
    "\n",
    "    y_pred = preds.select(\"prediction\")\n",
    "    y_pred = y_pred.toPandas()\n",
    "\n",
    "    return confusion_matrix(y_true, y_pred,class_temp)\n",
    "\n",
    "def plot_confusion_matrix(cm, classes,\n",
    "                          normalize=False,\n",
    "                          title='Confusion matrix',\n",
    "                          cmap=plt.cm.Blues):\n",
    "    \"\"\"\n",
    "    This function prints and plots the confusion matrix.\n",
    "    Normalization can be applied by setting `normalize=True`.\n",
    "    \"\"\"\n",
    "    if normalize:\n",
    "        cm = cm.astype('float') / cm.sum(axis=1)[:, np.newaxis]\n",
    "\n",
    "    plt.imshow(cm, interpolation='nearest', cmap=cmap)\n",
    "    plt.title(title)\n",
    "    plt.colorbar()\n",
    "    tick_marks = np.arange(len(classes))\n",
    "    plt.xticks(tick_marks, classes, rotation=0)\n",
    "    plt.yticks(tick_marks, classes)\n",
    "\n",
    "    fmt = '.2f' if normalize else 'd'\n",
    "    thresh = cm.max() / 2.\n",
    "    for i, j in itertools.product(range(cm.shape[0]), range(cm.shape[1])):\n",
    "        plt.text(j, i, format(cm[i, j], fmt),\n",
    "                 horizontalalignment=\"center\",\n",
    "                 color=\"white\" if cm[i, j] > thresh else \"black\")\n",
    "\n",
    "    plt.tight_layout()\n",
    "    plt.ylabel('True label')\n",
    "    plt.xlabel('Predicted label')\n",
    "\n",
    "def classificationMetrics(preds, evaluator):\n",
    "    #calcualte classification report\n",
    "    TN = preds.filter('prediction = 0 AND label = prediction').count()\n",
    "    TP = preds.filter('prediction = 1 AND label = prediction').count()\n",
    "    FN = preds.filter('prediction = 0 AND label <> prediction').count()\n",
    "    FP = preds.filter('prediction = 1 AND label <> prediction').count()\n",
    "    # show confusion matrix\n",
    "    preds.groupBy('label', 'prediction').count().show()\n",
    "    # calculate metrics by the confusion matrix\n",
    "    accuracy = (TN + TP) / (TN + TP + FN + FP)\n",
    "    precision = TP / (TP + FP)\n",
    "    recall = TP / (TP + FN)\n",
    "    F =  2 * (precision*recall) / (precision + recall)\n",
    "    # calculate auc\n",
    "    #auc = evaluator.evaluate(preds, {evaluator.metricName: 'areaUnderROC'})\n",
    "    print('n precision: %0.3f' % precision)\n",
    "    print('n recall: %0.3f' % recall)\n",
    "    print('n accuracy: %0.3f' % accuracy)\n",
    "    print('n F1 score: %0.3f' % F)\n",
    "    #print('AUC: %0.3f' % auc)"
   ]
  },
  {
   "cell_type": "markdown",
   "metadata": {},
   "source": [
    "### EDA"
   ]
  },
  {
   "cell_type": "code",
   "execution_count": 25,
   "metadata": {},
   "outputs": [
    {
     "name": "stdout",
     "output_type": "stream",
     "text": [
      "(4940700, 206)\n"
     ]
    }
   ],
   "source": [
    "#displaying number of rows and columns in the data\n",
    "print((df.count(), len(df.columns)))"
   ]
  },
  {
   "cell_type": "markdown",
   "metadata": {},
   "source": [
    "### Preprocess"
   ]
  },
  {
   "cell_type": "code",
   "execution_count": 28,
   "metadata": {},
   "outputs": [
    {
     "data": {
      "text/plain": [
       "\"\\nhhtype_dict = {'0':'N/A',            '1': 'Married-couple family household',            '2': 'Male householder, no wife present',            '3': 'Female householder, no husband present',            '4': 'Male householder, living alone',            '5': 'Male householder, not living alone',            '6': 'Female householder, living alone',            '7': 'Female householder, not living alone',            '9': 'HHTYPE could not be determined'}\\n\""
      ]
     },
     "execution_count": 28,
     "metadata": {},
     "output_type": "execute_result"
    }
   ],
   "source": [
    "#map to create meanign ful table # wip\n",
    "'''\n",
    "hhtype_dict = {'0':'N/A',\\\n",
    "            '1': 'Married-couple family household',\\\n",
    "            '2': 'Male householder, no wife present',\\\n",
    "            '3': 'Female householder, no husband present',\\\n",
    "            '4': 'Male householder, living alone',\\\n",
    "            '5': 'Male householder, not living alone',\\\n",
    "            '6': 'Female householder, living alone',\\\n",
    "            '7': 'Female householder, not living alone',\\\n",
    "            '9': 'HHTYPE could not be determined'}\n",
    "'''"
   ]
  },
  {
   "cell_type": "code",
   "execution_count": 29,
   "metadata": {},
   "outputs": [],
   "source": [
    "#sampled.select('HHTYPE').rdd.map(lambda x: hhtype_dict.get(x) ).take(5)"
   ]
  },
  {
   "cell_type": "code",
   "execution_count": 21,
   "metadata": {},
   "outputs": [
    {
     "name": "stdout",
     "output_type": "stream",
     "text": [
      "+------+------+\n",
      "|HHTYPE|count |\n",
      "+------+------+\n",
      "|1     |355432|\n",
      "|3     |75402 |\n",
      "|6     |39112 |\n",
      "|4     |27451 |\n",
      "|2     |20845 |\n",
      "|5     |7654  |\n",
      "|7     |6213  |\n",
      "+------+------+\n",
      "\n",
      "CPU times: user 10.2 ms, sys: 6.68 ms, total: 16.9 ms\n",
      "Wall time: 1min 38s\n"
     ]
    }
   ],
   "source": [
    "%%time\n",
    "##aggregating counts by Year and HHtype for sampple dataset - add labels - convert to visualization\n",
    "#sampled_n = sampled.select('HHTYPE').rdd.map(lambda x: hhtype_dict.get(x) )\n",
    "#sampled.filter((sampled.HHTYPE!=0) & (sampled.HHTYPE!=9)).groupBy('MULTYEAR','HHTYPE').count()\\\n",
    "    #.orderBy('MULTYEAR','count', ascending=False).show(100,truncate=False)\n",
    "sampled.filter((sampled.HHTYPE!=0) & (sampled.HHTYPE!=9)).groupBy('HHTYPE').count()\\\n",
    "    .orderBy('count', ascending=False).show(100,truncate=False)"
   ]
  },
  {
   "cell_type": "code",
   "execution_count": 18,
   "metadata": {},
   "outputs": [],
   "source": [
    "#removing cols which are repeated and may be hoighly correlated so that PCA components are more meaningful\n",
    "cols = df.drop('_c0','EDUC','CLUSTER','CBSERIAL','STRATA','HHWT','EDUCD',\\\n",
    " 'QCOSTELE',\\\n",
    " 'QCOSTFUE',\\\n",
    " 'QCOSTGAS',\\\n",
    " 'QCOSTWAT',\\\n",
    " 'QFOODSTM',\\\n",
    " 'QINSINCL',\\\n",
    " 'QMORTGAG',\\\n",
    " 'QOWNERSH',\\\n",
    " 'QPROPINS',\\\n",
    " 'QTAXINCL',\\\n",
    " 'QVALUEH',\\\n",
    " 'QFUELHEA',\\\n",
    " 'QCIDIAL',\\\n",
    " 'QCILAPTOP',\\\n",
    " 'QCINETHH',\\\n",
    " 'QCIOTHSVC',\\\n",
    " 'QCISAT',\\\n",
    " 'QCISMRTPHN',\\\n",
    " 'QCITABLET',\\\n",
    " 'QCIDATAPLN',\\\n",
    " 'QVEHICLE',\\\n",
    " 'QAGE',\\\n",
    " 'QMARRNO',\\\n",
    " 'QMARST',\\\n",
    " 'QRELATE',\\\n",
    " 'QSEX',\\\n",
    " 'QYRMARR',\\\n",
    " 'QBPL',\\\n",
    " 'QCITIZEN',\\\n",
    " 'QHISPAN',\\\n",
    " 'QRACE',\\\n",
    " 'QYRNATUR',\\\n",
    " 'QHINSEMP',\\\n",
    " 'QHINSPUR',\\\n",
    " 'QHINSTRI',\\\n",
    " 'QHINSCAI',\\\n",
    " 'QHINSCAR',\\\n",
    " 'QHINSVA',\\\n",
    " 'QHINSIHS',\\\n",
    " 'QEDUC',\\\n",
    " 'QGRADEAT',\\\n",
    " 'QDEGFIELD',\\\n",
    " 'QSCHOOL',\\\n",
    " 'QCLASSWK',\\\n",
    " 'QEMPSTAT',\\\n",
    " 'QIND',\\\n",
    " 'QOCC',\\\n",
    " 'QUHRSWOR',\\\n",
    " 'QINCEARN',\\\n",
    " 'QINCBUS',\\\n",
    " 'QINCINVS',\\\n",
    " 'QINCOTHE',\\\n",
    " 'QINCRETI',\\\n",
    " 'QINCSS',\\\n",
    " 'QINCSUPP',\\\n",
    " 'QINCTOT',\\\n",
    " 'QFTOTINC',\\\n",
    " 'QINCWAGE',\\\n",
    " 'QINCWELF',\\\n",
    " 'QVETSTAT',\\\n",
    " 'QCARPOOL',\\\n",
    " 'QDEPARTS',\\\n",
    " 'QPWSTAT2',\\\n",
    " 'QRIDERS',\\\n",
    " 'QTRANTIM',\\\n",
    " 'QTRANWOR',\\\n",
    " 'QGCHOUSE',\\\n",
    " 'QGCMONTH',\\\n",
    " 'QGCRESPO',\\\n",
    " 'INCSUPP',\\\n",
    " 'INCWAGE',\\\n",
    " 'INCBUS00',\\\n",
    " 'INCSS',\\\n",
    " 'INCWELFR',\\\n",
    " 'INCINVST',\\\n",
    " 'INCRETIR',\\\n",
    " 'INCSUPP',\\\n",
    " 'INCOTHER',\\\n",
    " 'INCEARN',\\\n",
    " 'RACE',\\\n",
    " 'RACED',\\\n",
    " 'SEI',\\\n",
    " 'CLASSWKRD',\\\n",
    " 'GRADEATTD',\\\n",
    " 'EMPSTATD',\\\n",
    " 'MULTGEND',\\\n",
    " 'OWNERSHPD',\\\n",
    " 'BPLD',\\\n",
    " 'YEAR','SAMPLE','SERIAL','PERNUM','MULTYEAR').columns\n",
    "#spark.createDataFrame(cols,StringType()).toPandas()"
   ]
  },
  {
   "cell_type": "code",
   "execution_count": 19,
   "metadata": {},
   "outputs": [],
   "source": [
    "#sampling data to use more effeciently; seed = 42\n",
    "#https://spark.apache.org/docs/latest/api/python/reference/api/pyspark.sql.DataFrame.sampleBy.html\n",
    "#https://towardsdatascience.com/exploratory-data-analysis-eda-with-pyspark-on-databricks-e8d6529626b1\n",
    "#https://www.kaggle.com/tientd95/advanced-pyspark-for-exploratory-data-analysis\n",
    "selected_cols=[cols for cols in cols if cols not in['label']]\n",
    "sampled = createSampleData(df,cols,0.1)"
   ]
  },
  {
   "cell_type": "code",
   "execution_count": 20,
   "metadata": {},
   "outputs": [
    {
     "name": "stdout",
     "output_type": "stream",
     "text": [
      "CPU times: user 17.2 s, sys: 1.64 s, total: 18.8 s\n",
      "Wall time: 2min 37s\n"
     ]
    }
   ],
   "source": [
    "%%time\n",
    "corr_df = sampled.toPandas()[selected_cols]"
   ]
  },
  {
   "cell_type": "code",
   "execution_count": 27,
   "metadata": {},
   "outputs": [
    {
     "data": {
      "image/png": "[encoded data removed]",
      "text/plain": [
       "<Figure size 1400x1000 with 2 Axes>"
      ]
     },
     "metadata": {},
     "output_type": "display_data"
    }
   ],
   "source": [
    "#https://plotly.com/python/pca-visualization/\n",
    "corr = corr_df.corr()\n",
    "plt.figure(figsize = (14, 10))\n",
    "sns.heatmap(corr, cmap=\"RdBu\",annot = False)\n",
    "            #xticklabels=corr.columns.values,\n",
    "            #yticklabels=corr.columns.values)\n",
    "plt.title('Correlation matrix')\n",
    "plt.show()\n",
    "#cadd code orrect columns to appear uniformly on access"
   ]
  },
  {
   "cell_type": "markdown",
   "metadata": {},
   "source": [
    "### Random Forest Model with dimension reduction (PCA)"
   ]
  },
  {
   "cell_type": "code",
   "execution_count": 21,
   "metadata": {},
   "outputs": [
    {
     "name": "stdout",
     "output_type": "stream",
     "text": [
      "PCA\n",
      "CPU times: user 2.07 s, sys: 543 ms, total: 2.61 s\n",
      "Wall time: 16min 18s\n"
     ]
    }
   ],
   "source": [
    "%%time\n",
    "#split data\n",
    "cached_tr_pca, cached_test_pca = splitData(sampled,split_ratio,seed)\n",
    "\n",
    "#preprocesstrain\n",
    "cv_model_pca = preProcessTrainFit(cached_tr_pca,rf,pca_model,paramGrid_pca,bcm,numFolds,seed)\n",
    "\n",
    "#preprocess test\n",
    "scaled_test_pca = preProcessTest(cached_test_pca)"
   ]
  },
  {
   "cell_type": "code",
   "execution_count": 22,
   "metadata": {},
   "outputs": [
    {
     "name": "stdout",
     "output_type": "stream",
     "text": [
      "+-----+----------+-----+\n",
      "|label|prediction|count|\n",
      "+-----+----------+-----+\n",
      "|    1|       0.0|14382|\n",
      "|    0|       0.0|54004|\n",
      "|    1|       1.0|59184|\n",
      "|    0|       1.0|19563|\n",
      "+-----+----------+-----+\n",
      "\n",
      "n precision: 0.752\n",
      "n recall: 0.805\n",
      "n accuracy: 0.769\n",
      "n F1 score: 0.777\n"
     ]
    },
    {
     "name": "stderr",
     "output_type": "stream",
     "text": [
      "/opt/conda/lib/python3.7/site-packages/sklearn/utils/validation.py:70: FutureWarning: Pass labels=[0, 1] as keyword args. From version 0.25 passing these as positional arguments will result in an error\n",
      "  FutureWarning)\n"
     ]
    },
    {
     "data": {
      "image/png": "[encoded data removed]",
      "text/plain": [
       "<Figure size 640x480 with 2 Axes>"
      ]
     },
     "metadata": {},
     "output_type": "display_data"
    }
   ],
   "source": [
    "#select the best model ffro mthe cross validator\n",
    "bestPipeline = cv_model_pca.bestModel\n",
    "\n",
    "#creating a new dataframe wiith labels features and predictions\n",
    "predictions = bestPipeline.transform(cached_test_pca)\n",
    "\n",
    "#Metrics\n",
    "#call classification metrics method to print metrics\n",
    "classificationMetrics(predictions,bcm)\n",
    "\n",
    "# Plot normalized confusion matrix\n",
    "cnf_matrix = createLabelsCM(predictions)\n",
    "plot_confusion_matrix(cnf_matrix, classes=['Not Educated','Educated'], normalize=True,\n",
    "                      title='Normalized confusion matrix')\n",
    "plt.show()"
   ]
  },
  {
   "cell_type": "code",
   "execution_count": 23,
   "metadata": {},
   "outputs": [
    {
     "data": {
      "image/png": "[encoded data removed]",
      "text/plain": [
       "<Figure size 640x480 with 1 Axes>"
      ]
     },
     "metadata": {},
     "output_type": "display_data"
    }
   ],
   "source": [
    "##PCA Loadings\n",
    "pipe = bestPipeline.stages[2]\n",
    "exp_var = pipe.explainedVariance\n",
    "#print(\"Explained Variance: \",exp_var)\n",
    "data_scaled = bestPipeline.stages[1]\n",
    "#https://stackoverflow.com/questions/22984335/recovering-features-names-of-explained-variance-ratio-in-pca-with-sklearn\n",
    "#print(pd.DataFrame(pipe.pc,columns=pd.DataFrame(data_scaled).columns,index = ['PC-0','PC-1','PC-2','PC-3','PC-4','PC-5','PC-6','PC-7','PC-8','PC-9']))\n",
    "#https://www.py4u.net/discuss/218858\n",
    "#https://datascience-enthusiast.com/Python/PCA_Spark_Python_R.html\n",
    "rows = pipe.pc.toArray().tolist()\n",
    "pca_components=['PC-0','PC-1','PC-2','PC-3','PC-4','PC-5','PC-6','PC-7','PC-8','PC-9']\n",
    "#screeplot\n",
    "plt.bar(pca_components,exp_var)\n",
    "plt.title('Scree Plot')\n",
    "plt.xlabel('Principal Component')\n",
    "plt.ylabel('Proportion of Variance Explained')\n",
    "plt.show()"
   ]
  },
  {
   "cell_type": "code",
   "execution_count": null,
   "metadata": {},
   "outputs": [],
   "source": [
    "#create a spark dataframe with pca loadings, componetns and column names for further analysis\n",
    "df_pca = spark.createDataFrame(rows,pca_components)\n",
    "df_pandas = df_pca.toPandas()\n",
    "df_pandas.index = selected_cols\n",
    "df_pandas.sort_values(by='PC-0', ascending=False)"
   ]
  },
  {
   "cell_type": "code",
   "execution_count": 39,
   "metadata": {},
   "outputs": [
    {
     "data": {
      "application/vnd.plotly.v1+json": {
       "config": {
        "plotlyServerURL": "https://plot.ly"
       },
       "data": [
        {
         "diagonal": {
          "visible": false
         },
         "dimensions": [
          {
           "axis": {
            "matches": true
           },
           "label": "PC-0",
           "values": [
            -0.002197366140727682
           ]
          },
          {
           "axis": {
            "matches": true
           },
           "label": "PC-1",
           "values": [
            0.0043766916529589805
           ]
          }
         ],
         "hovertemplate": "index=HHTYPE<br>%{xaxis.title.text}=%{x}<br>%{yaxis.title.text}=%{y}<extra></extra>",
         "legendgroup": "HHTYPE",
         "marker": {
          "color": "#636efa",
          "symbol": "circle"
         },
         "name": "HHTYPE",
         "showlegend": true,
         "type": "splom"
        },
        {
         "diagonal": {
          "visible": false
         },
         "dimensions": [
          {
           "axis": {
            "matches": true
           },
           "label": "PC-0",
           "values": [
            0.007729375455555798
           ]
          },
          {
           "axis": {
            "matches": true
           },
           "label": "PC-1",
           "values": [
            0.005397533462029397
           ]
          }
         ],
         "hovertemplate": "index=REGION<br>%{xaxis.title.text}=%{x}<br>%{yaxis.title.text}=%{y}<extra></extra>",
         "legendgroup": "REGION",
         "marker": {
          "color": "#EF553B",
          "symbol": "circle"
         },
         "name": "REGION",
         "showlegend": true,
         "type": "splom"
        },
        {
         "diagonal": {
          "visible": false
         },
         "dimensions": [
          {
           "axis": {
            "matches": true
           },
           "label": "PC-0",
           "values": [
            -0.008018059066928318
           ]
          },
          {
           "axis": {
            "matches": true
           },
           "label": "PC-1",
           "values": [
            0.010872651052490079
           ]
          }
         ],
         "hovertemplate": "index=STATEFIP<br>%{xaxis.title.text}=%{x}<br>%{yaxis.title.text}=%{y}<extra></extra>",
         "legendgroup": "STATEFIP",
         "marker": {
          "color": "#00cc96",
          "symbol": "circle"
         },
         "name": "STATEFIP",
         "showlegend": true,
         "type": "splom"
        },
        {
         "diagonal": {
          "visible": false
         },
         "dimensions": [
          {
           "axis": {
            "matches": true
           },
           "label": "PC-0",
           "values": [
            -0.012481848064971546
           ]
          },
          {
           "axis": {
            "matches": true
           },
           "label": "PC-1",
           "values": [
            0.020304289551261345
           ]
          }
         ],
         "hovertemplate": "index=COUNTYFIP<br>%{xaxis.title.text}=%{x}<br>%{yaxis.title.text}=%{y}<extra></extra>",
         "legendgroup": "COUNTYFIP",
         "marker": {
          "color": "#ab63fa",
          "symbol": "circle"
         },
         "name": "COUNTYFIP",
         "showlegend": true,
         "type": "splom"
        },
        {
         "diagonal": {
          "visible": false
         },
         "dimensions": [
          {
           "axis": {
            "matches": true
           },
           "label": "PC-0",
           "values": [
            -0.01957193054627445
           ]
          },
          {
           "axis": {
            "matches": true
           },
           "label": "PC-1",
           "values": [
            0.03039007376002023
           ]
          }
         ],
         "hovertemplate": "index=METRO<br>%{xaxis.title.text}=%{x}<br>%{yaxis.title.text}=%{y}<extra></extra>",
         "legendgroup": "METRO",
         "marker": {
          "color": "#FFA15A",
          "symbol": "circle"
         },
         "name": "METRO",
         "showlegend": true,
         "type": "splom"
        },
        {
         "diagonal": {
          "visible": false
         },
         "dimensions": [
          {
           "axis": {
            "matches": true
           },
           "label": "PC-0",
           "values": [
            0.07524894554347893
           ]
          },
          {
           "axis": {
            "matches": true
           },
           "label": "PC-1",
           "values": [
            -0.20274003315869182
           ]
          }
         ],
         "hovertemplate": "index=GQ<br>%{xaxis.title.text}=%{x}<br>%{yaxis.title.text}=%{y}<extra></extra>",
         "legendgroup": "GQ",
         "marker": {
          "color": "#19d3f3",
          "symbol": "circle"
         },
         "name": "GQ",
         "showlegend": true,
         "type": "splom"
        },
        {
         "diagonal": {
          "visible": false
         },
         "dimensions": [
          {
           "axis": {
            "matches": true
           },
           "label": "PC-0",
           "values": [
            -0.0042700727664148974
           ]
          },
          {
           "axis": {
            "matches": true
           },
           "label": "PC-1",
           "values": [
            0.09996327819119524
           ]
          }
         ],
         "hovertemplate": "index=OWNERSHP<br>%{xaxis.title.text}=%{x}<br>%{yaxis.title.text}=%{y}<extra></extra>",
         "legendgroup": "OWNERSHP",
         "marker": {
          "color": "#FF6692",
          "symbol": "circle"
         },
         "name": "OWNERSHP",
         "showlegend": true,
         "type": "splom"
        },
        {
         "diagonal": {
          "visible": false
         },
         "dimensions": [
          {
           "axis": {
            "matches": true
           },
           "label": "PC-0",
           "values": [
            -0.06850082968368601
           ]
          },
          {
           "axis": {
            "matches": true
           },
           "label": "PC-1",
           "values": [
            0.11641329933332027
           ]
          }
         ],
         "hovertemplate": "index=MORTGAGE<br>%{xaxis.title.text}=%{x}<br>%{yaxis.title.text}=%{y}<extra></extra>",
         "legendgroup": "MORTGAGE",
         "marker": {
          "color": "#B6E880",
          "symbol": "circle"
         },
         "name": "MORTGAGE",
         "showlegend": true,
         "type": "splom"
        },
        {
         "diagonal": {
          "visible": false
         },
         "dimensions": [
          {
           "axis": {
            "matches": true
           },
           "label": "PC-0",
           "values": [
            -0.060140126078085325
           ]
          },
          {
           "axis": {
            "matches": true
           },
           "label": "PC-1",
           "values": [
            0.11894188557598412
           ]
          }
         ],
         "hovertemplate": "index=TAXINCL<br>%{xaxis.title.text}=%{x}<br>%{yaxis.title.text}=%{y}<extra></extra>",
         "legendgroup": "TAXINCL",
         "marker": {
          "color": "#FF97FF",
          "symbol": "circle"
         },
         "name": "TAXINCL",
         "showlegend": true,
         "type": "splom"
        },
        {
         "diagonal": {
          "visible": false
         },
         "dimensions": [
          {
           "axis": {
            "matches": true
           },
           "label": "PC-0",
           "values": [
            -0.05851584828876554
           ]
          },
          {
           "axis": {
            "matches": true
           },
           "label": "PC-1",
           "values": [
            0.11751302621631643
           ]
          }
         ],
         "hovertemplate": "index=INSINCL<br>%{xaxis.title.text}=%{x}<br>%{yaxis.title.text}=%{y}<extra></extra>",
         "legendgroup": "INSINCL",
         "marker": {
          "color": "#FECB52",
          "symbol": "circle"
         },
         "name": "INSINCL",
         "showlegend": true,
         "type": "splom"
        },
        {
         "diagonal": {
          "visible": false
         },
         "dimensions": [
          {
           "axis": {
            "matches": true
           },
           "label": "PC-0",
           "values": [
            -0.050680114712207944
           ]
          },
          {
           "axis": {
            "matches": true
           },
           "label": "PC-1",
           "values": [
            0.060705462483001
           ]
          }
         ],
         "hovertemplate": "index=PROPINSR<br>%{xaxis.title.text}=%{x}<br>%{yaxis.title.text}=%{y}<extra></extra>",
         "legendgroup": "PROPINSR",
         "marker": {
          "color": "#636efa",
          "symbol": "circle"
         },
         "name": "PROPINSR",
         "showlegend": true,
         "type": "splom"
        },
        {
         "diagonal": {
          "visible": false
         },
         "dimensions": [
          {
           "axis": {
            "matches": true
           },
           "label": "PC-0",
           "values": [
            -0.011132765209466752
           ]
          },
          {
           "axis": {
            "matches": true
           },
           "label": "PC-1",
           "values": [
            0.08756272329918229
           ]
          }
         ],
         "hovertemplate": "index=COSTELEC<br>%{xaxis.title.text}=%{x}<br>%{yaxis.title.text}=%{y}<extra></extra>",
         "legendgroup": "COSTELEC",
         "marker": {
          "color": "#EF553B",
          "symbol": "circle"
         },
         "name": "COSTELEC",
         "showlegend": true,
         "type": "splom"
        },
        {
         "diagonal": {
          "visible": false
         },
         "dimensions": [
          {
           "axis": {
            "matches": true
           },
           "label": "PC-0",
           "values": [
            -0.010758961613894369
           ]
          },
          {
           "axis": {
            "matches": true
           },
           "label": "PC-1",
           "values": [
            0.05993962141095676
           ]
          }
         ],
         "hovertemplate": "index=COSTGAS<br>%{xaxis.title.text}=%{x}<br>%{yaxis.title.text}=%{y}<extra></extra>",
         "legendgroup": "COSTGAS",
         "marker": {
          "color": "#00cc96",
          "symbol": "circle"
         },
         "name": "COSTGAS",
         "showlegend": true,
         "type": "splom"
        },
        {
         "diagonal": {
          "visible": false
         },
         "dimensions": [
          {
           "axis": {
            "matches": true
           },
           "label": "PC-0",
           "values": [
            0.004543481357448127
           ]
          },
          {
           "axis": {
            "matches": true
           },
           "label": "PC-1",
           "values": [
            0.01336767670914265
           ]
          }
         ],
         "hovertemplate": "index=COSTWATR<br>%{xaxis.title.text}=%{x}<br>%{yaxis.title.text}=%{y}<extra></extra>",
         "legendgroup": "COSTWATR",
         "marker": {
          "color": "#ab63fa",
          "symbol": "circle"
         },
         "name": "COSTWATR",
         "showlegend": true,
         "type": "splom"
        },
        {
         "diagonal": {
          "visible": false
         },
         "dimensions": [
          {
           "axis": {
            "matches": true
           },
           "label": "PC-0",
           "values": [
            -0.05606456426135176
           ]
          },
          {
           "axis": {
            "matches": true
           },
           "label": "PC-1",
           "values": [
            0.16149468844981305
           ]
          }
         ],
         "hovertemplate": "index=COSTFUEL<br>%{xaxis.title.text}=%{x}<br>%{yaxis.title.text}=%{y}<extra></extra>",
         "legendgroup": "COSTFUEL",
         "marker": {
          "color": "#FFA15A",
          "symbol": "circle"
         },
         "name": "COSTFUEL",
         "showlegend": true,
         "type": "splom"
        },
        {
         "diagonal": {
          "visible": false
         },
         "dimensions": [
          {
           "axis": {
            "matches": true
           },
           "label": "PC-0",
           "values": [
            0.06607125468210627
           ]
          },
          {
           "axis": {
            "matches": true
           },
           "label": "PC-1",
           "values": [
            0.012108630561078963
           ]
          }
         ],
         "hovertemplate": "index=FOODSTMP<br>%{xaxis.title.text}=%{x}<br>%{yaxis.title.text}=%{y}<extra></extra>",
         "legendgroup": "FOODSTMP",
         "marker": {
          "color": "#19d3f3",
          "symbol": "circle"
         },
         "name": "FOODSTMP",
         "showlegend": true,
         "type": "splom"
        },
        {
         "diagonal": {
          "visible": false
         },
         "dimensions": [
          {
           "axis": {
            "matches": true
           },
           "label": "PC-0",
           "values": [
            0.06374611822013004
           ]
          },
          {
           "axis": {
            "matches": true
           },
           "label": "PC-1",
           "values": [
            -0.07734856938879639
           ]
          }
         ],
         "hovertemplate": "index=VALUEH<br>%{xaxis.title.text}=%{x}<br>%{yaxis.title.text}=%{y}<extra></extra>",
         "legendgroup": "VALUEH",
         "marker": {
          "color": "#FF6692",
          "symbol": "circle"
         },
         "name": "VALUEH",
         "showlegend": true,
         "type": "splom"
        },
        {
         "diagonal": {
          "visible": false
         },
         "dimensions": [
          {
           "axis": {
            "matches": true
           },
           "label": "PC-0",
           "values": [
            -0.07757520376657724
           ]
          },
          {
           "axis": {
            "matches": true
           },
           "label": "PC-1",
           "values": [
            0.210546252638566
           ]
          }
         ],
         "hovertemplate": "index=FRIDGE<br>%{xaxis.title.text}=%{x}<br>%{yaxis.title.text}=%{y}<extra></extra>",
         "legendgroup": "FRIDGE",
         "marker": {
          "color": "#B6E880",
          "symbol": "circle"
         },
         "name": "FRIDGE",
         "showlegend": true,
         "type": "splom"
        },
        {
         "diagonal": {
          "visible": false
         },
         "dimensions": [
          {
           "axis": {
            "matches": true
           },
           "label": "PC-0",
           "values": [
            0.01840173497353261
           ]
          },
          {
           "axis": {
            "matches": true
           },
           "label": "PC-1",
           "values": [
            -0.02399985280667499
           ]
          }
         ],
         "hovertemplate": "index=CINETHH<br>%{xaxis.title.text}=%{x}<br>%{yaxis.title.text}=%{y}<extra></extra>",
         "legendgroup": "CINETHH",
         "marker": {
          "color": "#FF97FF",
          "symbol": "circle"
         },
         "name": "CINETHH",
         "showlegend": true,
         "type": "splom"
        },
        {
         "diagonal": {
          "visible": false
         },
         "dimensions": [
          {
           "axis": {
            "matches": true
           },
           "label": "PC-0",
           "values": [
            -5.25056332394999e-05
           ]
          },
          {
           "axis": {
            "matches": true
           },
           "label": "PC-1",
           "values": [
            0.05535397799587691
           ]
          }
         ],
         "hovertemplate": "index=CILAPTOP<br>%{xaxis.title.text}=%{x}<br>%{yaxis.title.text}=%{y}<extra></extra>",
         "legendgroup": "CILAPTOP",
         "marker": {
          "color": "#FECB52",
          "symbol": "circle"
         },
         "name": "CILAPTOP",
         "showlegend": true,
         "type": "splom"
        },
        {
         "diagonal": {
          "visible": false
         },
         "dimensions": [
          {
           "axis": {
            "matches": true
           },
           "label": "PC-0",
           "values": [
            -0.015837675308449692
           ]
          },
          {
           "axis": {
            "matches": true
           },
           "label": "PC-1",
           "values": [
            0.04435688444628475
           ]
          }
         ],
         "hovertemplate": "index=CISMRTPHN<br>%{xaxis.title.text}=%{x}<br>%{yaxis.title.text}=%{y}<extra></extra>",
         "legendgroup": "CISMRTPHN",
         "marker": {
          "color": "#636efa",
          "symbol": "circle"
         },
         "name": "CISMRTPHN",
         "showlegend": true,
         "type": "splom"
        },
        {
         "diagonal": {
          "visible": false
         },
         "dimensions": [
          {
           "axis": {
            "matches": true
           },
           "label": "PC-0",
           "values": [
            -0.015144855999023155
           ]
          },
          {
           "axis": {
            "matches": true
           },
           "label": "PC-1",
           "values": [
            0.04799836303882304
           ]
          }
         ],
         "hovertemplate": "index=CITABLET<br>%{xaxis.title.text}=%{x}<br>%{yaxis.title.text}=%{y}<extra></extra>",
         "legendgroup": "CITABLET",
         "marker": {
          "color": "#EF553B",
          "symbol": "circle"
         },
         "name": "CITABLET",
         "showlegend": true,
         "type": "splom"
        },
        {
         "diagonal": {
          "visible": false
         },
         "dimensions": [
          {
           "axis": {
            "matches": true
           },
           "label": "PC-0",
           "values": [
            -0.061247618231064976
           ]
          },
          {
           "axis": {
            "matches": true
           },
           "label": "PC-1",
           "values": [
            0.1487086866758594
           ]
          }
         ],
         "hovertemplate": "index=CIDATAPLN<br>%{xaxis.title.text}=%{x}<br>%{yaxis.title.text}=%{y}<extra></extra>",
         "legendgroup": "CIDATAPLN",
         "marker": {
          "color": "#00cc96",
          "symbol": "circle"
         },
         "name": "CIDATAPLN",
         "showlegend": true,
         "type": "splom"
        },
        {
         "diagonal": {
          "visible": false
         },
         "dimensions": [
          {
           "axis": {
            "matches": true
           },
           "label": "PC-0",
           "values": [
            -0.055391594840692254
           ]
          },
          {
           "axis": {
            "matches": true
           },
           "label": "PC-1",
           "values": [
            0.15565520367592364
           ]
          }
         ],
         "hovertemplate": "index=CIHISPEED<br>%{xaxis.title.text}=%{x}<br>%{yaxis.title.text}=%{y}<extra></extra>",
         "legendgroup": "CIHISPEED",
         "marker": {
          "color": "#ab63fa",
          "symbol": "circle"
         },
         "name": "CIHISPEED",
         "showlegend": true,
         "type": "splom"
        },
        {
         "diagonal": {
          "visible": false
         },
         "dimensions": [
          {
           "axis": {
            "matches": true
           },
           "label": "PC-0",
           "values": [
            -0.07934542822026733
           ]
          },
          {
           "axis": {
            "matches": true
           },
           "label": "PC-1",
           "values": [
            0.19276825195528316
           ]
          }
         ],
         "hovertemplate": "index=CISAT<br>%{xaxis.title.text}=%{x}<br>%{yaxis.title.text}=%{y}<extra></extra>",
         "legendgroup": "CISAT",
         "marker": {
          "color": "#FFA15A",
          "symbol": "circle"
         },
         "name": "CISAT",
         "showlegend": true,
         "type": "splom"
        },
        {
         "diagonal": {
          "visible": false
         },
         "dimensions": [
          {
           "axis": {
            "matches": true
           },
           "label": "PC-0",
           "values": [
            -0.08250521318177649
           ]
          },
          {
           "axis": {
            "matches": true
           },
           "label": "PC-1",
           "values": [
            0.2002509036107458
           ]
          }
         ],
         "hovertemplate": "index=CIDIAL<br>%{xaxis.title.text}=%{x}<br>%{yaxis.title.text}=%{y}<extra></extra>",
         "legendgroup": "CIDIAL",
         "marker": {
          "color": "#19d3f3",
          "symbol": "circle"
         },
         "name": "CIDIAL",
         "showlegend": true,
         "type": "splom"
        },
        {
         "diagonal": {
          "visible": false
         },
         "dimensions": [
          {
           "axis": {
            "matches": true
           },
           "label": "PC-0",
           "values": [
            -0.08288548606472473
           ]
          },
          {
           "axis": {
            "matches": true
           },
           "label": "PC-1",
           "values": [
            0.19998384341509173
           ]
          }
         ],
         "hovertemplate": "index=CIOTHSVC<br>%{xaxis.title.text}=%{x}<br>%{yaxis.title.text}=%{y}<extra></extra>",
         "legendgroup": "CIOTHSVC",
         "marker": {
          "color": "#FF6692",
          "symbol": "circle"
         },
         "name": "CIOTHSVC",
         "showlegend": true,
         "type": "splom"
        },
        {
         "diagonal": {
          "visible": false
         },
         "dimensions": [
          {
           "axis": {
            "matches": true
           },
           "label": "PC-0",
           "values": [
            -0.03476087377534315
           ]
          },
          {
           "axis": {
            "matches": true
           },
           "label": "PC-1",
           "values": [
            0.11522315771688593
           ]
          }
         ],
         "hovertemplate": "index=FUELHEAT<br>%{xaxis.title.text}=%{x}<br>%{yaxis.title.text}=%{y}<extra></extra>",
         "legendgroup": "FUELHEAT",
         "marker": {
          "color": "#B6E880",
          "symbol": "circle"
         },
         "name": "FUELHEAT",
         "showlegend": true,
         "type": "splom"
        },
        {
         "diagonal": {
          "visible": false
         },
         "dimensions": [
          {
           "axis": {
            "matches": true
           },
           "label": "PC-0",
           "values": [
            -0.01782919191648064
           ]
          },
          {
           "axis": {
            "matches": true
           },
           "label": "PC-1",
           "values": [
            0.07327426282881626
           ]
          }
         ],
         "hovertemplate": "index=VEHICLES<br>%{xaxis.title.text}=%{x}<br>%{yaxis.title.text}=%{y}<extra></extra>",
         "legendgroup": "VEHICLES",
         "marker": {
          "color": "#FF97FF",
          "symbol": "circle"
         },
         "name": "VEHICLES",
         "showlegend": true,
         "type": "splom"
        },
        {
         "diagonal": {
          "visible": false
         },
         "dimensions": [
          {
           "axis": {
            "matches": true
           },
           "label": "PC-0",
           "values": [
            -0.034622823109830794
           ]
          },
          {
           "axis": {
            "matches": true
           },
           "label": "PC-1",
           "values": [
            0.09726331351226167
           ]
          }
         ],
         "hovertemplate": "index=COUPLETYPE<br>%{xaxis.title.text}=%{x}<br>%{yaxis.title.text}=%{y}<extra></extra>",
         "legendgroup": "COUPLETYPE",
         "marker": {
          "color": "#FECB52",
          "symbol": "circle"
         },
         "name": "COUPLETYPE",
         "showlegend": true,
         "type": "splom"
        },
        {
         "diagonal": {
          "visible": false
         },
         "dimensions": [
          {
           "axis": {
            "matches": true
           },
           "label": "PC-0",
           "values": [
            -0.00819402298553557
           ]
          },
          {
           "axis": {
            "matches": true
           },
           "label": "PC-1",
           "values": [
            0.0025413741042963514
           ]
          }
         ],
         "hovertemplate": "index=SSMC<br>%{xaxis.title.text}=%{x}<br>%{yaxis.title.text}=%{y}<extra></extra>",
         "legendgroup": "SSMC",
         "marker": {
          "color": "#636efa",
          "symbol": "circle"
         },
         "name": "SSMC",
         "showlegend": true,
         "type": "splom"
        },
        {
         "diagonal": {
          "visible": false
         },
         "dimensions": [
          {
           "axis": {
            "matches": true
           },
           "label": "PC-0",
           "values": [
            0.0043746303850176645
           ]
          },
          {
           "axis": {
            "matches": true
           },
           "label": "PC-1",
           "values": [
            -0.0009530117278239484
           ]
          }
         ],
         "hovertemplate": "index=NFAMS<br>%{xaxis.title.text}=%{x}<br>%{yaxis.title.text}=%{y}<extra></extra>",
         "legendgroup": "NFAMS",
         "marker": {
          "color": "#EF553B",
          "symbol": "circle"
         },
         "name": "NFAMS",
         "showlegend": true,
         "type": "splom"
        },
        {
         "diagonal": {
          "visible": false
         },
         "dimensions": [
          {
           "axis": {
            "matches": true
           },
           "label": "PC-0",
           "values": [
            0.015968329114199886
           ]
          },
          {
           "axis": {
            "matches": true
           },
           "label": "PC-1",
           "values": [
            0.051831984014388384
           ]
          }
         ],
         "hovertemplate": "index=NSUBFAM<br>%{xaxis.title.text}=%{x}<br>%{yaxis.title.text}=%{y}<extra></extra>",
         "legendgroup": "NSUBFAM",
         "marker": {
          "color": "#00cc96",
          "symbol": "circle"
         },
         "name": "NSUBFAM",
         "showlegend": true,
         "type": "splom"
        },
        {
         "diagonal": {
          "visible": false
         },
         "dimensions": [
          {
           "axis": {
            "matches": true
           },
           "label": "PC-0",
           "values": [
            -0.05171363133809853
           ]
          },
          {
           "axis": {
            "matches": true
           },
           "label": "PC-1",
           "values": [
            0.12766007259613657
           ]
          }
         ],
         "hovertemplate": "index=NCOUPLES<br>%{xaxis.title.text}=%{x}<br>%{yaxis.title.text}=%{y}<extra></extra>",
         "legendgroup": "NCOUPLES",
         "marker": {
          "color": "#ab63fa",
          "symbol": "circle"
         },
         "name": "NCOUPLES",
         "showlegend": true,
         "type": "splom"
        },
        {
         "diagonal": {
          "visible": false
         },
         "dimensions": [
          {
           "axis": {
            "matches": true
           },
           "label": "PC-0",
           "values": [
            0.0313352101217558
           ]
          },
          {
           "axis": {
            "matches": true
           },
           "label": "PC-1",
           "values": [
            0.17667648928825577
           ]
          }
         ],
         "hovertemplate": "index=NMOTHERS<br>%{xaxis.title.text}=%{x}<br>%{yaxis.title.text}=%{y}<extra></extra>",
         "legendgroup": "NMOTHERS",
         "marker": {
          "color": "#FFA15A",
          "symbol": "circle"
         },
         "name": "NMOTHERS",
         "showlegend": true,
         "type": "splom"
        },
        {
         "diagonal": {
          "visible": false
         },
         "dimensions": [
          {
           "axis": {
            "matches": true
           },
           "label": "PC-0",
           "values": [
            0.010378272540670459
           ]
          },
          {
           "axis": {
            "matches": true
           },
           "label": "PC-1",
           "values": [
            0.17352149129437464
           ]
          }
         ],
         "hovertemplate": "index=NFATHERS<br>%{xaxis.title.text}=%{x}<br>%{yaxis.title.text}=%{y}<extra></extra>",
         "legendgroup": "NFATHERS",
         "marker": {
          "color": "#19d3f3",
          "symbol": "circle"
         },
         "name": "NFATHERS",
         "showlegend": true,
         "type": "splom"
        },
        {
         "diagonal": {
          "visible": false
         },
         "dimensions": [
          {
           "axis": {
            "matches": true
           },
           "label": "PC-0",
           "values": [
            0.009756837713306587
           ]
          },
          {
           "axis": {
            "matches": true
           },
           "label": "PC-1",
           "values": [
            0.22159033488795993
           ]
          }
         ],
         "hovertemplate": "index=MULTGEN<br>%{xaxis.title.text}=%{x}<br>%{yaxis.title.text}=%{y}<extra></extra>",
         "legendgroup": "MULTGEN",
         "marker": {
          "color": "#FF6692",
          "symbol": "circle"
         },
         "name": "MULTGEN",
         "showlegend": true,
         "type": "splom"
        },
        {
         "diagonal": {
          "visible": false
         },
         "dimensions": [
          {
           "axis": {
            "matches": true
           },
           "label": "PC-0",
           "values": [
            -0.06702033112377527
           ]
          },
          {
           "axis": {
            "matches": true
           },
           "label": "PC-1",
           "values": [
            0.16197821168604098
           ]
          }
         ],
         "hovertemplate": "index=RESPMODE<br>%{xaxis.title.text}=%{x}<br>%{yaxis.title.text}=%{y}<extra></extra>",
         "legendgroup": "RESPMODE",
         "marker": {
          "color": "#B6E880",
          "symbol": "circle"
         },
         "name": "RESPMODE",
         "showlegend": true,
         "type": "splom"
        },
        {
         "diagonal": {
          "visible": false
         },
         "dimensions": [
          {
           "axis": {
            "matches": true
           },
           "label": "PC-0",
           "values": [
            0.008517055101127257
           ]
          },
          {
           "axis": {
            "matches": true
           },
           "label": "PC-1",
           "values": [
            0.05151315706598594
           ]
          }
         ],
         "hovertemplate": "index=PERWT<br>%{xaxis.title.text}=%{x}<br>%{yaxis.title.text}=%{y}<extra></extra>",
         "legendgroup": "PERWT",
         "marker": {
          "color": "#FF97FF",
          "symbol": "circle"
         },
         "name": "PERWT",
         "showlegend": true,
         "type": "splom"
        },
        {
         "diagonal": {
          "visible": false
         },
         "dimensions": [
          {
           "axis": {
            "matches": true
           },
           "label": "PC-0",
           "values": [
            0.10463036020060727
           ]
          },
          {
           "axis": {
            "matches": true
           },
           "label": "PC-1",
           "values": [
            -0.09743941219666497
           ]
          }
         ],
         "hovertemplate": "index=RELATE<br>%{xaxis.title.text}=%{x}<br>%{yaxis.title.text}=%{y}<extra></extra>",
         "legendgroup": "RELATE",
         "marker": {
          "color": "#FECB52",
          "symbol": "circle"
         },
         "name": "RELATE",
         "showlegend": true,
         "type": "splom"
        },
        {
         "diagonal": {
          "visible": false
         },
         "dimensions": [
          {
           "axis": {
            "matches": true
           },
           "label": "PC-0",
           "values": [
            0.1040173021605532
           ]
          },
          {
           "axis": {
            "matches": true
           },
           "label": "PC-1",
           "values": [
            -0.0993030054940326
           ]
          }
         ],
         "hovertemplate": "index=RELATED<br>%{xaxis.title.text}=%{x}<br>%{yaxis.title.text}=%{y}<extra></extra>",
         "legendgroup": "RELATED",
         "marker": {
          "color": "#636efa",
          "symbol": "circle"
         },
         "name": "RELATED",
         "showlegend": true,
         "type": "splom"
        },
        {
         "diagonal": {
          "visible": false
         },
         "dimensions": [
          {
           "axis": {
            "matches": true
           },
           "label": "PC-0",
           "values": [
            0.010456729108058825
           ]
          },
          {
           "axis": {
            "matches": true
           },
           "label": "PC-1",
           "values": [
            0.008238097128282296
           ]
          }
         ],
         "hovertemplate": "index=SEX<br>%{xaxis.title.text}=%{x}<br>%{yaxis.title.text}=%{y}<extra></extra>",
         "legendgroup": "SEX",
         "marker": {
          "color": "#EF553B",
          "symbol": "circle"
         },
         "name": "SEX",
         "showlegend": true,
         "type": "splom"
        },
        {
         "diagonal": {
          "visible": false
         },
         "dimensions": [
          {
           "axis": {
            "matches": true
           },
           "label": "PC-0",
           "values": [
            -0.10142287034823831
           ]
          },
          {
           "axis": {
            "matches": true
           },
           "label": "PC-1",
           "values": [
            -0.19271954898194946
           ]
          }
         ],
         "hovertemplate": "index=AGE<br>%{xaxis.title.text}=%{x}<br>%{yaxis.title.text}=%{y}<extra></extra>",
         "legendgroup": "AGE",
         "marker": {
          "color": "#00cc96",
          "symbol": "circle"
         },
         "name": "AGE",
         "showlegend": true,
         "type": "splom"
        },
        {
         "diagonal": {
          "visible": false
         },
         "dimensions": [
          {
           "axis": {
            "matches": true
           },
           "label": "PC-0",
           "values": [
            0.15141777195906575
           ]
          },
          {
           "axis": {
            "matches": true
           },
           "label": "PC-1",
           "values": [
            0.05683483913491883
           ]
          }
         ],
         "hovertemplate": "index=MARST<br>%{xaxis.title.text}=%{x}<br>%{yaxis.title.text}=%{y}<extra></extra>",
         "legendgroup": "MARST",
         "marker": {
          "color": "#ab63fa",
          "symbol": "circle"
         },
         "name": "MARST",
         "showlegend": true,
         "type": "splom"
        },
        {
         "diagonal": {
          "visible": false
         },
         "dimensions": [
          {
           "axis": {
            "matches": true
           },
           "label": "PC-0",
           "values": [
            0.10105478312337272
           ]
          },
          {
           "axis": {
            "matches": true
           },
           "label": "PC-1",
           "values": [
            0.19287406441875693
           ]
          }
         ],
         "hovertemplate": "index=BIRTHYR<br>%{xaxis.title.text}=%{x}<br>%{yaxis.title.text}=%{y}<extra></extra>",
         "legendgroup": "BIRTHYR",
         "marker": {
          "color": "#FFA15A",
          "symbol": "circle"
         },
         "name": "BIRTHYR",
         "showlegend": true,
         "type": "splom"
        },
        {
         "diagonal": {
          "visible": false
         },
         "dimensions": [
          {
           "axis": {
            "matches": true
           },
           "label": "PC-0",
           "values": [
            -0.11320254704955933
           ]
          },
          {
           "axis": {
            "matches": true
           },
           "label": "PC-1",
           "values": [
            -0.10221934834869821
           ]
          }
         ],
         "hovertemplate": "index=MARRNO<br>%{xaxis.title.text}=%{x}<br>%{yaxis.title.text}=%{y}<extra></extra>",
         "legendgroup": "MARRNO",
         "marker": {
          "color": "#19d3f3",
          "symbol": "circle"
         },
         "name": "MARRNO",
         "showlegend": true,
         "type": "splom"
        },
        {
         "diagonal": {
          "visible": false
         },
         "dimensions": [
          {
           "axis": {
            "matches": true
           },
           "label": "PC-0",
           "values": [
            -0.14511688177411847
           ]
          },
          {
           "axis": {
            "matches": true
           },
           "label": "PC-1",
           "values": [
            -0.10769922896322637
           ]
          }
         ],
         "hovertemplate": "index=YRMARR<br>%{xaxis.title.text}=%{x}<br>%{yaxis.title.text}=%{y}<extra></extra>",
         "legendgroup": "YRMARR",
         "marker": {
          "color": "#FF6692",
          "symbol": "circle"
         },
         "name": "YRMARR",
         "showlegend": true,
         "type": "splom"
        },
        {
         "diagonal": {
          "visible": false
         },
         "dimensions": [
          {
           "axis": {
            "matches": true
           },
           "label": "PC-0",
           "values": [
            0.009190972375887143
           ]
          },
          {
           "axis": {
            "matches": true
           },
           "label": "PC-1",
           "values": [
            0.028648027813858615
           ]
          }
         ],
         "hovertemplate": "index=HISPAN<br>%{xaxis.title.text}=%{x}<br>%{yaxis.title.text}=%{y}<extra></extra>",
         "legendgroup": "HISPAN",
         "marker": {
          "color": "#B6E880",
          "symbol": "circle"
         },
         "name": "HISPAN",
         "showlegend": true,
         "type": "splom"
        },
        {
         "diagonal": {
          "visible": false
         },
         "dimensions": [
          {
           "axis": {
            "matches": true
           },
           "label": "PC-0",
           "values": [
            0.0091032332224092
           ]
          },
          {
           "axis": {
            "matches": true
           },
           "label": "PC-1",
           "values": [
            0.02795722676589132
           ]
          }
         ],
         "hovertemplate": "index=HISPAND<br>%{xaxis.title.text}=%{x}<br>%{yaxis.title.text}=%{y}<extra></extra>",
         "legendgroup": "HISPAND",
         "marker": {
          "color": "#FF97FF",
          "symbol": "circle"
         },
         "name": "HISPAND",
         "showlegend": true,
         "type": "splom"
        },
        {
         "diagonal": {
          "visible": false
         },
         "dimensions": [
          {
           "axis": {
            "matches": true
           },
           "label": "PC-0",
           "values": [
            -0.03543148520835832
           ]
          },
          {
           "axis": {
            "matches": true
           },
           "label": "PC-1",
           "values": [
            0.0033643425565843404
           ]
          }
         ],
         "hovertemplate": "index=BPL<br>%{xaxis.title.text}=%{x}<br>%{yaxis.title.text}=%{y}<extra></extra>",
         "legendgroup": "BPL",
         "marker": {
          "color": "#FECB52",
          "symbol": "circle"
         },
         "name": "BPL",
         "showlegend": true,
         "type": "splom"
        },
        {
         "diagonal": {
          "visible": false
         },
         "dimensions": [
          {
           "axis": {
            "matches": true
           },
           "label": "PC-0",
           "values": [
            -0.03103528425257282
           ]
          },
          {
           "axis": {
            "matches": true
           },
           "label": "PC-1",
           "values": [
            -0.00022546682603054435
           ]
          }
         ],
         "hovertemplate": "index=CITIZEN<br>%{xaxis.title.text}=%{x}<br>%{yaxis.title.text}=%{y}<extra></extra>",
         "legendgroup": "CITIZEN",
         "marker": {
          "color": "#636efa",
          "symbol": "circle"
         },
         "name": "CITIZEN",
         "showlegend": true,
         "type": "splom"
        },
        {
         "diagonal": {
          "visible": false
         },
         "dimensions": [
          {
           "axis": {
            "matches": true
           },
           "label": "PC-0",
           "values": [
            0.034498247687285696
           ]
          },
          {
           "axis": {
            "matches": true
           },
           "label": "PC-1",
           "values": [
            0.0027814211249308014
           ]
          }
         ],
         "hovertemplate": "index=YRNATUR<br>%{xaxis.title.text}=%{x}<br>%{yaxis.title.text}=%{y}<extra></extra>",
         "legendgroup": "YRNATUR",
         "marker": {
          "color": "#EF553B",
          "symbol": "circle"
         },
         "name": "YRNATUR",
         "showlegend": true,
         "type": "splom"
        },
        {
         "diagonal": {
          "visible": false
         },
         "dimensions": [
          {
           "axis": {
            "matches": true
           },
           "label": "PC-0",
           "values": [
            -0.034730107540932156
           ]
          },
          {
           "axis": {
            "matches": true
           },
           "label": "PC-1",
           "values": [
            0.00042873601249863243
           ]
          }
         ],
         "hovertemplate": "index=YRIMMIG<br>%{xaxis.title.text}=%{x}<br>%{yaxis.title.text}=%{y}<extra></extra>",
         "legendgroup": "YRIMMIG",
         "marker": {
          "color": "#00cc96",
          "symbol": "circle"
         },
         "name": "YRIMMIG",
         "showlegend": true,
         "type": "splom"
        },
        {
         "diagonal": {
          "visible": false
         },
         "dimensions": [
          {
           "axis": {
            "matches": true
           },
           "label": "PC-0",
           "values": [
            -0.034311562123848206
           ]
          },
          {
           "axis": {
            "matches": true
           },
           "label": "PC-1",
           "values": [
            -0.016182577947720257
           ]
          }
         ],
         "hovertemplate": "index=YRSUSA1<br>%{xaxis.title.text}=%{x}<br>%{yaxis.title.text}=%{y}<extra></extra>",
         "legendgroup": "YRSUSA1",
         "marker": {
          "color": "#ab63fa",
          "symbol": "circle"
         },
         "name": "YRSUSA1",
         "showlegend": true,
         "type": "splom"
        },
        {
         "diagonal": {
          "visible": false
         },
         "dimensions": [
          {
           "axis": {
            "matches": true
           },
           "label": "PC-0",
           "values": [
            0.00887346081829542
           ]
          },
          {
           "axis": {
            "matches": true
           },
           "label": "PC-1",
           "values": [
            -0.0009944852765307692
           ]
          }
         ],
         "hovertemplate": "index=RACAMIND<br>%{xaxis.title.text}=%{x}<br>%{yaxis.title.text}=%{y}<extra></extra>",
         "legendgroup": "RACAMIND",
         "marker": {
          "color": "#FFA15A",
          "symbol": "circle"
         },
         "name": "RACAMIND",
         "showlegend": true,
         "type": "splom"
        },
        {
         "diagonal": {
          "visible": false
         },
         "dimensions": [
          {
           "axis": {
            "matches": true
           },
           "label": "PC-0",
           "values": [
            -0.00926602433736818
           ]
          },
          {
           "axis": {
            "matches": true
           },
           "label": "PC-1",
           "values": [
            0.02315721416822388
           ]
          }
         ],
         "hovertemplate": "index=RACASIAN<br>%{xaxis.title.text}=%{x}<br>%{yaxis.title.text}=%{y}<extra></extra>",
         "legendgroup": "RACASIAN",
         "marker": {
          "color": "#19d3f3",
          "symbol": "circle"
         },
         "name": "RACASIAN",
         "showlegend": true,
         "type": "splom"
        },
        {
         "diagonal": {
          "visible": false
         },
         "dimensions": [
          {
           "axis": {
            "matches": true
           },
           "label": "PC-0",
           "values": [
            0.03494987618958352
           ]
          },
          {
           "axis": {
            "matches": true
           },
           "label": "PC-1",
           "values": [
            -0.02487353431354165
           ]
          }
         ],
         "hovertemplate": "index=RACBLK<br>%{xaxis.title.text}=%{x}<br>%{yaxis.title.text}=%{y}<extra></extra>",
         "legendgroup": "RACBLK",
         "marker": {
          "color": "#FF6692",
          "symbol": "circle"
         },
         "name": "RACBLK",
         "showlegend": true,
         "type": "splom"
        },
        {
         "diagonal": {
          "visible": false
         },
         "dimensions": [
          {
           "axis": {
            "matches": true
           },
           "label": "PC-0",
           "values": [
            0.0012023381571368624
           ]
          },
          {
           "axis": {
            "matches": true
           },
           "label": "PC-1",
           "values": [
            0.0017315070889057876
           ]
          }
         ],
         "hovertemplate": "index=RACPACIS<br>%{xaxis.title.text}=%{x}<br>%{yaxis.title.text}=%{y}<extra></extra>",
         "legendgroup": "RACPACIS",
         "marker": {
          "color": "#B6E880",
          "symbol": "circle"
         },
         "name": "RACPACIS",
         "showlegend": true,
         "type": "splom"
        },
        {
         "diagonal": {
          "visible": false
         },
         "dimensions": [
          {
           "axis": {
            "matches": true
           },
           "label": "PC-0",
           "values": [
            -0.026314224632623
           ]
          },
          {
           "axis": {
            "matches": true
           },
           "label": "PC-1",
           "values": [
            0.01299145590612456
           ]
          }
         ],
         "hovertemplate": "index=RACWHT<br>%{xaxis.title.text}=%{x}<br>%{yaxis.title.text}=%{y}<extra></extra>",
         "legendgroup": "RACWHT",
         "marker": {
          "color": "#FF97FF",
          "symbol": "circle"
         },
         "name": "RACWHT",
         "showlegend": true,
         "type": "splom"
        },
        {
         "diagonal": {
          "visible": false
         },
         "dimensions": [
          {
           "axis": {
            "matches": true
           },
           "label": "PC-0",
           "values": [
            0.010055050407232796
           ]
          },
          {
           "axis": {
            "matches": true
           },
           "label": "PC-1",
           "values": [
            0.015989294724621437
           ]
          }
         ],
         "hovertemplate": "index=RACOTHER<br>%{xaxis.title.text}=%{x}<br>%{yaxis.title.text}=%{y}<extra></extra>",
         "legendgroup": "RACOTHER",
         "marker": {
          "color": "#FECB52",
          "symbol": "circle"
         },
         "name": "RACOTHER",
         "showlegend": true,
         "type": "splom"
        },
        {
         "diagonal": {
          "visible": false
         },
         "dimensions": [
          {
           "axis": {
            "matches": true
           },
           "label": "PC-0",
           "values": [
            -0.015155097910405714
           ]
          },
          {
           "axis": {
            "matches": true
           },
           "label": "PC-1",
           "values": [
            0.03440226066959653
           ]
          }
         ],
         "hovertemplate": "index=HCOVANY<br>%{xaxis.title.text}=%{x}<br>%{yaxis.title.text}=%{y}<extra></extra>",
         "legendgroup": "HCOVANY",
         "marker": {
          "color": "#636efa",
          "symbol": "circle"
         },
         "name": "HCOVANY",
         "showlegend": true,
         "type": "splom"
        },
        {
         "diagonal": {
          "visible": false
         },
         "dimensions": [
          {
           "axis": {
            "matches": true
           },
           "label": "PC-0",
           "values": [
            -0.10414626493195338
           ]
          },
          {
           "axis": {
            "matches": true
           },
           "label": "PC-1",
           "values": [
            0.06453122574945605
           ]
          }
         ],
         "hovertemplate": "index=HCOVPRIV<br>%{xaxis.title.text}=%{x}<br>%{yaxis.title.text}=%{y}<extra></extra>",
         "legendgroup": "HCOVPRIV",
         "marker": {
          "color": "#EF553B",
          "symbol": "circle"
         },
         "name": "HCOVPRIV",
         "showlegend": true,
         "type": "splom"
        },
        {
         "diagonal": {
          "visible": false
         },
         "dimensions": [
          {
           "axis": {
            "matches": true
           },
           "label": "PC-0",
           "values": [
            -0.09657228008268894
           ]
          },
          {
           "axis": {
            "matches": true
           },
           "label": "PC-1",
           "values": [
            0.085750455642105
           ]
          }
         ],
         "hovertemplate": "index=HINSEMP<br>%{xaxis.title.text}=%{x}<br>%{yaxis.title.text}=%{y}<extra></extra>",
         "legendgroup": "HINSEMP",
         "marker": {
          "color": "#00cc96",
          "symbol": "circle"
         },
         "name": "HINSEMP",
         "showlegend": true,
         "type": "splom"
        },
        {
         "diagonal": {
          "visible": false
         },
         "dimensions": [
          {
           "axis": {
            "matches": true
           },
           "label": "PC-0",
           "values": [
            -0.005984758706535915
           ]
          },
          {
           "axis": {
            "matches": true
           },
           "label": "PC-1",
           "values": [
            -0.03678752847311694
           ]
          }
         ],
         "hovertemplate": "index=HINSPUR<br>%{xaxis.title.text}=%{x}<br>%{yaxis.title.text}=%{y}<extra></extra>",
         "legendgroup": "HINSPUR",
         "marker": {
          "color": "#ab63fa",
          "symbol": "circle"
         },
         "name": "HINSPUR",
         "showlegend": true,
         "type": "splom"
        },
        {
         "diagonal": {
          "visible": false
         },
         "dimensions": [
          {
           "axis": {
            "matches": true
           },
           "label": "PC-0",
           "values": [
            -0.005898137417128748
           ]
          },
          {
           "axis": {
            "matches": true
           },
           "label": "PC-1",
           "values": [
            -0.0211400191448643
           ]
          }
         ],
         "hovertemplate": "index=HINSTRI<br>%{xaxis.title.text}=%{x}<br>%{yaxis.title.text}=%{y}<extra></extra>",
         "legendgroup": "HINSTRI",
         "marker": {
          "color": "#FFA15A",
          "symbol": "circle"
         },
         "name": "HINSTRI",
         "showlegend": true,
         "type": "splom"
        },
        {
         "diagonal": {
          "visible": false
         },
         "dimensions": [
          {
           "axis": {
            "matches": true
           },
           "label": "PC-0",
           "values": [
            0.09477480542128432
           ]
          },
          {
           "axis": {
            "matches": true
           },
           "label": "PC-1",
           "values": [
            -0.10051543336038417
           ]
          }
         ],
         "hovertemplate": "index=HCOVPUB<br>%{xaxis.title.text}=%{x}<br>%{yaxis.title.text}=%{y}<extra></extra>",
         "legendgroup": "HCOVPUB",
         "marker": {
          "color": "#19d3f3",
          "symbol": "circle"
         },
         "name": "HCOVPUB",
         "showlegend": true,
         "type": "splom"
        },
        {
         "diagonal": {
          "visible": false
         },
         "dimensions": [
          {
           "axis": {
            "matches": true
           },
           "label": "PC-0",
           "values": [
            0.1157816604316089
           ]
          },
          {
           "axis": {
            "matches": true
           },
           "label": "PC-1",
           "values": [
            -0.003880814248442217
           ]
          }
         ],
         "hovertemplate": "index=HINSCAID<br>%{xaxis.title.text}=%{x}<br>%{yaxis.title.text}=%{y}<extra></extra>",
         "legendgroup": "HINSCAID",
         "marker": {
          "color": "#FF6692",
          "symbol": "circle"
         },
         "name": "HINSCAID",
         "showlegend": true,
         "type": "splom"
        },
        {
         "diagonal": {
          "visible": false
         },
         "dimensions": [
          {
           "axis": {
            "matches": true
           },
           "label": "PC-0",
           "values": [
            0.029213662545201767
           ]
          },
          {
           "axis": {
            "matches": true
           },
           "label": "PC-1",
           "values": [
            -0.14560877166708341
           ]
          }
         ],
         "hovertemplate": "index=HINSCARE<br>%{xaxis.title.text}=%{x}<br>%{yaxis.title.text}=%{y}<extra></extra>",
         "legendgroup": "HINSCARE",
         "marker": {
          "color": "#B6E880",
          "symbol": "circle"
         },
         "name": "HINSCARE",
         "showlegend": true,
         "type": "splom"
        },
        {
         "diagonal": {
          "visible": false
         },
         "dimensions": [
          {
           "axis": {
            "matches": true
           },
           "label": "PC-0",
           "values": [
            -0.010728321919812798
           ]
          },
          {
           "axis": {
            "matches": true
           },
           "label": "PC-1",
           "values": [
            -0.04983098381769478
           ]
          }
         ],
         "hovertemplate": "index=HINSVA<br>%{xaxis.title.text}=%{x}<br>%{yaxis.title.text}=%{y}<extra></extra>",
         "legendgroup": "HINSVA",
         "marker": {
          "color": "#FF97FF",
          "symbol": "circle"
         },
         "name": "HINSVA",
         "showlegend": true,
         "type": "splom"
        },
        {
         "diagonal": {
          "visible": false
         },
         "dimensions": [
          {
           "axis": {
            "matches": true
           },
           "label": "PC-0",
           "values": [
            0.007433933234076861
           ]
          },
          {
           "axis": {
            "matches": true
           },
           "label": "PC-1",
           "values": [
            0.0008966188976270954
           ]
          }
         ],
         "hovertemplate": "index=HINSIHS<br>%{xaxis.title.text}=%{x}<br>%{yaxis.title.text}=%{y}<extra></extra>",
         "legendgroup": "HINSIHS",
         "marker": {
          "color": "#FECB52",
          "symbol": "circle"
         },
         "name": "HINSIHS",
         "showlegend": true,
         "type": "splom"
        },
        {
         "diagonal": {
          "visible": false
         },
         "dimensions": [
          {
           "axis": {
            "matches": true
           },
           "label": "PC-0",
           "values": [
            0.10422782007499475
           ]
          },
          {
           "axis": {
            "matches": true
           },
           "label": "PC-1",
           "values": [
            0.09440998074706321
           ]
          }
         ],
         "hovertemplate": "index=SCHOOL<br>%{xaxis.title.text}=%{x}<br>%{yaxis.title.text}=%{y}<extra></extra>",
         "legendgroup": "SCHOOL",
         "marker": {
          "color": "#636efa",
          "symbol": "circle"
         },
         "name": "SCHOOL",
         "showlegend": true,
         "type": "splom"
        },
        {
         "diagonal": {
          "visible": false
         },
         "dimensions": [
          {
           "axis": {
            "matches": true
           },
           "label": "PC-0",
           "values": [
            0.10199238363305445
           ]
          },
          {
           "axis": {
            "matches": true
           },
           "label": "PC-1",
           "values": [
            0.08659438312390667
           ]
          }
         ],
         "hovertemplate": "index=GRADEATT<br>%{xaxis.title.text}=%{x}<br>%{yaxis.title.text}=%{y}<extra></extra>",
         "legendgroup": "GRADEATT",
         "marker": {
          "color": "#EF553B",
          "symbol": "circle"
         },
         "name": "GRADEATT",
         "showlegend": true,
         "type": "splom"
        },
        {
         "diagonal": {
          "visible": false
         },
         "dimensions": [
          {
           "axis": {
            "matches": true
           },
           "label": "PC-0",
           "values": [
            0.10166063002155303
           ]
          },
          {
           "axis": {
            "matches": true
           },
           "label": "PC-1",
           "values": [
            0.09063545678747333
           ]
          }
         ],
         "hovertemplate": "index=SCHLTYPE<br>%{xaxis.title.text}=%{x}<br>%{yaxis.title.text}=%{y}<extra></extra>",
         "legendgroup": "SCHLTYPE",
         "marker": {
          "color": "#00cc96",
          "symbol": "circle"
         },
         "name": "SCHLTYPE",
         "showlegend": true,
         "type": "splom"
        },
        {
         "diagonal": {
          "visible": false
         },
         "dimensions": [
          {
           "axis": {
            "matches": true
           },
           "label": "PC-0",
           "values": [
            -0.10978391150610903
           ]
          },
          {
           "axis": {
            "matches": true
           },
           "label": "PC-1",
           "values": [
            -0.0051388276620875075
           ]
          }
         ],
         "hovertemplate": "index=DEGFIELD<br>%{xaxis.title.text}=%{x}<br>%{yaxis.title.text}=%{y}<extra></extra>",
         "legendgroup": "DEGFIELD",
         "marker": {
          "color": "#ab63fa",
          "symbol": "circle"
         },
         "name": "DEGFIELD",
         "showlegend": true,
         "type": "splom"
        },
        {
         "diagonal": {
          "visible": false
         },
         "dimensions": [
          {
           "axis": {
            "matches": true
           },
           "label": "PC-0",
           "values": [
            -0.10980288667050628
           ]
          },
          {
           "axis": {
            "matches": true
           },
           "label": "PC-1",
           "values": [
            -0.005151615390569709
           ]
          }
         ],
         "hovertemplate": "index=DEGFIELDD<br>%{xaxis.title.text}=%{x}<br>%{yaxis.title.text}=%{y}<extra></extra>",
         "legendgroup": "DEGFIELDD",
         "marker": {
          "color": "#FFA15A",
          "symbol": "circle"
         },
         "name": "DEGFIELDD",
         "showlegend": true,
         "type": "splom"
        },
        {
         "diagonal": {
          "visible": false
         },
         "dimensions": [
          {
           "axis": {
            "matches": true
           },
           "label": "PC-0",
           "values": [
            -0.03576619157400029
           ]
          },
          {
           "axis": {
            "matches": true
           },
           "label": "PC-1",
           "values": [
            -0.0009727777093235317
           ]
          }
         ],
         "hovertemplate": "index=DEGFIELD2<br>%{xaxis.title.text}=%{x}<br>%{yaxis.title.text}=%{y}<extra></extra>",
         "legendgroup": "DEGFIELD2",
         "marker": {
          "color": "#19d3f3",
          "symbol": "circle"
         },
         "name": "DEGFIELD2",
         "showlegend": true,
         "type": "splom"
        },
        {
         "diagonal": {
          "visible": false
         },
         "dimensions": [
          {
           "axis": {
            "matches": true
           },
           "label": "PC-0",
           "values": [
            -0.03577025777986535
           ]
          },
          {
           "axis": {
            "matches": true
           },
           "label": "PC-1",
           "values": [
            -0.0009736444973094348
           ]
          }
         ],
         "hovertemplate": "index=DEGFIELD2D<br>%{xaxis.title.text}=%{x}<br>%{yaxis.title.text}=%{y}<extra></extra>",
         "legendgroup": "DEGFIELD2D",
         "marker": {
          "color": "#FF6692",
          "symbol": "circle"
         },
         "name": "DEGFIELD2D",
         "showlegend": true,
         "type": "splom"
        },
        {
         "diagonal": {
          "visible": false
         },
         "dimensions": [
          {
           "axis": {
            "matches": true
           },
           "label": "PC-0",
           "values": [
            0.027519559498468002
           ]
          },
          {
           "axis": {
            "matches": true
           },
           "label": "PC-1",
           "values": [
            -0.20102822262659656
           ]
          }
         ],
         "hovertemplate": "index=EMPSTAT<br>%{xaxis.title.text}=%{x}<br>%{yaxis.title.text}=%{y}<extra></extra>",
         "legendgroup": "EMPSTAT",
         "marker": {
          "color": "#B6E880",
          "symbol": "circle"
         },
         "name": "EMPSTAT",
         "showlegend": true,
         "type": "splom"
        },
        {
         "diagonal": {
          "visible": false
         },
         "dimensions": [
          {
           "axis": {
            "matches": true
           },
           "label": "PC-0",
           "values": [
            -0.23254551416567032
           ]
          },
          {
           "axis": {
            "matches": true
           },
           "label": "PC-1",
           "values": [
            -0.07110649852242101
           ]
          }
         ],
         "hovertemplate": "index=LABFORCE<br>%{xaxis.title.text}=%{x}<br>%{yaxis.title.text}=%{y}<extra></extra>",
         "legendgroup": "LABFORCE",
         "marker": {
          "color": "#FF97FF",
          "symbol": "circle"
         },
         "name": "LABFORCE",
         "showlegend": true,
         "type": "splom"
        },
        {
         "diagonal": {
          "visible": false
         },
         "dimensions": [
          {
           "axis": {
            "matches": true
           },
           "label": "PC-0",
           "values": [
            -0.20476747049571253
           ]
          },
          {
           "axis": {
            "matches": true
           },
           "label": "PC-1",
           "values": [
            -0.012222249783548345
           ]
          }
         ],
         "hovertemplate": "index=CLASSWKR<br>%{xaxis.title.text}=%{x}<br>%{yaxis.title.text}=%{y}<extra></extra>",
         "legendgroup": "CLASSWKR",
         "marker": {
          "color": "#FECB52",
          "symbol": "circle"
         },
         "name": "CLASSWKR",
         "showlegend": true,
         "type": "splom"
        },
        {
         "diagonal": {
          "visible": false
         },
         "dimensions": [
          {
           "axis": {
            "matches": true
           },
           "label": "PC-0",
           "values": [
            -0.12407447556626225
           ]
          },
          {
           "axis": {
            "matches": true
           },
           "label": "PC-1",
           "values": [
            -0.026346097500825373
           ]
          }
         ],
         "hovertemplate": "index=OCC<br>%{xaxis.title.text}=%{x}<br>%{yaxis.title.text}=%{y}<extra></extra>",
         "legendgroup": "OCC",
         "marker": {
          "color": "#636efa",
          "symbol": "circle"
         },
         "name": "OCC",
         "showlegend": true,
         "type": "splom"
        },
        {
         "diagonal": {
          "visible": false
         },
         "dimensions": [
          {
           "axis": {
            "matches": true
           },
           "label": "PC-0",
           "values": [
            -0.17854160540342792
           ]
          },
          {
           "axis": {
            "matches": true
           },
           "label": "PC-1",
           "values": [
            -0.010684662083681837
           ]
          }
         ],
         "hovertemplate": "index=IND<br>%{xaxis.title.text}=%{x}<br>%{yaxis.title.text}=%{y}<extra></extra>",
         "legendgroup": "IND",
         "marker": {
          "color": "#EF553B",
          "symbol": "circle"
         },
         "name": "IND",
         "showlegend": true,
         "type": "splom"
        },
        {
         "diagonal": {
          "visible": false
         },
         "dimensions": [
          {
           "axis": {
            "matches": true
           },
           "label": "PC-0",
           "values": [
            -0.2057829649455402
           ]
          },
          {
           "axis": {
            "matches": true
           },
           "label": "PC-1",
           "values": [
            0.015943477086442042
           ]
          }
         ],
         "hovertemplate": "index=UHRSWORK<br>%{xaxis.title.text}=%{x}<br>%{yaxis.title.text}=%{y}<extra></extra>",
         "legendgroup": "UHRSWORK",
         "marker": {
          "color": "#00cc96",
          "symbol": "circle"
         },
         "name": "UHRSWORK",
         "showlegend": true,
         "type": "splom"
        },
        {
         "diagonal": {
          "visible": false
         },
         "dimensions": [
          {
           "axis": {
            "matches": true
           },
           "label": "PC-0",
           "values": [
            -0.2021907519319797
           ]
          },
          {
           "axis": {
            "matches": true
           },
           "label": "PC-1",
           "values": [
            -0.08490185810785464
           ]
          }
         ],
         "hovertemplate": "index=LOOKING<br>%{xaxis.title.text}=%{x}<br>%{yaxis.title.text}=%{y}<extra></extra>",
         "legendgroup": "LOOKING",
         "marker": {
          "color": "#ab63fa",
          "symbol": "circle"
         },
         "name": "LOOKING",
         "showlegend": true,
         "type": "splom"
        },
        {
         "diagonal": {
          "visible": false
         },
         "dimensions": [
          {
           "axis": {
            "matches": true
           },
           "label": "PC-0",
           "values": [
            -0.17623000099729433
           ]
          },
          {
           "axis": {
            "matches": true
           },
           "label": "PC-1",
           "values": [
            -0.17300836945640335
           ]
          }
         ],
         "hovertemplate": "index=AVAILBLE<br>%{xaxis.title.text}=%{x}<br>%{yaxis.title.text}=%{y}<extra></extra>",
         "legendgroup": "AVAILBLE",
         "marker": {
          "color": "#FFA15A",
          "symbol": "circle"
         },
         "name": "AVAILBLE",
         "showlegend": true,
         "type": "splom"
        },
        {
         "diagonal": {
          "visible": false
         },
         "dimensions": [
          {
           "axis": {
            "matches": true
           },
           "label": "PC-0",
           "values": [
            0.1647443654261001
           ]
          },
          {
           "axis": {
            "matches": true
           },
           "label": "PC-1",
           "values": [
            0.1762526010529581
           ]
          }
         ],
         "hovertemplate": "index=INCTOT<br>%{xaxis.title.text}=%{x}<br>%{yaxis.title.text}=%{y}<extra></extra>",
         "legendgroup": "INCTOT",
         "marker": {
          "color": "#19d3f3",
          "symbol": "circle"
         },
         "name": "INCTOT",
         "showlegend": true,
         "type": "splom"
        },
        {
         "diagonal": {
          "visible": false
         },
         "dimensions": [
          {
           "axis": {
            "matches": true
           },
           "label": "PC-0",
           "values": [
            0.07671662573327262
           ]
          },
          {
           "axis": {
            "matches": true
           },
           "label": "PC-1",
           "values": [
            -0.20484117482400455
           ]
          }
         ],
         "hovertemplate": "index=FTOTINC<br>%{xaxis.title.text}=%{x}<br>%{yaxis.title.text}=%{y}<extra></extra>",
         "legendgroup": "FTOTINC",
         "marker": {
          "color": "#FF6692",
          "symbol": "circle"
         },
         "name": "FTOTINC",
         "showlegend": true,
         "type": "splom"
        },
        {
         "diagonal": {
          "visible": false
         },
         "dimensions": [
          {
           "axis": {
            "matches": true
           },
           "label": "PC-0",
           "values": [
            -0.12771456685562851
           ]
          },
          {
           "axis": {
            "matches": true
           },
           "label": "PC-1",
           "values": [
            0.10216906272530131
           ]
          }
         ],
         "hovertemplate": "index=POVERTY<br>%{xaxis.title.text}=%{x}<br>%{yaxis.title.text}=%{y}<extra></extra>",
         "legendgroup": "POVERTY",
         "marker": {
          "color": "#B6E880",
          "symbol": "circle"
         },
         "name": "POVERTY",
         "showlegend": true,
         "type": "splom"
        },
        {
         "diagonal": {
          "visible": false
         },
         "dimensions": [
          {
           "axis": {
            "matches": true
           },
           "label": "PC-0",
           "values": [
            -0.20283666667158537
           ]
          },
          {
           "axis": {
            "matches": true
           },
           "label": "PC-1",
           "values": [
            -0.003494718992535537
           ]
          }
         ],
         "hovertemplate": "index=OCCSCORE<br>%{xaxis.title.text}=%{x}<br>%{yaxis.title.text}=%{y}<extra></extra>",
         "legendgroup": "OCCSCORE",
         "marker": {
          "color": "#FF97FF",
          "symbol": "circle"
         },
         "name": "OCCSCORE",
         "showlegend": true,
         "type": "splom"
        },
        {
         "diagonal": {
          "visible": false
         },
         "dimensions": [
          {
           "axis": {
            "matches": true
           },
           "label": "PC-0",
           "values": [
            -0.20300073671251964
           ]
          },
          {
           "axis": {
            "matches": true
           },
           "label": "PC-1",
           "values": [
            0.003112593776563434
           ]
          }
         ],
         "hovertemplate": "index=HWSEI<br>%{xaxis.title.text}=%{x}<br>%{yaxis.title.text}=%{y}<extra></extra>",
         "legendgroup": "HWSEI",
         "marker": {
          "color": "#FECB52",
          "symbol": "circle"
         },
         "name": "HWSEI",
         "showlegend": true,
         "type": "splom"
        },
        {
         "diagonal": {
          "visible": false
         },
         "dimensions": [
          {
           "axis": {
            "matches": true
           },
           "label": "PC-0",
           "values": [
            -0.15222403075179913
           ]
          },
          {
           "axis": {
            "matches": true
           },
           "label": "PC-1",
           "values": [
            -0.17845420967352368
           ]
          }
         ],
         "hovertemplate": "index=VETSTAT<br>%{xaxis.title.text}=%{x}<br>%{yaxis.title.text}=%{y}<extra></extra>",
         "legendgroup": "VETSTAT",
         "marker": {
          "color": "#636efa",
          "symbol": "circle"
         },
         "name": "VETSTAT",
         "showlegend": true,
         "type": "splom"
        },
        {
         "diagonal": {
          "visible": false
         },
         "dimensions": [
          {
           "axis": {
            "matches": true
           },
           "label": "PC-0",
           "values": [
            -0.158957229347854
           ]
          },
          {
           "axis": {
            "matches": true
           },
           "label": "PC-1",
           "values": [
            -0.1834957535020303
           ]
          }
         ],
         "hovertemplate": "index=VETSTATD<br>%{xaxis.title.text}=%{x}<br>%{yaxis.title.text}=%{y}<extra></extra>",
         "legendgroup": "VETSTATD",
         "marker": {
          "color": "#EF553B",
          "symbol": "circle"
         },
         "name": "VETSTATD",
         "showlegend": true,
         "type": "splom"
        },
        {
         "diagonal": {
          "visible": false
         },
         "dimensions": [
          {
           "axis": {
            "matches": true
           },
           "label": "PC-0",
           "values": [
            -0.03580130287490249
           ]
          },
          {
           "axis": {
            "matches": true
           },
           "label": "PC-1",
           "values": [
            -0.06185934654300499
           ]
          }
         ],
         "hovertemplate": "index=VET01LTR<br>%{xaxis.title.text}=%{x}<br>%{yaxis.title.text}=%{y}<extra></extra>",
         "legendgroup": "VET01LTR",
         "marker": {
          "color": "#00cc96",
          "symbol": "circle"
         },
         "name": "VET01LTR",
         "showlegend": true,
         "type": "splom"
        },
        {
         "diagonal": {
          "visible": false
         },
         "dimensions": [
          {
           "axis": {
            "matches": true
           },
           "label": "PC-0",
           "values": [
            -0.18087267733898943
           ]
          },
          {
           "axis": {
            "matches": true
           },
           "label": "PC-1",
           "values": [
            0.025125586987532783
           ]
          }
         ],
         "hovertemplate": "index=PWSTATE2<br>%{xaxis.title.text}=%{x}<br>%{yaxis.title.text}=%{y}<extra></extra>",
         "legendgroup": "PWSTATE2",
         "marker": {
          "color": "#ab63fa",
          "symbol": "circle"
         },
         "name": "PWSTATE2",
         "showlegend": true,
         "type": "splom"
        },
        {
         "diagonal": {
          "visible": false
         },
         "dimensions": [
          {
           "axis": {
            "matches": true
           },
           "label": "PC-0",
           "values": [
            -0.09783217674979493
           ]
          },
          {
           "axis": {
            "matches": true
           },
           "label": "PC-1",
           "values": [
            0.018485609567456228
           ]
          }
         ],
         "hovertemplate": "index=PWCOUNTY<br>%{xaxis.title.text}=%{x}<br>%{yaxis.title.text}=%{y}<extra></extra>",
         "legendgroup": "PWCOUNTY",
         "marker": {
          "color": "#FFA15A",
          "symbol": "circle"
         },
         "name": "PWCOUNTY",
         "showlegend": true,
         "type": "splom"
        },
        {
         "diagonal": {
          "visible": false
         },
         "dimensions": [
          {
           "axis": {
            "matches": true
           },
           "label": "PC-0",
           "values": [
            -0.19423478144964595
           ]
          },
          {
           "axis": {
            "matches": true
           },
           "label": "PC-1",
           "values": [
            0.023619387796662065
           ]
          }
         ],
         "hovertemplate": "index=PWTYPE<br>%{xaxis.title.text}=%{x}<br>%{yaxis.title.text}=%{y}<extra></extra>",
         "legendgroup": "PWTYPE",
         "marker": {
          "color": "#19d3f3",
          "symbol": "circle"
         },
         "name": "PWTYPE",
         "showlegend": true,
         "type": "splom"
        },
        {
         "diagonal": {
          "visible": false
         },
         "dimensions": [
          {
           "axis": {
            "matches": true
           },
           "label": "PC-0",
           "values": [
            -0.08360629784799765
           ]
          },
          {
           "axis": {
            "matches": true
           },
           "label": "PC-1",
           "values": [
            0.012794939028611318
           ]
          }
         ],
         "hovertemplate": "index=PWPUMA00<br>%{xaxis.title.text}=%{x}<br>%{yaxis.title.text}=%{y}<extra></extra>",
         "legendgroup": "PWPUMA00",
         "marker": {
          "color": "#FF6692",
          "symbol": "circle"
         },
         "name": "PWPUMA00",
         "showlegend": true,
         "type": "splom"
        },
        {
         "diagonal": {
          "visible": false
         },
         "dimensions": [
          {
           "axis": {
            "matches": true
           },
           "label": "PC-0",
           "values": [
            -0.10459547051755405
           ]
          },
          {
           "axis": {
            "matches": true
           },
           "label": "PC-1",
           "values": [
            -0.001133459381219805
           ]
          }
         ],
         "hovertemplate": "index=TRANWORK<br>%{xaxis.title.text}=%{x}<br>%{yaxis.title.text}=%{y}<extra></extra>",
         "legendgroup": "TRANWORK",
         "marker": {
          "color": "#B6E880",
          "symbol": "circle"
         },
         "name": "TRANWORK",
         "showlegend": true,
         "type": "splom"
        },
        {
         "diagonal": {
          "visible": false
         },
         "dimensions": [
          {
           "axis": {
            "matches": true
           },
           "label": "PC-0",
           "values": [
            -0.19261019663042822
           ]
          },
          {
           "axis": {
            "matches": true
           },
           "label": "PC-1",
           "values": [
            0.03570070805878761
           ]
          }
         ],
         "hovertemplate": "index=CARPOOL<br>%{xaxis.title.text}=%{x}<br>%{yaxis.title.text}=%{y}<extra></extra>",
         "legendgroup": "CARPOOL",
         "marker": {
          "color": "#FF97FF",
          "symbol": "circle"
         },
         "name": "CARPOOL",
         "showlegend": true,
         "type": "splom"
        },
        {
         "diagonal": {
          "visible": false
         },
         "dimensions": [
          {
           "axis": {
            "matches": true
           },
           "label": "PC-0",
           "values": [
            -0.17410649849690546
           ]
          },
          {
           "axis": {
            "matches": true
           },
           "label": "PC-1",
           "values": [
            0.03199250471199138
           ]
          }
         ],
         "hovertemplate": "index=RIDERS<br>%{xaxis.title.text}=%{x}<br>%{yaxis.title.text}=%{y}<extra></extra>",
         "legendgroup": "RIDERS",
         "marker": {
          "color": "#FECB52",
          "symbol": "circle"
         },
         "name": "RIDERS",
         "showlegend": true,
         "type": "splom"
        },
        {
         "diagonal": {
          "visible": false
         },
         "dimensions": [
          {
           "axis": {
            "matches": true
           },
           "label": "PC-0",
           "values": [
            -0.14857340148647694
           ]
          },
          {
           "axis": {
            "matches": true
           },
           "label": "PC-1",
           "values": [
            0.026854140265785493
           ]
          }
         ],
         "hovertemplate": "index=TRANTIME<br>%{xaxis.title.text}=%{x}<br>%{yaxis.title.text}=%{y}<extra></extra>",
         "legendgroup": "TRANTIME",
         "marker": {
          "color": "#636efa",
          "symbol": "circle"
         },
         "name": "TRANTIME",
         "showlegend": true,
         "type": "splom"
        },
        {
         "diagonal": {
          "visible": false
         },
         "dimensions": [
          {
           "axis": {
            "matches": true
           },
           "label": "PC-0",
           "values": [
            -0.18143968699643487
           ]
          },
          {
           "axis": {
            "matches": true
           },
           "label": "PC-1",
           "values": [
            0.027372182855310435
           ]
          }
         ],
         "hovertemplate": "index=DEPARTS<br>%{xaxis.title.text}=%{x}<br>%{yaxis.title.text}=%{y}<extra></extra>",
         "legendgroup": "DEPARTS",
         "marker": {
          "color": "#EF553B",
          "symbol": "circle"
         },
         "name": "DEPARTS",
         "showlegend": true,
         "type": "splom"
        },
        {
         "diagonal": {
          "visible": false
         },
         "dimensions": [
          {
           "axis": {
            "matches": true
           },
           "label": "PC-0",
           "values": [
            -0.1846139745261688
           ]
          },
          {
           "axis": {
            "matches": true
           },
           "label": "PC-1",
           "values": [
            0.0281750171091372
           ]
          }
         ],
         "hovertemplate": "index=ARRIVES<br>%{xaxis.title.text}=%{x}<br>%{yaxis.title.text}=%{y}<extra></extra>",
         "legendgroup": "ARRIVES",
         "marker": {
          "color": "#00cc96",
          "symbol": "circle"
         },
         "name": "ARRIVES",
         "showlegend": true,
         "type": "splom"
        },
        {
         "diagonal": {
          "visible": false
         },
         "dimensions": [
          {
           "axis": {
            "matches": true
           },
           "label": "PC-0",
           "values": [
            -0.13589860900853895
           ]
          },
          {
           "axis": {
            "matches": true
           },
           "label": "PC-1",
           "values": [
            -0.13357301604192745
           ]
          }
         ],
         "hovertemplate": "index=GCHOUSE<br>%{xaxis.title.text}=%{x}<br>%{yaxis.title.text}=%{y}<extra></extra>",
         "legendgroup": "GCHOUSE",
         "marker": {
          "color": "#ab63fa",
          "symbol": "circle"
         },
         "name": "GCHOUSE",
         "showlegend": true,
         "type": "splom"
        },
        {
         "diagonal": {
          "visible": false
         },
         "dimensions": [
          {
           "axis": {
            "matches": true
           },
           "label": "PC-0",
           "values": [
            -0.010282942803190264
           ]
          },
          {
           "axis": {
            "matches": true
           },
           "label": "PC-1",
           "values": [
            -0.006324300700407759
           ]
          }
         ],
         "hovertemplate": "index=GCMONTHS<br>%{xaxis.title.text}=%{x}<br>%{yaxis.title.text}=%{y}<extra></extra>",
         "legendgroup": "GCMONTHS",
         "marker": {
          "color": "#FFA15A",
          "symbol": "circle"
         },
         "name": "GCMONTHS",
         "showlegend": true,
         "type": "splom"
        },
        {
         "diagonal": {
          "visible": false
         },
         "dimensions": [
          {
           "axis": {
            "matches": true
           },
           "label": "PC-0",
           "values": [
            -0.013838462849015054
           ]
          },
          {
           "axis": {
            "matches": true
           },
           "label": "PC-1",
           "values": [
            -0.004737955014686166
           ]
          }
         ],
         "hovertemplate": "index=GCRESPON<br>%{xaxis.title.text}=%{x}<br>%{yaxis.title.text}=%{y}<extra></extra>",
         "legendgroup": "GCRESPON",
         "marker": {
          "color": "#19d3f3",
          "symbol": "circle"
         },
         "name": "GCRESPON",
         "showlegend": true,
         "type": "splom"
        }
       ],
       "layout": {
        "autosize": true,
        "dragmode": "select",
        "legend": {
         "title": {
          "text": "index"
         },
         "tracegroupgap": 0
        },
        "margin": {
         "t": 60
        },
        "template": {
         "data": {
          "bar": [
           {
            "error_x": {
             "color": "#2a3f5f"
            },
            "error_y": {
             "color": "#2a3f5f"
            },
            "marker": {
             "line": {
              "color": "#E5ECF6",
              "width": 0.5
             }
            },
            "type": "bar"
           }
          ],
          "barpolar": [
           {
            "marker": {
             "line": {
              "color": "#E5ECF6",
              "width": 0.5
             }
            },
            "type": "barpolar"
           }
          ],
          "carpet": [
           {
            "aaxis": {
             "endlinecolor": "#2a3f5f",
             "gridcolor": "white",
             "linecolor": "white",
             "minorgridcolor": "white",
             "startlinecolor": "#2a3f5f"
            },
            "baxis": {
             "endlinecolor": "#2a3f5f",
             "gridcolor": "white",
             "linecolor": "white",
             "minorgridcolor": "white",
             "startlinecolor": "#2a3f5f"
            },
            "type": "carpet"
           }
          ],
          "choropleth": [
           {
            "colorbar": {
             "outlinewidth": 0,
             "ticks": ""
            },
            "type": "choropleth"
           }
          ],
          "contour": [
           {
            "colorbar": {
             "outlinewidth": 0,
             "ticks": ""
            },
            "colorscale": [
             [
              0,
              "#0d0887"
             ],
             [
              0.1111111111111111,
              "#46039f"
             ],
             [
              0.2222222222222222,
              "#7201a8"
             ],
             [
              0.3333333333333333,
              "#9c179e"
             ],
             [
              0.4444444444444444,
              "#bd3786"
             ],
             [
              0.5555555555555556,
              "#d8576b"
             ],
             [
              0.6666666666666666,
              "#ed7953"
             ],
             [
              0.7777777777777778,
              "#fb9f3a"
             ],
             [
              0.8888888888888888,
              "#fdca26"
             ],
             [
              1,
              "#f0f921"
             ]
            ],
            "type": "contour"
           }
          ],
          "contourcarpet": [
           {
            "colorbar": {
             "outlinewidth": 0,
             "ticks": ""
            },
            "type": "contourcarpet"
           }
          ],
          "heatmap": [
           {
            "colorbar": {
             "outlinewidth": 0,
             "ticks": ""
            },
            "colorscale": [
             [
              0,
              "#0d0887"
             ],
             [
              0.1111111111111111,
              "#46039f"
             ],
             [
              0.2222222222222222,
              "#7201a8"
             ],
             [
              0.3333333333333333,
              "#9c179e"
             ],
             [
              0.4444444444444444,
              "#bd3786"
             ],
             [
              0.5555555555555556,
              "#d8576b"
             ],
             [
              0.6666666666666666,
              "#ed7953"
             ],
             [
              0.7777777777777778,
              "#fb9f3a"
             ],
             [
              0.8888888888888888,
              "#fdca26"
             ],
             [
              1,
              "#f0f921"
             ]
            ],
            "type": "heatmap"
           }
          ],
          "heatmapgl": [
           {
            "colorbar": {
             "outlinewidth": 0,
             "ticks": ""
            },
            "colorscale": [
             [
              0,
              "#0d0887"
             ],
             [
              0.1111111111111111,
              "#46039f"
             ],
             [
              0.2222222222222222,
              "#7201a8"
             ],
             [
              0.3333333333333333,
              "#9c179e"
             ],
             [
              0.4444444444444444,
              "#bd3786"
             ],
             [
              0.5555555555555556,
              "#d8576b"
             ],
             [
              0.6666666666666666,
              "#ed7953"
             ],
             [
              0.7777777777777778,
              "#fb9f3a"
             ],
             [
              0.8888888888888888,
              "#fdca26"
             ],
             [
              1,
              "#f0f921"
             ]
            ],
            "type": "heatmapgl"
           }
          ],
          "histogram": [
           {
            "marker": {
             "colorbar": {
              "outlinewidth": 0,
              "ticks": ""
             }
            },
            "type": "histogram"
           }
          ],
          "histogram2d": [
           {
            "colorbar": {
             "outlinewidth": 0,
             "ticks": ""
            },
            "colorscale": [
             [
              0,
              "#0d0887"
             ],
             [
              0.1111111111111111,
              "#46039f"
             ],
             [
              0.2222222222222222,
              "#7201a8"
             ],
             [
              0.3333333333333333,
              "#9c179e"
             ],
             [
              0.4444444444444444,
              "#bd3786"
             ],
             [
              0.5555555555555556,
              "#d8576b"
             ],
             [
              0.6666666666666666,
              "#ed7953"
             ],
             [
              0.7777777777777778,
              "#fb9f3a"
             ],
             [
              0.8888888888888888,
              "#fdca26"
             ],
             [
              1,
              "#f0f921"
             ]
            ],
            "type": "histogram2d"
           }
          ],
          "histogram2dcontour": [
           {
            "colorbar": {
             "outlinewidth": 0,
             "ticks": ""
            },
            "colorscale": [
             [
              0,
              "#0d0887"
             ],
             [
              0.1111111111111111,
              "#46039f"
             ],
             [
              0.2222222222222222,
              "#7201a8"
             ],
             [
              0.3333333333333333,
              "#9c179e"
             ],
             [
              0.4444444444444444,
              "#bd3786"
             ],
             [
              0.5555555555555556,
              "#d8576b"
             ],
             [
              0.6666666666666666,
              "#ed7953"
             ],
             [
              0.7777777777777778,
              "#fb9f3a"
             ],
             [
              0.8888888888888888,
              "#fdca26"
             ],
             [
              1,
              "#f0f921"
             ]
            ],
            "type": "histogram2dcontour"
           }
          ],
          "mesh3d": [
           {
            "colorbar": {
             "outlinewidth": 0,
             "ticks": ""
            },
            "type": "mesh3d"
           }
          ],
          "parcoords": [
           {
            "line": {
             "colorbar": {
              "outlinewidth": 0,
              "ticks": ""
             }
            },
            "type": "parcoords"
           }
          ],
          "pie": [
           {
            "automargin": true,
            "type": "pie"
           }
          ],
          "scatter": [
           {
            "marker": {
             "colorbar": {
              "outlinewidth": 0,
              "ticks": ""
             }
            },
            "type": "scatter"
           }
          ],
          "scatter3d": [
           {
            "line": {
             "colorbar": {
              "outlinewidth": 0,
              "ticks": ""
             }
            },
            "marker": {
             "colorbar": {
              "outlinewidth": 0,
              "ticks": ""
             }
            },
            "type": "scatter3d"
           }
          ],
          "scattercarpet": [
           {
            "marker": {
             "colorbar": {
              "outlinewidth": 0,
              "ticks": ""
             }
            },
            "type": "scattercarpet"
           }
          ],
          "scattergeo": [
           {
            "marker": {
             "colorbar": {
              "outlinewidth": 0,
              "ticks": ""
             }
            },
            "type": "scattergeo"
           }
          ],
          "scattergl": [
           {
            "marker": {
             "colorbar": {
              "outlinewidth": 0,
              "ticks": ""
             }
            },
            "type": "scattergl"
           }
          ],
          "scattermapbox": [
           {
            "marker": {
             "colorbar": {
              "outlinewidth": 0,
              "ticks": ""
             }
            },
            "type": "scattermapbox"
           }
          ],
          "scatterpolar": [
           {
            "marker": {
             "colorbar": {
              "outlinewidth": 0,
              "ticks": ""
             }
            },
            "type": "scatterpolar"
           }
          ],
          "scatterpolargl": [
           {
            "marker": {
             "colorbar": {
              "outlinewidth": 0,
              "ticks": ""
             }
            },
            "type": "scatterpolargl"
           }
          ],
          "scatterternary": [
           {
            "marker": {
             "colorbar": {
              "outlinewidth": 0,
              "ticks": ""
             }
            },
            "type": "scatterternary"
           }
          ],
          "surface": [
           {
            "colorbar": {
             "outlinewidth": 0,
             "ticks": ""
            },
            "colorscale": [
             [
              0,
              "#0d0887"
             ],
             [
              0.1111111111111111,
              "#46039f"
             ],
             [
              0.2222222222222222,
              "#7201a8"
             ],
             [
              0.3333333333333333,
              "#9c179e"
             ],
             [
              0.4444444444444444,
              "#bd3786"
             ],
             [
              0.5555555555555556,
              "#d8576b"
             ],
             [
              0.6666666666666666,
              "#ed7953"
             ],
             [
              0.7777777777777778,
              "#fb9f3a"
             ],
             [
              0.8888888888888888,
              "#fdca26"
             ],
             [
              1,
              "#f0f921"
             ]
            ],
            "type": "surface"
           }
          ],
          "table": [
           {
            "cells": {
             "fill": {
              "color": "#EBF0F8"
             },
             "line": {
              "color": "white"
             }
            },
            "header": {
             "fill": {
              "color": "#C8D4E3"
             },
             "line": {
              "color": "white"
             }
            },
            "type": "table"
           }
          ]
         },
         "layout": {
          "annotationdefaults": {
           "arrowcolor": "#2a3f5f",
           "arrowhead": 0,
           "arrowwidth": 1
          },
          "autotypenumbers": "strict",
          "coloraxis": {
           "colorbar": {
            "outlinewidth": 0,
            "ticks": ""
           }
          },
          "colorscale": {
           "diverging": [
            [
             0,
             "#8e0152"
            ],
            [
             0.1,
             "#c51b7d"
            ],
            [
             0.2,
             "#de77ae"
            ],
            [
             0.3,
             "#f1b6da"
            ],
            [
             0.4,
             "#fde0ef"
            ],
            [
             0.5,
             "#f7f7f7"
            ],
            [
             0.6,
             "#e6f5d0"
            ],
            [
             0.7,
             "#b8e186"
            ],
            [
             0.8,
             "#7fbc41"
            ],
            [
             0.9,
             "#4d9221"
            ],
            [
             1,
             "#276419"
            ]
           ],
           "sequential": [
            [
             0,
             "#0d0887"
            ],
            [
             0.1111111111111111,
             "#46039f"
            ],
            [
             0.2222222222222222,
             "#7201a8"
            ],
            [
             0.3333333333333333,
             "#9c179e"
            ],
            [
             0.4444444444444444,
             "#bd3786"
            ],
            [
             0.5555555555555556,
             "#d8576b"
            ],
            [
             0.6666666666666666,
             "#ed7953"
            ],
            [
             0.7777777777777778,
             "#fb9f3a"
            ],
            [
             0.8888888888888888,
             "#fdca26"
            ],
            [
             1,
             "#f0f921"
            ]
           ],
           "sequentialminus": [
            [
             0,
             "#0d0887"
            ],
            [
             0.1111111111111111,
             "#46039f"
            ],
            [
             0.2222222222222222,
             "#7201a8"
            ],
            [
             0.3333333333333333,
             "#9c179e"
            ],
            [
             0.4444444444444444,
             "#bd3786"
            ],
            [
             0.5555555555555556,
             "#d8576b"
            ],
            [
             0.6666666666666666,
             "#ed7953"
            ],
            [
             0.7777777777777778,
             "#fb9f3a"
            ],
            [
             0.8888888888888888,
             "#fdca26"
            ],
            [
             1,
             "#f0f921"
            ]
           ]
          },
          "colorway": [
           "#636efa",
           "#EF553B",
           "#00cc96",
           "#ab63fa",
           "#FFA15A",
           "#19d3f3",
           "#FF6692",
           "#B6E880",
           "#FF97FF",
           "#FECB52"
          ],
          "font": {
           "color": "#2a3f5f"
          },
          "geo": {
           "bgcolor": "white",
           "lakecolor": "white",
           "landcolor": "#E5ECF6",
           "showlakes": true,
           "showland": true,
           "subunitcolor": "white"
          },
          "hoverlabel": {
           "align": "left"
          },
          "hovermode": "closest",
          "mapbox": {
           "style": "light"
          },
          "paper_bgcolor": "white",
          "plot_bgcolor": "#E5ECF6",
          "polar": {
           "angularaxis": {
            "gridcolor": "white",
            "linecolor": "white",
            "ticks": ""
           },
           "bgcolor": "#E5ECF6",
           "radialaxis": {
            "gridcolor": "white",
            "linecolor": "white",
            "ticks": ""
           }
          },
          "scene": {
           "xaxis": {
            "backgroundcolor": "#E5ECF6",
            "gridcolor": "white",
            "gridwidth": 2,
            "linecolor": "white",
            "showbackground": true,
            "ticks": "",
            "zerolinecolor": "white"
           },
           "yaxis": {
            "backgroundcolor": "#E5ECF6",
            "gridcolor": "white",
            "gridwidth": 2,
            "linecolor": "white",
            "showbackground": true,
            "ticks": "",
            "zerolinecolor": "white"
           },
           "zaxis": {
            "backgroundcolor": "#E5ECF6",
            "gridcolor": "white",
            "gridwidth": 2,
            "linecolor": "white",
            "showbackground": true,
            "ticks": "",
            "zerolinecolor": "white"
           }
          },
          "shapedefaults": {
           "line": {
            "color": "#2a3f5f"
           }
          },
          "ternary": {
           "aaxis": {
            "gridcolor": "white",
            "linecolor": "white",
            "ticks": ""
           },
           "baxis": {
            "gridcolor": "white",
            "linecolor": "white",
            "ticks": ""
           },
           "bgcolor": "#E5ECF6",
           "caxis": {
            "gridcolor": "white",
            "linecolor": "white",
            "ticks": ""
           }
          },
          "title": {
           "x": 0.05
          },
          "xaxis": {
           "automargin": true,
           "gridcolor": "white",
           "linecolor": "white",
           "ticks": "",
           "title": {
            "standoff": 15
           },
           "zerolinecolor": "white",
           "zerolinewidth": 2
          },
          "yaxis": {
           "automargin": true,
           "gridcolor": "white",
           "linecolor": "white",
           "ticks": "",
           "title": {
            "standoff": 15
           },
           "zerolinecolor": "white",
           "zerolinewidth": 2
          }
         }
        },
        "xaxis": {
         "autorange": true,
         "range": [
          -0.2678965135846974,
          0.2000953648451272
         ],
         "type": "linear"
        },
        "xaxis2": {
         "autorange": true,
         "range": [
          -0.24278520719546182,
          0.2595343672594172
         ],
         "type": "linear"
        },
        "yaxis": {
         "autorange": true,
         "range": [
          -0.2678965135846974,
          0.2000953648451272
         ],
         "type": "linear"
        },
        "yaxis2": {
         "autorange": true,
         "range": [
          -0.24278520719546182,
          0.2595343672594172
         ],
         "type": "linear"
        }
       }
      },
      "image/png": "[encoded data removed]",
      "text/html": [
       "<div>                            <div id=\"fa26d9c2-3051-4526-8fc3-e28af8b92d3c\" class=\"plotly-graph-div\" style=\"height:525px; width:100%;\"></div>            <script type=\"text/javascript\">                require([\"plotly\"], function(Plotly) {                    window.PLOTLYENV=window.PLOTLYENV || {};                                    if (document.getElementById(\"fa26d9c2-3051-4526-8fc3-e28af8b92d3c\")) {                    Plotly.newPlot(                        \"fa26d9c2-3051-4526-8fc3-e28af8b92d3c\",                        [{\"diagonal\": {\"visible\": false}, \"dimensions\": [{\"axis\": {\"matches\": true}, \"label\": \"PC-0\", \"values\": [-0.002197366140727682]}, {\"axis\": {\"matches\": true}, \"label\": \"PC-1\", \"values\": [0.0043766916529589805]}], \"hovertemplate\": \"index=HHTYPE<br>%{xaxis.title.text}=%{x}<br>%{yaxis.title.text}=%{y}<extra></extra>\", \"legendgroup\": \"HHTYPE\", \"marker\": {\"color\": \"#636efa\", \"symbol\": \"circle\"}, \"name\": \"HHTYPE\", \"showlegend\": true, \"type\": \"splom\"}, {\"diagonal\": {\"visible\": false}, \"dimensions\": [{\"axis\": {\"matches\": true}, \"label\": \"PC-0\", \"values\": [0.007729375455555798]}, {\"axis\": {\"matches\": true}, \"label\": \"PC-1\", \"values\": [0.005397533462029397]}], \"hovertemplate\": \"index=REGION<br>%{xaxis.title.text}=%{x}<br>%{yaxis.title.text}=%{y}<extra></extra>\", \"legendgroup\": \"REGION\", \"marker\": {\"color\": \"#EF553B\", \"symbol\": \"circle\"}, \"name\": \"REGION\", \"showlegend\": true, \"type\": \"splom\"}, {\"diagonal\": {\"visible\": false}, \"dimensions\": [{\"axis\": {\"matches\": true}, \"label\": \"PC-0\", \"values\": [-0.008018059066928318]}, {\"axis\": {\"matches\": true}, \"label\": \"PC-1\", \"values\": [0.010872651052490079]}], \"hovertemplate\": \"index=STATEFIP<br>%{xaxis.title.text}=%{x}<br>%{yaxis.title.text}=%{y}<extra></extra>\", \"legendgroup\": \"STATEFIP\", \"marker\": {\"color\": \"#00cc96\", \"symbol\": \"circle\"}, \"name\": \"STATEFIP\", \"showlegend\": true, \"type\": \"splom\"}, {\"diagonal\": {\"visible\": false}, \"dimensions\": [{\"axis\": {\"matches\": true}, \"label\": \"PC-0\", \"values\": [-0.012481848064971546]}, {\"axis\": {\"matches\": true}, \"label\": \"PC-1\", \"values\": [0.020304289551261345]}], \"hovertemplate\": \"index=COUNTYFIP<br>%{xaxis.title.text}=%{x}<br>%{yaxis.title.text}=%{y}<extra></extra>\", \"legendgroup\": \"COUNTYFIP\", \"marker\": {\"color\": \"#ab63fa\", \"symbol\": \"circle\"}, \"name\": \"COUNTYFIP\", \"showlegend\": true, \"type\": \"splom\"}, {\"diagonal\": {\"visible\": false}, \"dimensions\": [{\"axis\": {\"matches\": true}, \"label\": \"PC-0\", \"values\": [-0.01957193054627445]}, {\"axis\": {\"matches\": true}, \"label\": \"PC-1\", \"values\": [0.03039007376002023]}], \"hovertemplate\": \"index=METRO<br>%{xaxis.title.text}=%{x}<br>%{yaxis.title.text}=%{y}<extra></extra>\", \"legendgroup\": \"METRO\", \"marker\": {\"color\": \"#FFA15A\", \"symbol\": \"circle\"}, \"name\": \"METRO\", \"showlegend\": true, \"type\": \"splom\"}, {\"diagonal\": {\"visible\": false}, \"dimensions\": [{\"axis\": {\"matches\": true}, \"label\": \"PC-0\", \"values\": [0.07524894554347893]}, {\"axis\": {\"matches\": true}, \"label\": \"PC-1\", \"values\": [-0.20274003315869182]}], \"hovertemplate\": \"index=GQ<br>%{xaxis.title.text}=%{x}<br>%{yaxis.title.text}=%{y}<extra></extra>\", \"legendgroup\": \"GQ\", \"marker\": {\"color\": \"#19d3f3\", \"symbol\": \"circle\"}, \"name\": \"GQ\", \"showlegend\": true, \"type\": \"splom\"}, {\"diagonal\": {\"visible\": false}, \"dimensions\": [{\"axis\": {\"matches\": true}, \"label\": \"PC-0\", \"values\": [-0.0042700727664148974]}, {\"axis\": {\"matches\": true}, \"label\": \"PC-1\", \"values\": [0.09996327819119524]}], \"hovertemplate\": \"index=OWNERSHP<br>%{xaxis.title.text}=%{x}<br>%{yaxis.title.text}=%{y}<extra></extra>\", \"legendgroup\": \"OWNERSHP\", \"marker\": {\"color\": \"#FF6692\", \"symbol\": \"circle\"}, \"name\": \"OWNERSHP\", \"showlegend\": true, \"type\": \"splom\"}, {\"diagonal\": {\"visible\": false}, \"dimensions\": [{\"axis\": {\"matches\": true}, \"label\": \"PC-0\", \"values\": [-0.06850082968368601]}, {\"axis\": {\"matches\": true}, \"label\": \"PC-1\", \"values\": [0.11641329933332027]}], \"hovertemplate\": \"index=MORTGAGE<br>%{xaxis.title.text}=%{x}<br>%{yaxis.title.text}=%{y}<extra></extra>\", \"legendgroup\": \"MORTGAGE\", \"marker\": {\"color\": \"#B6E880\", \"symbol\": \"circle\"}, \"name\": \"MORTGAGE\", \"showlegend\": true, \"type\": \"splom\"}, {\"diagonal\": {\"visible\": false}, \"dimensions\": [{\"axis\": {\"matches\": true}, \"label\": \"PC-0\", \"values\": [-0.060140126078085325]}, {\"axis\": {\"matches\": true}, \"label\": \"PC-1\", \"values\": [0.11894188557598412]}], \"hovertemplate\": \"index=TAXINCL<br>%{xaxis.title.text}=%{x}<br>%{yaxis.title.text}=%{y}<extra></extra>\", \"legendgroup\": \"TAXINCL\", \"marker\": {\"color\": \"#FF97FF\", \"symbol\": \"circle\"}, \"name\": \"TAXINCL\", \"showlegend\": true, \"type\": \"splom\"}, {\"diagonal\": {\"visible\": false}, \"dimensions\": [{\"axis\": {\"matches\": true}, \"label\": \"PC-0\", \"values\": [-0.05851584828876554]}, {\"axis\": {\"matches\": true}, \"label\": \"PC-1\", \"values\": [0.11751302621631643]}], \"hovertemplate\": \"index=INSINCL<br>%{xaxis.title.text}=%{x}<br>%{yaxis.title.text}=%{y}<extra></extra>\", \"legendgroup\": \"INSINCL\", \"marker\": {\"color\": \"#FECB52\", \"symbol\": \"circle\"}, \"name\": \"INSINCL\", \"showlegend\": true, \"type\": \"splom\"}, {\"diagonal\": {\"visible\": false}, \"dimensions\": [{\"axis\": {\"matches\": true}, \"label\": \"PC-0\", \"values\": [-0.050680114712207944]}, {\"axis\": {\"matches\": true}, \"label\": \"PC-1\", \"values\": [0.060705462483001]}], \"hovertemplate\": \"index=PROPINSR<br>%{xaxis.title.text}=%{x}<br>%{yaxis.title.text}=%{y}<extra></extra>\", \"legendgroup\": \"PROPINSR\", \"marker\": {\"color\": \"#636efa\", \"symbol\": \"circle\"}, \"name\": \"PROPINSR\", \"showlegend\": true, \"type\": \"splom\"}, {\"diagonal\": {\"visible\": false}, \"dimensions\": [{\"axis\": {\"matches\": true}, \"label\": \"PC-0\", \"values\": [-0.011132765209466752]}, {\"axis\": {\"matches\": true}, \"label\": \"PC-1\", \"values\": [0.08756272329918229]}], \"hovertemplate\": \"index=COSTELEC<br>%{xaxis.title.text}=%{x}<br>%{yaxis.title.text}=%{y}<extra></extra>\", \"legendgroup\": \"COSTELEC\", \"marker\": {\"color\": \"#EF553B\", \"symbol\": \"circle\"}, \"name\": \"COSTELEC\", \"showlegend\": true, \"type\": \"splom\"}, {\"diagonal\": {\"visible\": false}, \"dimensions\": [{\"axis\": {\"matches\": true}, \"label\": \"PC-0\", \"values\": [-0.010758961613894369]}, {\"axis\": {\"matches\": true}, \"label\": \"PC-1\", \"values\": [0.05993962141095676]}], \"hovertemplate\": \"index=COSTGAS<br>%{xaxis.title.text}=%{x}<br>%{yaxis.title.text}=%{y}<extra></extra>\", \"legendgroup\": \"COSTGAS\", \"marker\": {\"color\": \"#00cc96\", \"symbol\": \"circle\"}, \"name\": \"COSTGAS\", \"showlegend\": true, \"type\": \"splom\"}, {\"diagonal\": {\"visible\": false}, \"dimensions\": [{\"axis\": {\"matches\": true}, \"label\": \"PC-0\", \"values\": [0.004543481357448127]}, {\"axis\": {\"matches\": true}, \"label\": \"PC-1\", \"values\": [0.01336767670914265]}], \"hovertemplate\": \"index=COSTWATR<br>%{xaxis.title.text}=%{x}<br>%{yaxis.title.text}=%{y}<extra></extra>\", \"legendgroup\": \"COSTWATR\", \"marker\": {\"color\": \"#ab63fa\", \"symbol\": \"circle\"}, \"name\": \"COSTWATR\", \"showlegend\": true, \"type\": \"splom\"}, {\"diagonal\": {\"visible\": false}, \"dimensions\": [{\"axis\": {\"matches\": true}, \"label\": \"PC-0\", \"values\": [-0.05606456426135176]}, {\"axis\": {\"matches\": true}, \"label\": \"PC-1\", \"values\": [0.16149468844981305]}], \"hovertemplate\": \"index=COSTFUEL<br>%{xaxis.title.text}=%{x}<br>%{yaxis.title.text}=%{y}<extra></extra>\", \"legendgroup\": \"COSTFUEL\", \"marker\": {\"color\": \"#FFA15A\", \"symbol\": \"circle\"}, \"name\": \"COSTFUEL\", \"showlegend\": true, \"type\": \"splom\"}, {\"diagonal\": {\"visible\": false}, \"dimensions\": [{\"axis\": {\"matches\": true}, \"label\": \"PC-0\", \"values\": [0.06607125468210627]}, {\"axis\": {\"matches\": true}, \"label\": \"PC-1\", \"values\": [0.012108630561078963]}], \"hovertemplate\": \"index=FOODSTMP<br>%{xaxis.title.text}=%{x}<br>%{yaxis.title.text}=%{y}<extra></extra>\", \"legendgroup\": \"FOODSTMP\", \"marker\": {\"color\": \"#19d3f3\", \"symbol\": \"circle\"}, \"name\": \"FOODSTMP\", \"showlegend\": true, \"type\": \"splom\"}, {\"diagonal\": {\"visible\": false}, \"dimensions\": [{\"axis\": {\"matches\": true}, \"label\": \"PC-0\", \"values\": [0.06374611822013004]}, {\"axis\": {\"matches\": true}, \"label\": \"PC-1\", \"values\": [-0.07734856938879639]}], \"hovertemplate\": \"index=VALUEH<br>%{xaxis.title.text}=%{x}<br>%{yaxis.title.text}=%{y}<extra></extra>\", \"legendgroup\": \"VALUEH\", \"marker\": {\"color\": \"#FF6692\", \"symbol\": \"circle\"}, \"name\": \"VALUEH\", \"showlegend\": true, \"type\": \"splom\"}, {\"diagonal\": {\"visible\": false}, \"dimensions\": [{\"axis\": {\"matches\": true}, \"label\": \"PC-0\", \"values\": [-0.07757520376657724]}, {\"axis\": {\"matches\": true}, \"label\": \"PC-1\", \"values\": [0.210546252638566]}], \"hovertemplate\": \"index=FRIDGE<br>%{xaxis.title.text}=%{x}<br>%{yaxis.title.text}=%{y}<extra></extra>\", \"legendgroup\": \"FRIDGE\", \"marker\": {\"color\": \"#B6E880\", \"symbol\": \"circle\"}, \"name\": \"FRIDGE\", \"showlegend\": true, \"type\": \"splom\"}, {\"diagonal\": {\"visible\": false}, \"dimensions\": [{\"axis\": {\"matches\": true}, \"label\": \"PC-0\", \"values\": [0.01840173497353261]}, {\"axis\": {\"matches\": true}, \"label\": \"PC-1\", \"values\": [-0.02399985280667499]}], \"hovertemplate\": \"index=CINETHH<br>%{xaxis.title.text}=%{x}<br>%{yaxis.title.text}=%{y}<extra></extra>\", \"legendgroup\": \"CINETHH\", \"marker\": {\"color\": \"#FF97FF\", \"symbol\": \"circle\"}, \"name\": \"CINETHH\", \"showlegend\": true, \"type\": \"splom\"}, {\"diagonal\": {\"visible\": false}, \"dimensions\": [{\"axis\": {\"matches\": true}, \"label\": \"PC-0\", \"values\": [-5.25056332394999e-05]}, {\"axis\": {\"matches\": true}, \"label\": \"PC-1\", \"values\": [0.05535397799587691]}], \"hovertemplate\": \"index=CILAPTOP<br>%{xaxis.title.text}=%{x}<br>%{yaxis.title.text}=%{y}<extra></extra>\", \"legendgroup\": \"CILAPTOP\", \"marker\": {\"color\": \"#FECB52\", \"symbol\": \"circle\"}, \"name\": \"CILAPTOP\", \"showlegend\": true, \"type\": \"splom\"}, {\"diagonal\": {\"visible\": false}, \"dimensions\": [{\"axis\": {\"matches\": true}, \"label\": \"PC-0\", \"values\": [-0.015837675308449692]}, {\"axis\": {\"matches\": true}, \"label\": \"PC-1\", \"values\": [0.04435688444628475]}], \"hovertemplate\": \"index=CISMRTPHN<br>%{xaxis.title.text}=%{x}<br>%{yaxis.title.text}=%{y}<extra></extra>\", \"legendgroup\": \"CISMRTPHN\", \"marker\": {\"color\": \"#636efa\", \"symbol\": \"circle\"}, \"name\": \"CISMRTPHN\", \"showlegend\": true, \"type\": \"splom\"}, {\"diagonal\": {\"visible\": false}, \"dimensions\": [{\"axis\": {\"matches\": true}, \"label\": \"PC-0\", \"values\": [-0.015144855999023155]}, {\"axis\": {\"matches\": true}, \"label\": \"PC-1\", \"values\": [0.04799836303882304]}], \"hovertemplate\": \"index=CITABLET<br>%{xaxis.title.text}=%{x}<br>%{yaxis.title.text}=%{y}<extra></extra>\", \"legendgroup\": \"CITABLET\", \"marker\": {\"color\": \"#EF553B\", \"symbol\": \"circle\"}, \"name\": \"CITABLET\", \"showlegend\": true, \"type\": \"splom\"}, {\"diagonal\": {\"visible\": false}, \"dimensions\": [{\"axis\": {\"matches\": true}, \"label\": \"PC-0\", \"values\": [-0.061247618231064976]}, {\"axis\": {\"matches\": true}, \"label\": \"PC-1\", \"values\": [0.1487086866758594]}], \"hovertemplate\": \"index=CIDATAPLN<br>%{xaxis.title.text}=%{x}<br>%{yaxis.title.text}=%{y}<extra></extra>\", \"legendgroup\": \"CIDATAPLN\", \"marker\": {\"color\": \"#00cc96\", \"symbol\": \"circle\"}, \"name\": \"CIDATAPLN\", \"showlegend\": true, \"type\": \"splom\"}, {\"diagonal\": {\"visible\": false}, \"dimensions\": [{\"axis\": {\"matches\": true}, \"label\": \"PC-0\", \"values\": [-0.055391594840692254]}, {\"axis\": {\"matches\": true}, \"label\": \"PC-1\", \"values\": [0.15565520367592364]}], \"hovertemplate\": \"index=CIHISPEED<br>%{xaxis.title.text}=%{x}<br>%{yaxis.title.text}=%{y}<extra></extra>\", \"legendgroup\": \"CIHISPEED\", \"marker\": {\"color\": \"#ab63fa\", \"symbol\": \"circle\"}, \"name\": \"CIHISPEED\", \"showlegend\": true, \"type\": \"splom\"}, {\"diagonal\": {\"visible\": false}, \"dimensions\": [{\"axis\": {\"matches\": true}, \"label\": \"PC-0\", \"values\": [-0.07934542822026733]}, {\"axis\": {\"matches\": true}, \"label\": \"PC-1\", \"values\": [0.19276825195528316]}], \"hovertemplate\": \"index=CISAT<br>%{xaxis.title.text}=%{x}<br>%{yaxis.title.text}=%{y}<extra></extra>\", \"legendgroup\": \"CISAT\", \"marker\": {\"color\": \"#FFA15A\", \"symbol\": \"circle\"}, \"name\": \"CISAT\", \"showlegend\": true, \"type\": \"splom\"}, {\"diagonal\": {\"visible\": false}, \"dimensions\": [{\"axis\": {\"matches\": true}, \"label\": \"PC-0\", \"values\": [-0.08250521318177649]}, {\"axis\": {\"matches\": true}, \"label\": \"PC-1\", \"values\": [0.2002509036107458]}], \"hovertemplate\": \"index=CIDIAL<br>%{xaxis.title.text}=%{x}<br>%{yaxis.title.text}=%{y}<extra></extra>\", \"legendgroup\": \"CIDIAL\", \"marker\": {\"color\": \"#19d3f3\", \"symbol\": \"circle\"}, \"name\": \"CIDIAL\", \"showlegend\": true, \"type\": \"splom\"}, {\"diagonal\": {\"visible\": false}, \"dimensions\": [{\"axis\": {\"matches\": true}, \"label\": \"PC-0\", \"values\": [-0.08288548606472473]}, {\"axis\": {\"matches\": true}, \"label\": \"PC-1\", \"values\": [0.19998384341509173]}], \"hovertemplate\": \"index=CIOTHSVC<br>%{xaxis.title.text}=%{x}<br>%{yaxis.title.text}=%{y}<extra></extra>\", \"legendgroup\": \"CIOTHSVC\", \"marker\": {\"color\": \"#FF6692\", \"symbol\": \"circle\"}, \"name\": \"CIOTHSVC\", \"showlegend\": true, \"type\": \"splom\"}, {\"diagonal\": {\"visible\": false}, \"dimensions\": [{\"axis\": {\"matches\": true}, \"label\": \"PC-0\", \"values\": [-0.03476087377534315]}, {\"axis\": {\"matches\": true}, \"label\": \"PC-1\", \"values\": [0.11522315771688593]}], \"hovertemplate\": \"index=FUELHEAT<br>%{xaxis.title.text}=%{x}<br>%{yaxis.title.text}=%{y}<extra></extra>\", \"legendgroup\": \"FUELHEAT\", \"marker\": {\"color\": \"#B6E880\", \"symbol\": \"circle\"}, \"name\": \"FUELHEAT\", \"showlegend\": true, \"type\": \"splom\"}, {\"diagonal\": {\"visible\": false}, \"dimensions\": [{\"axis\": {\"matches\": true}, \"label\": \"PC-0\", \"values\": [-0.01782919191648064]}, {\"axis\": {\"matches\": true}, \"label\": \"PC-1\", \"values\": [0.07327426282881626]}], \"hovertemplate\": \"index=VEHICLES<br>%{xaxis.title.text}=%{x}<br>%{yaxis.title.text}=%{y}<extra></extra>\", \"legendgroup\": \"VEHICLES\", \"marker\": {\"color\": \"#FF97FF\", \"symbol\": \"circle\"}, \"name\": \"VEHICLES\", \"showlegend\": true, \"type\": \"splom\"}, {\"diagonal\": {\"visible\": false}, \"dimensions\": [{\"axis\": {\"matches\": true}, \"label\": \"PC-0\", \"values\": [-0.034622823109830794]}, {\"axis\": {\"matches\": true}, \"label\": \"PC-1\", \"values\": [0.09726331351226167]}], \"hovertemplate\": \"index=COUPLETYPE<br>%{xaxis.title.text}=%{x}<br>%{yaxis.title.text}=%{y}<extra></extra>\", \"legendgroup\": \"COUPLETYPE\", \"marker\": {\"color\": \"#FECB52\", \"symbol\": \"circle\"}, \"name\": \"COUPLETYPE\", \"showlegend\": true, \"type\": \"splom\"}, {\"diagonal\": {\"visible\": false}, \"dimensions\": [{\"axis\": {\"matches\": true}, \"label\": \"PC-0\", \"values\": [-0.00819402298553557]}, {\"axis\": {\"matches\": true}, \"label\": \"PC-1\", \"values\": [0.0025413741042963514]}], \"hovertemplate\": \"index=SSMC<br>%{xaxis.title.text}=%{x}<br>%{yaxis.title.text}=%{y}<extra></extra>\", \"legendgroup\": \"SSMC\", \"marker\": {\"color\": \"#636efa\", \"symbol\": \"circle\"}, \"name\": \"SSMC\", \"showlegend\": true, \"type\": \"splom\"}, {\"diagonal\": {\"visible\": false}, \"dimensions\": [{\"axis\": {\"matches\": true}, \"label\": \"PC-0\", \"values\": [0.0043746303850176645]}, {\"axis\": {\"matches\": true}, \"label\": \"PC-1\", \"values\": [-0.0009530117278239484]}], \"hovertemplate\": \"index=NFAMS<br>%{xaxis.title.text}=%{x}<br>%{yaxis.title.text}=%{y}<extra></extra>\", \"legendgroup\": \"NFAMS\", \"marker\": {\"color\": \"#EF553B\", \"symbol\": \"circle\"}, \"name\": \"NFAMS\", \"showlegend\": true, \"type\": \"splom\"}, {\"diagonal\": {\"visible\": false}, \"dimensions\": [{\"axis\": {\"matches\": true}, \"label\": \"PC-0\", \"values\": [0.015968329114199886]}, {\"axis\": {\"matches\": true}, \"label\": \"PC-1\", \"values\": [0.051831984014388384]}], \"hovertemplate\": \"index=NSUBFAM<br>%{xaxis.title.text}=%{x}<br>%{yaxis.title.text}=%{y}<extra></extra>\", \"legendgroup\": \"NSUBFAM\", \"marker\": {\"color\": \"#00cc96\", \"symbol\": \"circle\"}, \"name\": \"NSUBFAM\", \"showlegend\": true, \"type\": \"splom\"}, {\"diagonal\": {\"visible\": false}, \"dimensions\": [{\"axis\": {\"matches\": true}, \"label\": \"PC-0\", \"values\": [-0.05171363133809853]}, {\"axis\": {\"matches\": true}, \"label\": \"PC-1\", \"values\": [0.12766007259613657]}], \"hovertemplate\": \"index=NCOUPLES<br>%{xaxis.title.text}=%{x}<br>%{yaxis.title.text}=%{y}<extra></extra>\", \"legendgroup\": \"NCOUPLES\", \"marker\": {\"color\": \"#ab63fa\", \"symbol\": \"circle\"}, \"name\": \"NCOUPLES\", \"showlegend\": true, \"type\": \"splom\"}, {\"diagonal\": {\"visible\": false}, \"dimensions\": [{\"axis\": {\"matches\": true}, \"label\": \"PC-0\", \"values\": [0.0313352101217558]}, {\"axis\": {\"matches\": true}, \"label\": \"PC-1\", \"values\": [0.17667648928825577]}], \"hovertemplate\": \"index=NMOTHERS<br>%{xaxis.title.text}=%{x}<br>%{yaxis.title.text}=%{y}<extra></extra>\", \"legendgroup\": \"NMOTHERS\", \"marker\": {\"color\": \"#FFA15A\", \"symbol\": \"circle\"}, \"name\": \"NMOTHERS\", \"showlegend\": true, \"type\": \"splom\"}, {\"diagonal\": {\"visible\": false}, \"dimensions\": [{\"axis\": {\"matches\": true}, \"label\": \"PC-0\", \"values\": [0.010378272540670459]}, {\"axis\": {\"matches\": true}, \"label\": \"PC-1\", \"values\": [0.17352149129437464]}], \"hovertemplate\": \"index=NFATHERS<br>%{xaxis.title.text}=%{x}<br>%{yaxis.title.text}=%{y}<extra></extra>\", \"legendgroup\": \"NFATHERS\", \"marker\": {\"color\": \"#19d3f3\", \"symbol\": \"circle\"}, \"name\": \"NFATHERS\", \"showlegend\": true, \"type\": \"splom\"}, {\"diagonal\": {\"visible\": false}, \"dimensions\": [{\"axis\": {\"matches\": true}, \"label\": \"PC-0\", \"values\": [0.009756837713306587]}, {\"axis\": {\"matches\": true}, \"label\": \"PC-1\", \"values\": [0.22159033488795993]}], \"hovertemplate\": \"index=MULTGEN<br>%{xaxis.title.text}=%{x}<br>%{yaxis.title.text}=%{y}<extra></extra>\", \"legendgroup\": \"MULTGEN\", \"marker\": {\"color\": \"#FF6692\", \"symbol\": \"circle\"}, \"name\": \"MULTGEN\", \"showlegend\": true, \"type\": \"splom\"}, {\"diagonal\": {\"visible\": false}, \"dimensions\": [{\"axis\": {\"matches\": true}, \"label\": \"PC-0\", \"values\": [-0.06702033112377527]}, {\"axis\": {\"matches\": true}, \"label\": \"PC-1\", \"values\": [0.16197821168604098]}], \"hovertemplate\": \"index=RESPMODE<br>%{xaxis.title.text}=%{x}<br>%{yaxis.title.text}=%{y}<extra></extra>\", \"legendgroup\": \"RESPMODE\", \"marker\": {\"color\": \"#B6E880\", \"symbol\": \"circle\"}, \"name\": \"RESPMODE\", \"showlegend\": true, \"type\": \"splom\"}, {\"diagonal\": {\"visible\": false}, \"dimensions\": [{\"axis\": {\"matches\": true}, \"label\": \"PC-0\", \"values\": [0.008517055101127257]}, {\"axis\": {\"matches\": true}, \"label\": \"PC-1\", \"values\": [0.05151315706598594]}], \"hovertemplate\": \"index=PERWT<br>%{xaxis.title.text}=%{x}<br>%{yaxis.title.text}=%{y}<extra></extra>\", \"legendgroup\": \"PERWT\", \"marker\": {\"color\": \"#FF97FF\", \"symbol\": \"circle\"}, \"name\": \"PERWT\", \"showlegend\": true, \"type\": \"splom\"}, {\"diagonal\": {\"visible\": false}, \"dimensions\": [{\"axis\": {\"matches\": true}, \"label\": \"PC-0\", \"values\": [0.10463036020060727]}, {\"axis\": {\"matches\": true}, \"label\": \"PC-1\", \"values\": [-0.09743941219666497]}], \"hovertemplate\": \"index=RELATE<br>%{xaxis.title.text}=%{x}<br>%{yaxis.title.text}=%{y}<extra></extra>\", \"legendgroup\": \"RELATE\", \"marker\": {\"color\": \"#FECB52\", \"symbol\": \"circle\"}, \"name\": \"RELATE\", \"showlegend\": true, \"type\": \"splom\"}, {\"diagonal\": {\"visible\": false}, \"dimensions\": [{\"axis\": {\"matches\": true}, \"label\": \"PC-0\", \"values\": [0.1040173021605532]}, {\"axis\": {\"matches\": true}, \"label\": \"PC-1\", \"values\": [-0.0993030054940326]}], \"hovertemplate\": \"index=RELATED<br>%{xaxis.title.text}=%{x}<br>%{yaxis.title.text}=%{y}<extra></extra>\", \"legendgroup\": \"RELATED\", \"marker\": {\"color\": \"#636efa\", \"symbol\": \"circle\"}, \"name\": \"RELATED\", \"showlegend\": true, \"type\": \"splom\"}, {\"diagonal\": {\"visible\": false}, \"dimensions\": [{\"axis\": {\"matches\": true}, \"label\": \"PC-0\", \"values\": [0.010456729108058825]}, {\"axis\": {\"matches\": true}, \"label\": \"PC-1\", \"values\": [0.008238097128282296]}], \"hovertemplate\": \"index=SEX<br>%{xaxis.title.text}=%{x}<br>%{yaxis.title.text}=%{y}<extra></extra>\", \"legendgroup\": \"SEX\", \"marker\": {\"color\": \"#EF553B\", \"symbol\": \"circle\"}, \"name\": \"SEX\", \"showlegend\": true, \"type\": \"splom\"}, {\"diagonal\": {\"visible\": false}, \"dimensions\": [{\"axis\": {\"matches\": true}, \"label\": \"PC-0\", \"values\": [-0.10142287034823831]}, {\"axis\": {\"matches\": true}, \"label\": \"PC-1\", \"values\": [-0.19271954898194946]}], \"hovertemplate\": \"index=AGE<br>%{xaxis.title.text}=%{x}<br>%{yaxis.title.text}=%{y}<extra></extra>\", \"legendgroup\": \"AGE\", \"marker\": {\"color\": \"#00cc96\", \"symbol\": \"circle\"}, \"name\": \"AGE\", \"showlegend\": true, \"type\": \"splom\"}, {\"diagonal\": {\"visible\": false}, \"dimensions\": [{\"axis\": {\"matches\": true}, \"label\": \"PC-0\", \"values\": [0.15141777195906575]}, {\"axis\": {\"matches\": true}, \"label\": \"PC-1\", \"values\": [0.05683483913491883]}], \"hovertemplate\": \"index=MARST<br>%{xaxis.title.text}=%{x}<br>%{yaxis.title.text}=%{y}<extra></extra>\", \"legendgroup\": \"MARST\", \"marker\": {\"color\": \"#ab63fa\", \"symbol\": \"circle\"}, \"name\": \"MARST\", \"showlegend\": true, \"type\": \"splom\"}, {\"diagonal\": {\"visible\": false}, \"dimensions\": [{\"axis\": {\"matches\": true}, \"label\": \"PC-0\", \"values\": [0.10105478312337272]}, {\"axis\": {\"matches\": true}, \"label\": \"PC-1\", \"values\": [0.19287406441875693]}], \"hovertemplate\": \"index=BIRTHYR<br>%{xaxis.title.text}=%{x}<br>%{yaxis.title.text}=%{y}<extra></extra>\", \"legendgroup\": \"BIRTHYR\", \"marker\": {\"color\": \"#FFA15A\", \"symbol\": \"circle\"}, \"name\": \"BIRTHYR\", \"showlegend\": true, \"type\": \"splom\"}, {\"diagonal\": {\"visible\": false}, \"dimensions\": [{\"axis\": {\"matches\": true}, \"label\": \"PC-0\", \"values\": [-0.11320254704955933]}, {\"axis\": {\"matches\": true}, \"label\": \"PC-1\", \"values\": [-0.10221934834869821]}], \"hovertemplate\": \"index=MARRNO<br>%{xaxis.title.text}=%{x}<br>%{yaxis.title.text}=%{y}<extra></extra>\", \"legendgroup\": \"MARRNO\", \"marker\": {\"color\": \"#19d3f3\", \"symbol\": \"circle\"}, \"name\": \"MARRNO\", \"showlegend\": true, \"type\": \"splom\"}, {\"diagonal\": {\"visible\": false}, \"dimensions\": [{\"axis\": {\"matches\": true}, \"label\": \"PC-0\", \"values\": [-0.14511688177411847]}, {\"axis\": {\"matches\": true}, \"label\": \"PC-1\", \"values\": [-0.10769922896322637]}], \"hovertemplate\": \"index=YRMARR<br>%{xaxis.title.text}=%{x}<br>%{yaxis.title.text}=%{y}<extra></extra>\", \"legendgroup\": \"YRMARR\", \"marker\": {\"color\": \"#FF6692\", \"symbol\": \"circle\"}, \"name\": \"YRMARR\", \"showlegend\": true, \"type\": \"splom\"}, {\"diagonal\": {\"visible\": false}, \"dimensions\": [{\"axis\": {\"matches\": true}, \"label\": \"PC-0\", \"values\": [0.009190972375887143]}, {\"axis\": {\"matches\": true}, \"label\": \"PC-1\", \"values\": [0.028648027813858615]}], \"hovertemplate\": \"index=HISPAN<br>%{xaxis.title.text}=%{x}<br>%{yaxis.title.text}=%{y}<extra></extra>\", \"legendgroup\": \"HISPAN\", \"marker\": {\"color\": \"#B6E880\", \"symbol\": \"circle\"}, \"name\": \"HISPAN\", \"showlegend\": true, \"type\": \"splom\"}, {\"diagonal\": {\"visible\": false}, \"dimensions\": [{\"axis\": {\"matches\": true}, \"label\": \"PC-0\", \"values\": [0.0091032332224092]}, {\"axis\": {\"matches\": true}, \"label\": \"PC-1\", \"values\": [0.02795722676589132]}], \"hovertemplate\": \"index=HISPAND<br>%{xaxis.title.text}=%{x}<br>%{yaxis.title.text}=%{y}<extra></extra>\", \"legendgroup\": \"HISPAND\", \"marker\": {\"color\": \"#FF97FF\", \"symbol\": \"circle\"}, \"name\": \"HISPAND\", \"showlegend\": true, \"type\": \"splom\"}, {\"diagonal\": {\"visible\": false}, \"dimensions\": [{\"axis\": {\"matches\": true}, \"label\": \"PC-0\", \"values\": [-0.03543148520835832]}, {\"axis\": {\"matches\": true}, \"label\": \"PC-1\", \"values\": [0.0033643425565843404]}], \"hovertemplate\": \"index=BPL<br>%{xaxis.title.text}=%{x}<br>%{yaxis.title.text}=%{y}<extra></extra>\", \"legendgroup\": \"BPL\", \"marker\": {\"color\": \"#FECB52\", \"symbol\": \"circle\"}, \"name\": \"BPL\", \"showlegend\": true, \"type\": \"splom\"}, {\"diagonal\": {\"visible\": false}, \"dimensions\": [{\"axis\": {\"matches\": true}, \"label\": \"PC-0\", \"values\": [-0.03103528425257282]}, {\"axis\": {\"matches\": true}, \"label\": \"PC-1\", \"values\": [-0.00022546682603054435]}], \"hovertemplate\": \"index=CITIZEN<br>%{xaxis.title.text}=%{x}<br>%{yaxis.title.text}=%{y}<extra></extra>\", \"legendgroup\": \"CITIZEN\", \"marker\": {\"color\": \"#636efa\", \"symbol\": \"circle\"}, \"name\": \"CITIZEN\", \"showlegend\": true, \"type\": \"splom\"}, {\"diagonal\": {\"visible\": false}, \"dimensions\": [{\"axis\": {\"matches\": true}, \"label\": \"PC-0\", \"values\": [0.034498247687285696]}, {\"axis\": {\"matches\": true}, \"label\": \"PC-1\", \"values\": [0.0027814211249308014]}], \"hovertemplate\": \"index=YRNATUR<br>%{xaxis.title.text}=%{x}<br>%{yaxis.title.text}=%{y}<extra></extra>\", \"legendgroup\": \"YRNATUR\", \"marker\": {\"color\": \"#EF553B\", \"symbol\": \"circle\"}, \"name\": \"YRNATUR\", \"showlegend\": true, \"type\": \"splom\"}, {\"diagonal\": {\"visible\": false}, \"dimensions\": [{\"axis\": {\"matches\": true}, \"label\": \"PC-0\", \"values\": [-0.034730107540932156]}, {\"axis\": {\"matches\": true}, \"label\": \"PC-1\", \"values\": [0.00042873601249863243]}], \"hovertemplate\": \"index=YRIMMIG<br>%{xaxis.title.text}=%{x}<br>%{yaxis.title.text}=%{y}<extra></extra>\", \"legendgroup\": \"YRIMMIG\", \"marker\": {\"color\": \"#00cc96\", \"symbol\": \"circle\"}, \"name\": \"YRIMMIG\", \"showlegend\": true, \"type\": \"splom\"}, {\"diagonal\": {\"visible\": false}, \"dimensions\": [{\"axis\": {\"matches\": true}, \"label\": \"PC-0\", \"values\": [-0.034311562123848206]}, {\"axis\": {\"matches\": true}, \"label\": \"PC-1\", \"values\": [-0.016182577947720257]}], \"hovertemplate\": \"index=YRSUSA1<br>%{xaxis.title.text}=%{x}<br>%{yaxis.title.text}=%{y}<extra></extra>\", \"legendgroup\": \"YRSUSA1\", \"marker\": {\"color\": \"#ab63fa\", \"symbol\": \"circle\"}, \"name\": \"YRSUSA1\", \"showlegend\": true, \"type\": \"splom\"}, {\"diagonal\": {\"visible\": false}, \"dimensions\": [{\"axis\": {\"matches\": true}, \"label\": \"PC-0\", \"values\": [0.00887346081829542]}, {\"axis\": {\"matches\": true}, \"label\": \"PC-1\", \"values\": [-0.0009944852765307692]}], \"hovertemplate\": \"index=RACAMIND<br>%{xaxis.title.text}=%{x}<br>%{yaxis.title.text}=%{y}<extra></extra>\", \"legendgroup\": \"RACAMIND\", \"marker\": {\"color\": \"#FFA15A\", \"symbol\": \"circle\"}, \"name\": \"RACAMIND\", \"showlegend\": true, \"type\": \"splom\"}, {\"diagonal\": {\"visible\": false}, \"dimensions\": [{\"axis\": {\"matches\": true}, \"label\": \"PC-0\", \"values\": [-0.00926602433736818]}, {\"axis\": {\"matches\": true}, \"label\": \"PC-1\", \"values\": [0.02315721416822388]}], \"hovertemplate\": \"index=RACASIAN<br>%{xaxis.title.text}=%{x}<br>%{yaxis.title.text}=%{y}<extra></extra>\", \"legendgroup\": \"RACASIAN\", \"marker\": {\"color\": \"#19d3f3\", \"symbol\": \"circle\"}, \"name\": \"RACASIAN\", \"showlegend\": true, \"type\": \"splom\"}, {\"diagonal\": {\"visible\": false}, \"dimensions\": [{\"axis\": {\"matches\": true}, \"label\": \"PC-0\", \"values\": [0.03494987618958352]}, {\"axis\": {\"matches\": true}, \"label\": \"PC-1\", \"values\": [-0.02487353431354165]}], \"hovertemplate\": \"index=RACBLK<br>%{xaxis.title.text}=%{x}<br>%{yaxis.title.text}=%{y}<extra></extra>\", \"legendgroup\": \"RACBLK\", \"marker\": {\"color\": \"#FF6692\", \"symbol\": \"circle\"}, \"name\": \"RACBLK\", \"showlegend\": true, \"type\": \"splom\"}, {\"diagonal\": {\"visible\": false}, \"dimensions\": [{\"axis\": {\"matches\": true}, \"label\": \"PC-0\", \"values\": [0.0012023381571368624]}, {\"axis\": {\"matches\": true}, \"label\": \"PC-1\", \"values\": [0.0017315070889057876]}], \"hovertemplate\": \"index=RACPACIS<br>%{xaxis.title.text}=%{x}<br>%{yaxis.title.text}=%{y}<extra></extra>\", \"legendgroup\": \"RACPACIS\", \"marker\": {\"color\": \"#B6E880\", \"symbol\": \"circle\"}, \"name\": \"RACPACIS\", \"showlegend\": true, \"type\": \"splom\"}, {\"diagonal\": {\"visible\": false}, \"dimensions\": [{\"axis\": {\"matches\": true}, \"label\": \"PC-0\", \"values\": [-0.026314224632623]}, {\"axis\": {\"matches\": true}, \"label\": \"PC-1\", \"values\": [0.01299145590612456]}], \"hovertemplate\": \"index=RACWHT<br>%{xaxis.title.text}=%{x}<br>%{yaxis.title.text}=%{y}<extra></extra>\", \"legendgroup\": \"RACWHT\", \"marker\": {\"color\": \"#FF97FF\", \"symbol\": \"circle\"}, \"name\": \"RACWHT\", \"showlegend\": true, \"type\": \"splom\"}, {\"diagonal\": {\"visible\": false}, \"dimensions\": [{\"axis\": {\"matches\": true}, \"label\": \"PC-0\", \"values\": [0.010055050407232796]}, {\"axis\": {\"matches\": true}, \"label\": \"PC-1\", \"values\": [0.015989294724621437]}], \"hovertemplate\": \"index=RACOTHER<br>%{xaxis.title.text}=%{x}<br>%{yaxis.title.text}=%{y}<extra></extra>\", \"legendgroup\": \"RACOTHER\", \"marker\": {\"color\": \"#FECB52\", \"symbol\": \"circle\"}, \"name\": \"RACOTHER\", \"showlegend\": true, \"type\": \"splom\"}, {\"diagonal\": {\"visible\": false}, \"dimensions\": [{\"axis\": {\"matches\": true}, \"label\": \"PC-0\", \"values\": [-0.015155097910405714]}, {\"axis\": {\"matches\": true}, \"label\": \"PC-1\", \"values\": [0.03440226066959653]}], \"hovertemplate\": \"index=HCOVANY<br>%{xaxis.title.text}=%{x}<br>%{yaxis.title.text}=%{y}<extra></extra>\", \"legendgroup\": \"HCOVANY\", \"marker\": {\"color\": \"#636efa\", \"symbol\": \"circle\"}, \"name\": \"HCOVANY\", \"showlegend\": true, \"type\": \"splom\"}, {\"diagonal\": {\"visible\": false}, \"dimensions\": [{\"axis\": {\"matches\": true}, \"label\": \"PC-0\", \"values\": [-0.10414626493195338]}, {\"axis\": {\"matches\": true}, \"label\": \"PC-1\", \"values\": [0.06453122574945605]}], \"hovertemplate\": \"index=HCOVPRIV<br>%{xaxis.title.text}=%{x}<br>%{yaxis.title.text}=%{y}<extra></extra>\", \"legendgroup\": \"HCOVPRIV\", \"marker\": {\"color\": \"#EF553B\", \"symbol\": \"circle\"}, \"name\": \"HCOVPRIV\", \"showlegend\": true, \"type\": \"splom\"}, {\"diagonal\": {\"visible\": false}, \"dimensions\": [{\"axis\": {\"matches\": true}, \"label\": \"PC-0\", \"values\": [-0.09657228008268894]}, {\"axis\": {\"matches\": true}, \"label\": \"PC-1\", \"values\": [0.085750455642105]}], \"hovertemplate\": \"index=HINSEMP<br>%{xaxis.title.text}=%{x}<br>%{yaxis.title.text}=%{y}<extra></extra>\", \"legendgroup\": \"HINSEMP\", \"marker\": {\"color\": \"#00cc96\", \"symbol\": \"circle\"}, \"name\": \"HINSEMP\", \"showlegend\": true, \"type\": \"splom\"}, {\"diagonal\": {\"visible\": false}, \"dimensions\": [{\"axis\": {\"matches\": true}, \"label\": \"PC-0\", \"values\": [-0.005984758706535915]}, {\"axis\": {\"matches\": true}, \"label\": \"PC-1\", \"values\": [-0.03678752847311694]}], \"hovertemplate\": \"index=HINSPUR<br>%{xaxis.title.text}=%{x}<br>%{yaxis.title.text}=%{y}<extra></extra>\", \"legendgroup\": \"HINSPUR\", \"marker\": {\"color\": \"#ab63fa\", \"symbol\": \"circle\"}, \"name\": \"HINSPUR\", \"showlegend\": true, \"type\": \"splom\"}, {\"diagonal\": {\"visible\": false}, \"dimensions\": [{\"axis\": {\"matches\": true}, \"label\": \"PC-0\", \"values\": [-0.005898137417128748]}, {\"axis\": {\"matches\": true}, \"label\": \"PC-1\", \"values\": [-0.0211400191448643]}], \"hovertemplate\": \"index=HINSTRI<br>%{xaxis.title.text}=%{x}<br>%{yaxis.title.text}=%{y}<extra></extra>\", \"legendgroup\": \"HINSTRI\", \"marker\": {\"color\": \"#FFA15A\", \"symbol\": \"circle\"}, \"name\": \"HINSTRI\", \"showlegend\": true, \"type\": \"splom\"}, {\"diagonal\": {\"visible\": false}, \"dimensions\": [{\"axis\": {\"matches\": true}, \"label\": \"PC-0\", \"values\": [0.09477480542128432]}, {\"axis\": {\"matches\": true}, \"label\": \"PC-1\", \"values\": [-0.10051543336038417]}], \"hovertemplate\": \"index=HCOVPUB<br>%{xaxis.title.text}=%{x}<br>%{yaxis.title.text}=%{y}<extra></extra>\", \"legendgroup\": \"HCOVPUB\", \"marker\": {\"color\": \"#19d3f3\", \"symbol\": \"circle\"}, \"name\": \"HCOVPUB\", \"showlegend\": true, \"type\": \"splom\"}, {\"diagonal\": {\"visible\": false}, \"dimensions\": [{\"axis\": {\"matches\": true}, \"label\": \"PC-0\", \"values\": [0.1157816604316089]}, {\"axis\": {\"matches\": true}, \"label\": \"PC-1\", \"values\": [-0.003880814248442217]}], \"hovertemplate\": \"index=HINSCAID<br>%{xaxis.title.text}=%{x}<br>%{yaxis.title.text}=%{y}<extra></extra>\", \"legendgroup\": \"HINSCAID\", \"marker\": {\"color\": \"#FF6692\", \"symbol\": \"circle\"}, \"name\": \"HINSCAID\", \"showlegend\": true, \"type\": \"splom\"}, {\"diagonal\": {\"visible\": false}, \"dimensions\": [{\"axis\": {\"matches\": true}, \"label\": \"PC-0\", \"values\": [0.029213662545201767]}, {\"axis\": {\"matches\": true}, \"label\": \"PC-1\", \"values\": [-0.14560877166708341]}], \"hovertemplate\": \"index=HINSCARE<br>%{xaxis.title.text}=%{x}<br>%{yaxis.title.text}=%{y}<extra></extra>\", \"legendgroup\": \"HINSCARE\", \"marker\": {\"color\": \"#B6E880\", \"symbol\": \"circle\"}, \"name\": \"HINSCARE\", \"showlegend\": true, \"type\": \"splom\"}, {\"diagonal\": {\"visible\": false}, \"dimensions\": [{\"axis\": {\"matches\": true}, \"label\": \"PC-0\", \"values\": [-0.010728321919812798]}, {\"axis\": {\"matches\": true}, \"label\": \"PC-1\", \"values\": [-0.04983098381769478]}], \"hovertemplate\": \"index=HINSVA<br>%{xaxis.title.text}=%{x}<br>%{yaxis.title.text}=%{y}<extra></extra>\", \"legendgroup\": \"HINSVA\", \"marker\": {\"color\": \"#FF97FF\", \"symbol\": \"circle\"}, \"name\": \"HINSVA\", \"showlegend\": true, \"type\": \"splom\"}, {\"diagonal\": {\"visible\": false}, \"dimensions\": [{\"axis\": {\"matches\": true}, \"label\": \"PC-0\", \"values\": [0.007433933234076861]}, {\"axis\": {\"matches\": true}, \"label\": \"PC-1\", \"values\": [0.0008966188976270954]}], \"hovertemplate\": \"index=HINSIHS<br>%{xaxis.title.text}=%{x}<br>%{yaxis.title.text}=%{y}<extra></extra>\", \"legendgroup\": \"HINSIHS\", \"marker\": {\"color\": \"#FECB52\", \"symbol\": \"circle\"}, \"name\": \"HINSIHS\", \"showlegend\": true, \"type\": \"splom\"}, {\"diagonal\": {\"visible\": false}, \"dimensions\": [{\"axis\": {\"matches\": true}, \"label\": \"PC-0\", \"values\": [0.10422782007499475]}, {\"axis\": {\"matches\": true}, \"label\": \"PC-1\", \"values\": [0.09440998074706321]}], \"hovertemplate\": \"index=SCHOOL<br>%{xaxis.title.text}=%{x}<br>%{yaxis.title.text}=%{y}<extra></extra>\", \"legendgroup\": \"SCHOOL\", \"marker\": {\"color\": \"#636efa\", \"symbol\": \"circle\"}, \"name\": \"SCHOOL\", \"showlegend\": true, \"type\": \"splom\"}, {\"diagonal\": {\"visible\": false}, \"dimensions\": [{\"axis\": {\"matches\": true}, \"label\": \"PC-0\", \"values\": [0.10199238363305445]}, {\"axis\": {\"matches\": true}, \"label\": \"PC-1\", \"values\": [0.08659438312390667]}], \"hovertemplate\": \"index=GRADEATT<br>%{xaxis.title.text}=%{x}<br>%{yaxis.title.text}=%{y}<extra></extra>\", \"legendgroup\": \"GRADEATT\", \"marker\": {\"color\": \"#EF553B\", \"symbol\": \"circle\"}, \"name\": \"GRADEATT\", \"showlegend\": true, \"type\": \"splom\"}, {\"diagonal\": {\"visible\": false}, \"dimensions\": [{\"axis\": {\"matches\": true}, \"label\": \"PC-0\", \"values\": [0.10166063002155303]}, {\"axis\": {\"matches\": true}, \"label\": \"PC-1\", \"values\": [0.09063545678747333]}], \"hovertemplate\": \"index=SCHLTYPE<br>%{xaxis.title.text}=%{x}<br>%{yaxis.title.text}=%{y}<extra></extra>\", \"legendgroup\": \"SCHLTYPE\", \"marker\": {\"color\": \"#00cc96\", \"symbol\": \"circle\"}, \"name\": \"SCHLTYPE\", \"showlegend\": true, \"type\": \"splom\"}, {\"diagonal\": {\"visible\": false}, \"dimensions\": [{\"axis\": {\"matches\": true}, \"label\": \"PC-0\", \"values\": [-0.10978391150610903]}, {\"axis\": {\"matches\": true}, \"label\": \"PC-1\", \"values\": [-0.0051388276620875075]}], \"hovertemplate\": \"index=DEGFIELD<br>%{xaxis.title.text}=%{x}<br>%{yaxis.title.text}=%{y}<extra></extra>\", \"legendgroup\": \"DEGFIELD\", \"marker\": {\"color\": \"#ab63fa\", \"symbol\": \"circle\"}, \"name\": \"DEGFIELD\", \"showlegend\": true, \"type\": \"splom\"}, {\"diagonal\": {\"visible\": false}, \"dimensions\": [{\"axis\": {\"matches\": true}, \"label\": \"PC-0\", \"values\": [-0.10980288667050628]}, {\"axis\": {\"matches\": true}, \"label\": \"PC-1\", \"values\": [-0.005151615390569709]}], \"hovertemplate\": \"index=DEGFIELDD<br>%{xaxis.title.text}=%{x}<br>%{yaxis.title.text}=%{y}<extra></extra>\", \"legendgroup\": \"DEGFIELDD\", \"marker\": {\"color\": \"#FFA15A\", \"symbol\": \"circle\"}, \"name\": \"DEGFIELDD\", \"showlegend\": true, \"type\": \"splom\"}, {\"diagonal\": {\"visible\": false}, \"dimensions\": [{\"axis\": {\"matches\": true}, \"label\": \"PC-0\", \"values\": [-0.03576619157400029]}, {\"axis\": {\"matches\": true}, \"label\": \"PC-1\", \"values\": [-0.0009727777093235317]}], \"hovertemplate\": \"index=DEGFIELD2<br>%{xaxis.title.text}=%{x}<br>%{yaxis.title.text}=%{y}<extra></extra>\", \"legendgroup\": \"DEGFIELD2\", \"marker\": {\"color\": \"#19d3f3\", \"symbol\": \"circle\"}, \"name\": \"DEGFIELD2\", \"showlegend\": true, \"type\": \"splom\"}, {\"diagonal\": {\"visible\": false}, \"dimensions\": [{\"axis\": {\"matches\": true}, \"label\": \"PC-0\", \"values\": [-0.03577025777986535]}, {\"axis\": {\"matches\": true}, \"label\": \"PC-1\", \"values\": [-0.0009736444973094348]}], \"hovertemplate\": \"index=DEGFIELD2D<br>%{xaxis.title.text}=%{x}<br>%{yaxis.title.text}=%{y}<extra></extra>\", \"legendgroup\": \"DEGFIELD2D\", \"marker\": {\"color\": \"#FF6692\", \"symbol\": \"circle\"}, \"name\": \"DEGFIELD2D\", \"showlegend\": true, \"type\": \"splom\"}, {\"diagonal\": {\"visible\": false}, \"dimensions\": [{\"axis\": {\"matches\": true}, \"label\": \"PC-0\", \"values\": [0.027519559498468002]}, {\"axis\": {\"matches\": true}, \"label\": \"PC-1\", \"values\": [-0.20102822262659656]}], \"hovertemplate\": \"index=EMPSTAT<br>%{xaxis.title.text}=%{x}<br>%{yaxis.title.text}=%{y}<extra></extra>\", \"legendgroup\": \"EMPSTAT\", \"marker\": {\"color\": \"#B6E880\", \"symbol\": \"circle\"}, \"name\": \"EMPSTAT\", \"showlegend\": true, \"type\": \"splom\"}, {\"diagonal\": {\"visible\": false}, \"dimensions\": [{\"axis\": {\"matches\": true}, \"label\": \"PC-0\", \"values\": [-0.23254551416567032]}, {\"axis\": {\"matches\": true}, \"label\": \"PC-1\", \"values\": [-0.07110649852242101]}], \"hovertemplate\": \"index=LABFORCE<br>%{xaxis.title.text}=%{x}<br>%{yaxis.title.text}=%{y}<extra></extra>\", \"legendgroup\": \"LABFORCE\", \"marker\": {\"color\": \"#FF97FF\", \"symbol\": \"circle\"}, \"name\": \"LABFORCE\", \"showlegend\": true, \"type\": \"splom\"}, {\"diagonal\": {\"visible\": false}, \"dimensions\": [{\"axis\": {\"matches\": true}, \"label\": \"PC-0\", \"values\": [-0.20476747049571253]}, {\"axis\": {\"matches\": true}, \"label\": \"PC-1\", \"values\": [-0.012222249783548345]}], \"hovertemplate\": \"index=CLASSWKR<br>%{xaxis.title.text}=%{x}<br>%{yaxis.title.text}=%{y}<extra></extra>\", \"legendgroup\": \"CLASSWKR\", \"marker\": {\"color\": \"#FECB52\", \"symbol\": \"circle\"}, \"name\": \"CLASSWKR\", \"showlegend\": true, \"type\": \"splom\"}, {\"diagonal\": {\"visible\": false}, \"dimensions\": [{\"axis\": {\"matches\": true}, \"label\": \"PC-0\", \"values\": [-0.12407447556626225]}, {\"axis\": {\"matches\": true}, \"label\": \"PC-1\", \"values\": [-0.026346097500825373]}], \"hovertemplate\": \"index=OCC<br>%{xaxis.title.text}=%{x}<br>%{yaxis.title.text}=%{y}<extra></extra>\", \"legendgroup\": \"OCC\", \"marker\": {\"color\": \"#636efa\", \"symbol\": \"circle\"}, \"name\": \"OCC\", \"showlegend\": true, \"type\": \"splom\"}, {\"diagonal\": {\"visible\": false}, \"dimensions\": [{\"axis\": {\"matches\": true}, \"label\": \"PC-0\", \"values\": [-0.17854160540342792]}, {\"axis\": {\"matches\": true}, \"label\": \"PC-1\", \"values\": [-0.010684662083681837]}], \"hovertemplate\": \"index=IND<br>%{xaxis.title.text}=%{x}<br>%{yaxis.title.text}=%{y}<extra></extra>\", \"legendgroup\": \"IND\", \"marker\": {\"color\": \"#EF553B\", \"symbol\": \"circle\"}, \"name\": \"IND\", \"showlegend\": true, \"type\": \"splom\"}, {\"diagonal\": {\"visible\": false}, \"dimensions\": [{\"axis\": {\"matches\": true}, \"label\": \"PC-0\", \"values\": [-0.2057829649455402]}, {\"axis\": {\"matches\": true}, \"label\": \"PC-1\", \"values\": [0.015943477086442042]}], \"hovertemplate\": \"index=UHRSWORK<br>%{xaxis.title.text}=%{x}<br>%{yaxis.title.text}=%{y}<extra></extra>\", \"legendgroup\": \"UHRSWORK\", \"marker\": {\"color\": \"#00cc96\", \"symbol\": \"circle\"}, \"name\": \"UHRSWORK\", \"showlegend\": true, \"type\": \"splom\"}, {\"diagonal\": {\"visible\": false}, \"dimensions\": [{\"axis\": {\"matches\": true}, \"label\": \"PC-0\", \"values\": [-0.2021907519319797]}, {\"axis\": {\"matches\": true}, \"label\": \"PC-1\", \"values\": [-0.08490185810785464]}], \"hovertemplate\": \"index=LOOKING<br>%{xaxis.title.text}=%{x}<br>%{yaxis.title.text}=%{y}<extra></extra>\", \"legendgroup\": \"LOOKING\", \"marker\": {\"color\": \"#ab63fa\", \"symbol\": \"circle\"}, \"name\": \"LOOKING\", \"showlegend\": true, \"type\": \"splom\"}, {\"diagonal\": {\"visible\": false}, \"dimensions\": [{\"axis\": {\"matches\": true}, \"label\": \"PC-0\", \"values\": [-0.17623000099729433]}, {\"axis\": {\"matches\": true}, \"label\": \"PC-1\", \"values\": [-0.17300836945640335]}], \"hovertemplate\": \"index=AVAILBLE<br>%{xaxis.title.text}=%{x}<br>%{yaxis.title.text}=%{y}<extra></extra>\", \"legendgroup\": \"AVAILBLE\", \"marker\": {\"color\": \"#FFA15A\", \"symbol\": \"circle\"}, \"name\": \"AVAILBLE\", \"showlegend\": true, \"type\": \"splom\"}, {\"diagonal\": {\"visible\": false}, \"dimensions\": [{\"axis\": {\"matches\": true}, \"label\": \"PC-0\", \"values\": [0.1647443654261001]}, {\"axis\": {\"matches\": true}, \"label\": \"PC-1\", \"values\": [0.1762526010529581]}], \"hovertemplate\": \"index=INCTOT<br>%{xaxis.title.text}=%{x}<br>%{yaxis.title.text}=%{y}<extra></extra>\", \"legendgroup\": \"INCTOT\", \"marker\": {\"color\": \"#19d3f3\", \"symbol\": \"circle\"}, \"name\": \"INCTOT\", \"showlegend\": true, \"type\": \"splom\"}, {\"diagonal\": {\"visible\": false}, \"dimensions\": [{\"axis\": {\"matches\": true}, \"label\": \"PC-0\", \"values\": [0.07671662573327262]}, {\"axis\": {\"matches\": true}, \"label\": \"PC-1\", \"values\": [-0.20484117482400455]}], \"hovertemplate\": \"index=FTOTINC<br>%{xaxis.title.text}=%{x}<br>%{yaxis.title.text}=%{y}<extra></extra>\", \"legendgroup\": \"FTOTINC\", \"marker\": {\"color\": \"#FF6692\", \"symbol\": \"circle\"}, \"name\": \"FTOTINC\", \"showlegend\": true, \"type\": \"splom\"}, {\"diagonal\": {\"visible\": false}, \"dimensions\": [{\"axis\": {\"matches\": true}, \"label\": \"PC-0\", \"values\": [-0.12771456685562851]}, {\"axis\": {\"matches\": true}, \"label\": \"PC-1\", \"values\": [0.10216906272530131]}], \"hovertemplate\": \"index=POVERTY<br>%{xaxis.title.text}=%{x}<br>%{yaxis.title.text}=%{y}<extra></extra>\", \"legendgroup\": \"POVERTY\", \"marker\": {\"color\": \"#B6E880\", \"symbol\": \"circle\"}, \"name\": \"POVERTY\", \"showlegend\": true, \"type\": \"splom\"}, {\"diagonal\": {\"visible\": false}, \"dimensions\": [{\"axis\": {\"matches\": true}, \"label\": \"PC-0\", \"values\": [-0.20283666667158537]}, {\"axis\": {\"matches\": true}, \"label\": \"PC-1\", \"values\": [-0.003494718992535537]}], \"hovertemplate\": \"index=OCCSCORE<br>%{xaxis.title.text}=%{x}<br>%{yaxis.title.text}=%{y}<extra></extra>\", \"legendgroup\": \"OCCSCORE\", \"marker\": {\"color\": \"#FF97FF\", \"symbol\": \"circle\"}, \"name\": \"OCCSCORE\", \"showlegend\": true, \"type\": \"splom\"}, {\"diagonal\": {\"visible\": false}, \"dimensions\": [{\"axis\": {\"matches\": true}, \"label\": \"PC-0\", \"values\": [-0.20300073671251964]}, {\"axis\": {\"matches\": true}, \"label\": \"PC-1\", \"values\": [0.003112593776563434]}], \"hovertemplate\": \"index=HWSEI<br>%{xaxis.title.text}=%{x}<br>%{yaxis.title.text}=%{y}<extra></extra>\", \"legendgroup\": \"HWSEI\", \"marker\": {\"color\": \"#FECB52\", \"symbol\": \"circle\"}, \"name\": \"HWSEI\", \"showlegend\": true, \"type\": \"splom\"}, {\"diagonal\": {\"visible\": false}, \"dimensions\": [{\"axis\": {\"matches\": true}, \"label\": \"PC-0\", \"values\": [-0.15222403075179913]}, {\"axis\": {\"matches\": true}, \"label\": \"PC-1\", \"values\": [-0.17845420967352368]}], \"hovertemplate\": \"index=VETSTAT<br>%{xaxis.title.text}=%{x}<br>%{yaxis.title.text}=%{y}<extra></extra>\", \"legendgroup\": \"VETSTAT\", \"marker\": {\"color\": \"#636efa\", \"symbol\": \"circle\"}, \"name\": \"VETSTAT\", \"showlegend\": true, \"type\": \"splom\"}, {\"diagonal\": {\"visible\": false}, \"dimensions\": [{\"axis\": {\"matches\": true}, \"label\": \"PC-0\", \"values\": [-0.158957229347854]}, {\"axis\": {\"matches\": true}, \"label\": \"PC-1\", \"values\": [-0.1834957535020303]}], \"hovertemplate\": \"index=VETSTATD<br>%{xaxis.title.text}=%{x}<br>%{yaxis.title.text}=%{y}<extra></extra>\", \"legendgroup\": \"VETSTATD\", \"marker\": {\"color\": \"#EF553B\", \"symbol\": \"circle\"}, \"name\": \"VETSTATD\", \"showlegend\": true, \"type\": \"splom\"}, {\"diagonal\": {\"visible\": false}, \"dimensions\": [{\"axis\": {\"matches\": true}, \"label\": \"PC-0\", \"values\": [-0.03580130287490249]}, {\"axis\": {\"matches\": true}, \"label\": \"PC-1\", \"values\": [-0.06185934654300499]}], \"hovertemplate\": \"index=VET01LTR<br>%{xaxis.title.text}=%{x}<br>%{yaxis.title.text}=%{y}<extra></extra>\", \"legendgroup\": \"VET01LTR\", \"marker\": {\"color\": \"#00cc96\", \"symbol\": \"circle\"}, \"name\": \"VET01LTR\", \"showlegend\": true, \"type\": \"splom\"}, {\"diagonal\": {\"visible\": false}, \"dimensions\": [{\"axis\": {\"matches\": true}, \"label\": \"PC-0\", \"values\": [-0.18087267733898943]}, {\"axis\": {\"matches\": true}, \"label\": \"PC-1\", \"values\": [0.025125586987532783]}], \"hovertemplate\": \"index=PWSTATE2<br>%{xaxis.title.text}=%{x}<br>%{yaxis.title.text}=%{y}<extra></extra>\", \"legendgroup\": \"PWSTATE2\", \"marker\": {\"color\": \"#ab63fa\", \"symbol\": \"circle\"}, \"name\": \"PWSTATE2\", \"showlegend\": true, \"type\": \"splom\"}, {\"diagonal\": {\"visible\": false}, \"dimensions\": [{\"axis\": {\"matches\": true}, \"label\": \"PC-0\", \"values\": [-0.09783217674979493]}, {\"axis\": {\"matches\": true}, \"label\": \"PC-1\", \"values\": [0.018485609567456228]}], \"hovertemplate\": \"index=PWCOUNTY<br>%{xaxis.title.text}=%{x}<br>%{yaxis.title.text}=%{y}<extra></extra>\", \"legendgroup\": \"PWCOUNTY\", \"marker\": {\"color\": \"#FFA15A\", \"symbol\": \"circle\"}, \"name\": \"PWCOUNTY\", \"showlegend\": true, \"type\": \"splom\"}, {\"diagonal\": {\"visible\": false}, \"dimensions\": [{\"axis\": {\"matches\": true}, \"label\": \"PC-0\", \"values\": [-0.19423478144964595]}, {\"axis\": {\"matches\": true}, \"label\": \"PC-1\", \"values\": [0.023619387796662065]}], \"hovertemplate\": \"index=PWTYPE<br>%{xaxis.title.text}=%{x}<br>%{yaxis.title.text}=%{y}<extra></extra>\", \"legendgroup\": \"PWTYPE\", \"marker\": {\"color\": \"#19d3f3\", \"symbol\": \"circle\"}, \"name\": \"PWTYPE\", \"showlegend\": true, \"type\": \"splom\"}, {\"diagonal\": {\"visible\": false}, \"dimensions\": [{\"axis\": {\"matches\": true}, \"label\": \"PC-0\", \"values\": [-0.08360629784799765]}, {\"axis\": {\"matches\": true}, \"label\": \"PC-1\", \"values\": [0.012794939028611318]}], \"hovertemplate\": \"index=PWPUMA00<br>%{xaxis.title.text}=%{x}<br>%{yaxis.title.text}=%{y}<extra></extra>\", \"legendgroup\": \"PWPUMA00\", \"marker\": {\"color\": \"#FF6692\", \"symbol\": \"circle\"}, \"name\": \"PWPUMA00\", \"showlegend\": true, \"type\": \"splom\"}, {\"diagonal\": {\"visible\": false}, \"dimensions\": [{\"axis\": {\"matches\": true}, \"label\": \"PC-0\", \"values\": [-0.10459547051755405]}, {\"axis\": {\"matches\": true}, \"label\": \"PC-1\", \"values\": [-0.001133459381219805]}], \"hovertemplate\": \"index=TRANWORK<br>%{xaxis.title.text}=%{x}<br>%{yaxis.title.text}=%{y}<extra></extra>\", \"legendgroup\": \"TRANWORK\", \"marker\": {\"color\": \"#B6E880\", \"symbol\": \"circle\"}, \"name\": \"TRANWORK\", \"showlegend\": true, \"type\": \"splom\"}, {\"diagonal\": {\"visible\": false}, \"dimensions\": [{\"axis\": {\"matches\": true}, \"label\": \"PC-0\", \"values\": [-0.19261019663042822]}, {\"axis\": {\"matches\": true}, \"label\": \"PC-1\", \"values\": [0.03570070805878761]}], \"hovertemplate\": \"index=CARPOOL<br>%{xaxis.title.text}=%{x}<br>%{yaxis.title.text}=%{y}<extra></extra>\", \"legendgroup\": \"CARPOOL\", \"marker\": {\"color\": \"#FF97FF\", \"symbol\": \"circle\"}, \"name\": \"CARPOOL\", \"showlegend\": true, \"type\": \"splom\"}, {\"diagonal\": {\"visible\": false}, \"dimensions\": [{\"axis\": {\"matches\": true}, \"label\": \"PC-0\", \"values\": [-0.17410649849690546]}, {\"axis\": {\"matches\": true}, \"label\": \"PC-1\", \"values\": [0.03199250471199138]}], \"hovertemplate\": \"index=RIDERS<br>%{xaxis.title.text}=%{x}<br>%{yaxis.title.text}=%{y}<extra></extra>\", \"legendgroup\": \"RIDERS\", \"marker\": {\"color\": \"#FECB52\", \"symbol\": \"circle\"}, \"name\": \"RIDERS\", \"showlegend\": true, \"type\": \"splom\"}, {\"diagonal\": {\"visible\": false}, \"dimensions\": [{\"axis\": {\"matches\": true}, \"label\": \"PC-0\", \"values\": [-0.14857340148647694]}, {\"axis\": {\"matches\": true}, \"label\": \"PC-1\", \"values\": [0.026854140265785493]}], \"hovertemplate\": \"index=TRANTIME<br>%{xaxis.title.text}=%{x}<br>%{yaxis.title.text}=%{y}<extra></extra>\", \"legendgroup\": \"TRANTIME\", \"marker\": {\"color\": \"#636efa\", \"symbol\": \"circle\"}, \"name\": \"TRANTIME\", \"showlegend\": true, \"type\": \"splom\"}, {\"diagonal\": {\"visible\": false}, \"dimensions\": [{\"axis\": {\"matches\": true}, \"label\": \"PC-0\", \"values\": [-0.18143968699643487]}, {\"axis\": {\"matches\": true}, \"label\": \"PC-1\", \"values\": [0.027372182855310435]}], \"hovertemplate\": \"index=DEPARTS<br>%{xaxis.title.text}=%{x}<br>%{yaxis.title.text}=%{y}<extra></extra>\", \"legendgroup\": \"DEPARTS\", \"marker\": {\"color\": \"#EF553B\", \"symbol\": \"circle\"}, \"name\": \"DEPARTS\", \"showlegend\": true, \"type\": \"splom\"}, {\"diagonal\": {\"visible\": false}, \"dimensions\": [{\"axis\": {\"matches\": true}, \"label\": \"PC-0\", \"values\": [-0.1846139745261688]}, {\"axis\": {\"matches\": true}, \"label\": \"PC-1\", \"values\": [0.0281750171091372]}], \"hovertemplate\": \"index=ARRIVES<br>%{xaxis.title.text}=%{x}<br>%{yaxis.title.text}=%{y}<extra></extra>\", \"legendgroup\": \"ARRIVES\", \"marker\": {\"color\": \"#00cc96\", \"symbol\": \"circle\"}, \"name\": \"ARRIVES\", \"showlegend\": true, \"type\": \"splom\"}, {\"diagonal\": {\"visible\": false}, \"dimensions\": [{\"axis\": {\"matches\": true}, \"label\": \"PC-0\", \"values\": [-0.13589860900853895]}, {\"axis\": {\"matches\": true}, \"label\": \"PC-1\", \"values\": [-0.13357301604192745]}], \"hovertemplate\": \"index=GCHOUSE<br>%{xaxis.title.text}=%{x}<br>%{yaxis.title.text}=%{y}<extra></extra>\", \"legendgroup\": \"GCHOUSE\", \"marker\": {\"color\": \"#ab63fa\", \"symbol\": \"circle\"}, \"name\": \"GCHOUSE\", \"showlegend\": true, \"type\": \"splom\"}, {\"diagonal\": {\"visible\": false}, \"dimensions\": [{\"axis\": {\"matches\": true}, \"label\": \"PC-0\", \"values\": [-0.010282942803190264]}, {\"axis\": {\"matches\": true}, \"label\": \"PC-1\", \"values\": [-0.006324300700407759]}], \"hovertemplate\": \"index=GCMONTHS<br>%{xaxis.title.text}=%{x}<br>%{yaxis.title.text}=%{y}<extra></extra>\", \"legendgroup\": \"GCMONTHS\", \"marker\": {\"color\": \"#FFA15A\", \"symbol\": \"circle\"}, \"name\": \"GCMONTHS\", \"showlegend\": true, \"type\": \"splom\"}, {\"diagonal\": {\"visible\": false}, \"dimensions\": [{\"axis\": {\"matches\": true}, \"label\": \"PC-0\", \"values\": [-0.013838462849015054]}, {\"axis\": {\"matches\": true}, \"label\": \"PC-1\", \"values\": [-0.004737955014686166]}], \"hovertemplate\": \"index=GCRESPON<br>%{xaxis.title.text}=%{x}<br>%{yaxis.title.text}=%{y}<extra></extra>\", \"legendgroup\": \"GCRESPON\", \"marker\": {\"color\": \"#19d3f3\", \"symbol\": \"circle\"}, \"name\": \"GCRESPON\", \"showlegend\": true, \"type\": \"splom\"}],                        {\"dragmode\": \"select\", \"legend\": {\"title\": {\"text\": \"index\"}, \"tracegroupgap\": 0}, \"margin\": {\"t\": 60}, \"template\": {\"data\": {\"bar\": [{\"error_x\": {\"color\": \"#2a3f5f\"}, \"error_y\": {\"color\": \"#2a3f5f\"}, \"marker\": {\"line\": {\"color\": \"#E5ECF6\", \"width\": 0.5}}, \"type\": \"bar\"}], \"barpolar\": [{\"marker\": {\"line\": {\"color\": \"#E5ECF6\", \"width\": 0.5}}, \"type\": \"barpolar\"}], \"carpet\": [{\"aaxis\": {\"endlinecolor\": \"#2a3f5f\", \"gridcolor\": \"white\", \"linecolor\": \"white\", \"minorgridcolor\": \"white\", \"startlinecolor\": \"#2a3f5f\"}, \"baxis\": {\"endlinecolor\": \"#2a3f5f\", \"gridcolor\": \"white\", \"linecolor\": \"white\", \"minorgridcolor\": \"white\", \"startlinecolor\": \"#2a3f5f\"}, \"type\": \"carpet\"}], \"choropleth\": [{\"colorbar\": {\"outlinewidth\": 0, \"ticks\": \"\"}, \"type\": \"choropleth\"}], \"contour\": [{\"colorbar\": {\"outlinewidth\": 0, \"ticks\": \"\"}, \"colorscale\": [[0.0, \"#0d0887\"], [0.1111111111111111, \"#46039f\"], [0.2222222222222222, \"#7201a8\"], [0.3333333333333333, \"#9c179e\"], [0.4444444444444444, \"#bd3786\"], [0.5555555555555556, \"#d8576b\"], [0.6666666666666666, \"#ed7953\"], [0.7777777777777778, \"#fb9f3a\"], [0.8888888888888888, \"#fdca26\"], [1.0, \"#f0f921\"]], \"type\": \"contour\"}], \"contourcarpet\": [{\"colorbar\": {\"outlinewidth\": 0, \"ticks\": \"\"}, \"type\": \"contourcarpet\"}], \"heatmap\": [{\"colorbar\": {\"outlinewidth\": 0, \"ticks\": \"\"}, \"colorscale\": [[0.0, \"#0d0887\"], [0.1111111111111111, \"#46039f\"], [0.2222222222222222, \"#7201a8\"], [0.3333333333333333, \"#9c179e\"], [0.4444444444444444, \"#bd3786\"], [0.5555555555555556, \"#d8576b\"], [0.6666666666666666, \"#ed7953\"], [0.7777777777777778, \"#fb9f3a\"], [0.8888888888888888, \"#fdca26\"], [1.0, \"#f0f921\"]], \"type\": \"heatmap\"}], \"heatmapgl\": [{\"colorbar\": {\"outlinewidth\": 0, \"ticks\": \"\"}, \"colorscale\": [[0.0, \"#0d0887\"], [0.1111111111111111, \"#46039f\"], [0.2222222222222222, \"#7201a8\"], [0.3333333333333333, \"#9c179e\"], [0.4444444444444444, \"#bd3786\"], [0.5555555555555556, \"#d8576b\"], [0.6666666666666666, \"#ed7953\"], [0.7777777777777778, \"#fb9f3a\"], [0.8888888888888888, \"#fdca26\"], [1.0, \"#f0f921\"]], \"type\": \"heatmapgl\"}], \"histogram\": [{\"marker\": {\"colorbar\": {\"outlinewidth\": 0, \"ticks\": \"\"}}, \"type\": \"histogram\"}], \"histogram2d\": [{\"colorbar\": {\"outlinewidth\": 0, \"ticks\": \"\"}, \"colorscale\": [[0.0, \"#0d0887\"], [0.1111111111111111, \"#46039f\"], [0.2222222222222222, \"#7201a8\"], [0.3333333333333333, \"#9c179e\"], [0.4444444444444444, \"#bd3786\"], [0.5555555555555556, \"#d8576b\"], [0.6666666666666666, \"#ed7953\"], [0.7777777777777778, \"#fb9f3a\"], [0.8888888888888888, \"#fdca26\"], [1.0, \"#f0f921\"]], \"type\": \"histogram2d\"}], \"histogram2dcontour\": [{\"colorbar\": {\"outlinewidth\": 0, \"ticks\": \"\"}, \"colorscale\": [[0.0, \"#0d0887\"], [0.1111111111111111, \"#46039f\"], [0.2222222222222222, \"#7201a8\"], [0.3333333333333333, \"#9c179e\"], [0.4444444444444444, \"#bd3786\"], [0.5555555555555556, \"#d8576b\"], [0.6666666666666666, \"#ed7953\"], [0.7777777777777778, \"#fb9f3a\"], [0.8888888888888888, \"#fdca26\"], [1.0, \"#f0f921\"]], \"type\": \"histogram2dcontour\"}], \"mesh3d\": [{\"colorbar\": {\"outlinewidth\": 0, \"ticks\": \"\"}, \"type\": \"mesh3d\"}], \"parcoords\": [{\"line\": {\"colorbar\": {\"outlinewidth\": 0, \"ticks\": \"\"}}, \"type\": \"parcoords\"}], \"pie\": [{\"automargin\": true, \"type\": \"pie\"}], \"scatter\": [{\"marker\": {\"colorbar\": {\"outlinewidth\": 0, \"ticks\": \"\"}}, \"type\": \"scatter\"}], \"scatter3d\": [{\"line\": {\"colorbar\": {\"outlinewidth\": 0, \"ticks\": \"\"}}, \"marker\": {\"colorbar\": {\"outlinewidth\": 0, \"ticks\": \"\"}}, \"type\": \"scatter3d\"}], \"scattercarpet\": [{\"marker\": {\"colorbar\": {\"outlinewidth\": 0, \"ticks\": \"\"}}, \"type\": \"scattercarpet\"}], \"scattergeo\": [{\"marker\": {\"colorbar\": {\"outlinewidth\": 0, \"ticks\": \"\"}}, \"type\": \"scattergeo\"}], \"scattergl\": [{\"marker\": {\"colorbar\": {\"outlinewidth\": 0, \"ticks\": \"\"}}, \"type\": \"scattergl\"}], \"scattermapbox\": [{\"marker\": {\"colorbar\": {\"outlinewidth\": 0, \"ticks\": \"\"}}, \"type\": \"scattermapbox\"}], \"scatterpolar\": [{\"marker\": {\"colorbar\": {\"outlinewidth\": 0, \"ticks\": \"\"}}, \"type\": \"scatterpolar\"}], \"scatterpolargl\": [{\"marker\": {\"colorbar\": {\"outlinewidth\": 0, \"ticks\": \"\"}}, \"type\": \"scatterpolargl\"}], \"scatterternary\": [{\"marker\": {\"colorbar\": {\"outlinewidth\": 0, \"ticks\": \"\"}}, \"type\": \"scatterternary\"}], \"surface\": [{\"colorbar\": {\"outlinewidth\": 0, \"ticks\": \"\"}, \"colorscale\": [[0.0, \"#0d0887\"], [0.1111111111111111, \"#46039f\"], [0.2222222222222222, \"#7201a8\"], [0.3333333333333333, \"#9c179e\"], [0.4444444444444444, \"#bd3786\"], [0.5555555555555556, \"#d8576b\"], [0.6666666666666666, \"#ed7953\"], [0.7777777777777778, \"#fb9f3a\"], [0.8888888888888888, \"#fdca26\"], [1.0, \"#f0f921\"]], \"type\": \"surface\"}], \"table\": [{\"cells\": {\"fill\": {\"color\": \"#EBF0F8\"}, \"line\": {\"color\": \"white\"}}, \"header\": {\"fill\": {\"color\": \"#C8D4E3\"}, \"line\": {\"color\": \"white\"}}, \"type\": \"table\"}]}, \"layout\": {\"annotationdefaults\": {\"arrowcolor\": \"#2a3f5f\", \"arrowhead\": 0, \"arrowwidth\": 1}, \"autotypenumbers\": \"strict\", \"coloraxis\": {\"colorbar\": {\"outlinewidth\": 0, \"ticks\": \"\"}}, \"colorscale\": {\"diverging\": [[0, \"#8e0152\"], [0.1, \"#c51b7d\"], [0.2, \"#de77ae\"], [0.3, \"#f1b6da\"], [0.4, \"#fde0ef\"], [0.5, \"#f7f7f7\"], [0.6, \"#e6f5d0\"], [0.7, \"#b8e186\"], [0.8, \"#7fbc41\"], [0.9, \"#4d9221\"], [1, \"#276419\"]], \"sequential\": [[0.0, \"#0d0887\"], [0.1111111111111111, \"#46039f\"], [0.2222222222222222, \"#7201a8\"], [0.3333333333333333, \"#9c179e\"], [0.4444444444444444, \"#bd3786\"], [0.5555555555555556, \"#d8576b\"], [0.6666666666666666, \"#ed7953\"], [0.7777777777777778, \"#fb9f3a\"], [0.8888888888888888, \"#fdca26\"], [1.0, \"#f0f921\"]], \"sequentialminus\": [[0.0, \"#0d0887\"], [0.1111111111111111, \"#46039f\"], [0.2222222222222222, \"#7201a8\"], [0.3333333333333333, \"#9c179e\"], [0.4444444444444444, \"#bd3786\"], [0.5555555555555556, \"#d8576b\"], [0.6666666666666666, \"#ed7953\"], [0.7777777777777778, \"#fb9f3a\"], [0.8888888888888888, \"#fdca26\"], [1.0, \"#f0f921\"]]}, \"colorway\": [\"#636efa\", \"#EF553B\", \"#00cc96\", \"#ab63fa\", \"#FFA15A\", \"#19d3f3\", \"#FF6692\", \"#B6E880\", \"#FF97FF\", \"#FECB52\"], \"font\": {\"color\": \"#2a3f5f\"}, \"geo\": {\"bgcolor\": \"white\", \"lakecolor\": \"white\", \"landcolor\": \"#E5ECF6\", \"showlakes\": true, \"showland\": true, \"subunitcolor\": \"white\"}, \"hoverlabel\": {\"align\": \"left\"}, \"hovermode\": \"closest\", \"mapbox\": {\"style\": \"light\"}, \"paper_bgcolor\": \"white\", \"plot_bgcolor\": \"#E5ECF6\", \"polar\": {\"angularaxis\": {\"gridcolor\": \"white\", \"linecolor\": \"white\", \"ticks\": \"\"}, \"bgcolor\": \"#E5ECF6\", \"radialaxis\": {\"gridcolor\": \"white\", \"linecolor\": \"white\", \"ticks\": \"\"}}, \"scene\": {\"xaxis\": {\"backgroundcolor\": \"#E5ECF6\", \"gridcolor\": \"white\", \"gridwidth\": 2, \"linecolor\": \"white\", \"showbackground\": true, \"ticks\": \"\", \"zerolinecolor\": \"white\"}, \"yaxis\": {\"backgroundcolor\": \"#E5ECF6\", \"gridcolor\": \"white\", \"gridwidth\": 2, \"linecolor\": \"white\", \"showbackground\": true, \"ticks\": \"\", \"zerolinecolor\": \"white\"}, \"zaxis\": {\"backgroundcolor\": \"#E5ECF6\", \"gridcolor\": \"white\", \"gridwidth\": 2, \"linecolor\": \"white\", \"showbackground\": true, \"ticks\": \"\", \"zerolinecolor\": \"white\"}}, \"shapedefaults\": {\"line\": {\"color\": \"#2a3f5f\"}}, \"ternary\": {\"aaxis\": {\"gridcolor\": \"white\", \"linecolor\": \"white\", \"ticks\": \"\"}, \"baxis\": {\"gridcolor\": \"white\", \"linecolor\": \"white\", \"ticks\": \"\"}, \"bgcolor\": \"#E5ECF6\", \"caxis\": {\"gridcolor\": \"white\", \"linecolor\": \"white\", \"ticks\": \"\"}}, \"title\": {\"x\": 0.05}, \"xaxis\": {\"automargin\": true, \"gridcolor\": \"white\", \"linecolor\": \"white\", \"ticks\": \"\", \"title\": {\"standoff\": 15}, \"zerolinecolor\": \"white\", \"zerolinewidth\": 2}, \"yaxis\": {\"automargin\": true, \"gridcolor\": \"white\", \"linecolor\": \"white\", \"ticks\": \"\", \"title\": {\"standoff\": 15}, \"zerolinecolor\": \"white\", \"zerolinewidth\": 2}}}},                        {\"responsive\": true}                    ).then(function(){\n",
       "                            \n",
       "var gd = document.getElementById('fa26d9c2-3051-4526-8fc3-e28af8b92d3c');\n",
       "var x = new MutationObserver(function (mutations, observer) {{\n",
       "        var display = window.getComputedStyle(gd).display;\n",
       "        if (!display || display === 'none') {{\n",
       "            console.log([gd, 'removed!']);\n",
       "            Plotly.purge(gd);\n",
       "            observer.disconnect();\n",
       "        }}\n",
       "}});\n",
       "\n",
       "// Listen for the removal of the full notebook cells\n",
       "var notebookContainer = gd.closest('#notebook-container');\n",
       "if (notebookContainer) {{\n",
       "    x.observe(notebookContainer, {childList: true});\n",
       "}}\n",
       "\n",
       "// Listen for the clearing of the current output cell\n",
       "var outputEl = gd.closest('.output');\n",
       "if (outputEl) {{\n",
       "    x.observe(outputEl, {childList: true});\n",
       "}}\n",
       "\n",
       "                        })                };                });            </script>        </div>"
      ]
     },
     "metadata": {},
     "output_type": "display_data"
    }
   ],
   "source": [
    "fig = px.scatter_matrix(\n",
    "    df_pandas,\n",
    "    dimensions=['PC-0','PC-1'],\n",
    "    color=df_pandas.index\n",
    ")\n",
    "fig.update_traces(diagonal_visible=False)\n",
    "fig.show()"
   ]
  },
  {
   "cell_type": "code",
   "execution_count": 25,
   "metadata": {},
   "outputs": [],
   "source": [
    "#save top 5 and bottom 10 loadings so that it gives positive and negative loadings\n",
    "lb0_pos = df_pandas.sort_values('PC-0', ascending=True).head(5).index.str.cat(sep=' ')\n",
    "lb0_neg = df_pandas.sort_values('PC-0', ascending=False).head(5).index.str.cat(sep=' ')\n",
    "lb1_pos = df_pandas.sort_values('PC-1', ascending=True).head(5).index.str.cat(sep=' ')\n",
    "lb1_neg = df_pandas.sort_values('PC-1', ascending=False).head(5).index.str.cat(sep=' ')\n",
    "'''\n",
    "lb2_pos = df_pandas.sort_values('PC-2', ascending=True).head(5).index.str.cat(sep=' ')\n",
    "lb2_neg = df_pandas.sort_values('PC-2', ascending=False).head(5).index.str.cat(sep=' ')\n",
    "lb3_pos = df_pandas.sort_values('PC-3', ascending=True).head(5).index.str.cat(sep=' ')\n",
    "lb3_neg = df_pandas.sort_values('PC-3', ascending=False).head(5).index.str.cat(sep=' ')\n",
    "lb4_pos = df_pandas.sort_values('PC-4', ascending=True).head(5).index.str.cat(sep=' ')\n",
    "lb4_neg = df_pandas.sort_values('PC-4', ascending=False).head(5).index.str.cat(sep=' ')\n",
    "'''"
   ]
  },
  {
   "cell_type": "code",
   "execution_count": 32,
   "metadata": {},
   "outputs": [
    {
     "name": "stdout",
     "output_type": "stream",
     "text": [
      "PC0+ LABFORCE UHRSWORK CLASSWKR HWSEI OCCSCORE\n",
      "PC0- INCTOT MARST HINSCAID RELATE SCHOOL\n",
      "PC1+ FTOTINC GQ EMPSTAT AGE VETSTATD\n",
      "PC1- MULTGEN FRIDGE CIDIAL CIOTHSVC BIRTHYR\n"
     ]
    },
    {
     "data": {
      "text/plain": [
       "\"\\nprint('PC2+', lb2_pos)\\nprint('PC2-', lb2_neg)\\nprint('PC3+', lb3_pos)\\nprint('PC3-', lb3_neg)\\nprint('PC4+', lb4_pos)\\nprint('PC4-', lb4_neg)\\n\""
      ]
     },
     "execution_count": 32,
     "metadata": {},
     "output_type": "execute_result"
    }
   ],
   "source": [
    "#print results\n",
    "print('PC0+', lb0_pos)\n",
    "print('PC0-', lb0_neg)\n",
    "print('PC1+', lb1_pos)\n",
    "print('PC1-', lb1_neg)\n",
    "'''\n",
    "print('PC2+', lb2_pos)\n",
    "print('PC2-', lb2_neg)\n",
    "print('PC3+', lb3_pos)\n",
    "print('PC3-', lb3_neg)\n",
    "print('PC4+', lb4_pos)\n",
    "print('PC4-', lb4_neg)\n",
    "'''"
   ]
  },
  {
   "cell_type": "code",
   "execution_count": 36,
   "metadata": {},
   "outputs": [
    {
     "name": "stdout",
     "output_type": "stream",
     "text": [
      "RandomForestClassificationModel: uid=RandomForestClassifier_4bdd18b2f66b, numTrees=20, numClasses=2, numFeatures=10\n",
      "[0.769991656028584, 0.769991656028584, 0.769991656028584]\n"
     ]
    },
    {
     "data": {
      "text/plain": [
       "[({Param(parent='RandomForestClassifier_50f5754027d7', name='numTrees', doc='Number of trees to train (>= 1).'): 20},),\n",
       " ({Param(parent='RandomForestClassifier_50f5754027d7', name='numTrees', doc='Number of trees to train (>= 1).'): 30},),\n",
       " ({Param(parent='RandomForestClassifier_50f5754027d7', name='numTrees', doc='Number of trees to train (>= 1).'): 50},)]"
      ]
     },
     "execution_count": 36,
     "metadata": {},
     "output_type": "execute_result"
    }
   ],
   "source": [
    "#look at the chosen model and models in all the folds and with all params\n",
    "rf_model = bestPipeline.stages[3]\n",
    "importances_rf = rf_model.featureImportances\n",
    "print(rf_model)\n",
    "\n",
    "#all the 9 model accuracies. The max one was picked as best\n",
    "avgMetricsGrid = cv_model_pca.avgMetrics\n",
    "print(avgMetricsGrid)\n",
    "\n",
    "#https://tsmatz.github.io/azure-databricks-exercise/exercise04-hyperparams-tuning.html\n",
    "#https://spark.apache.org/docs/latest/api/python/reference/api/pyspark.ml.tuning.CrossValidator.html\n",
    "# View all results (accuracy) by each params - these can be converted to pretty tables in pandas later\n",
    "list(zip(cv_model_pca.getEstimatorParamMaps()))"
   ]
  },
  {
   "cell_type": "code",
   "execution_count": 38,
   "metadata": {},
   "outputs": [
    {
     "data": {
      "text/plain": [
       "SparseVector(10, {0: 0.5544, 1: 0.137, 2: 0.012, 3: 0.0319, 4: 0.0014, 5: 0.0333, 6: 0.1257, 7: 0.0948, 8: 0.0025, 9: 0.0071})"
      ]
     },
     "execution_count": 38,
     "metadata": {},
     "output_type": "execute_result"
    }
   ],
   "source": [
    "importances_rf"
   ]
  },
  {
   "cell_type": "markdown",
   "metadata": {},
   "source": [
    "### Model selective features based on PC-0 component"
   ]
  },
  {
   "cell_type": "code",
   "execution_count": 28,
   "metadata": {},
   "outputs": [
    {
     "name": "stdout",
     "output_type": "stream",
     "text": [
      "Not PCA\n",
      "CPU times: user 1.09 s, sys: 283 ms, total: 1.38 s\n",
      "Wall time: 6min 4s\n"
     ]
    }
   ],
   "source": [
    "%%time\n",
    "#create sample dataframe\n",
    "keep_pca =['LABFORCE', 'UHRSWORK', 'OCCSCORE', 'CLASSWKR', 'HWSEI',\\\n",
    "           'INCTOT', 'MARST', 'HINSCAID','RELATE','SCHOOL', 'label']\n",
    "#'TRANTIME', 'RELATE', 'OCCSCORE', 'UHRSWORK','PWSTATE','NMOTHERS','NFATHERS',DEGFIELDD\n",
    "sampled_pca = createSampleData(df,keep_pca,0.1)\n",
    "\n",
    "#split data\n",
    "cached_tr, cached_test = splitData(sampled_pca,split_ratio,seed)\n",
    "\n",
    "#preProcessTrain data and fit\n",
    "model_short = preProcessTrainFit(cached_tr,rf,None,paramGrid,bcm,numFolds,seed)\n",
    "\n",
    "#preprocess testdata\n",
    "scaled_test = preProcessTest(cached_test)"
   ]
  },
  {
   "cell_type": "code",
   "execution_count": 29,
   "metadata": {},
   "outputs": [
    {
     "name": "stdout",
     "output_type": "stream",
     "text": [
      "+-----+----------+-----+\n",
      "|label|prediction|count|\n",
      "+-----+----------+-----+\n",
      "|    1|       0.0|21058|\n",
      "|    0|       0.0|58234|\n",
      "|    1|       1.0|52991|\n",
      "|    0|       1.0|15995|\n",
      "+-----+----------+-----+\n",
      "\n",
      "n precision: 0.768\n",
      "n recall: 0.716\n",
      "n accuracy: 0.750\n",
      "n F1 score: 0.741\n"
     ]
    },
    {
     "name": "stderr",
     "output_type": "stream",
     "text": [
      "/opt/conda/lib/python3.7/site-packages/sklearn/utils/validation.py:70: FutureWarning: Pass labels=[0, 1] as keyword args. From version 0.25 passing these as positional arguments will result in an error\n",
      "  FutureWarning)\n"
     ]
    },
    {
     "data": {
      "image/png": "[encoded data removed]",
      "text/plain": [
       "<Figure size 640x480 with 2 Axes>"
      ]
     },
     "metadata": {},
     "output_type": "display_data"
    }
   ],
   "source": [
    "#predictions\n",
    "bestPipeline_short = model_short.bestModel\n",
    "pipe_short = bestPipeline_short.stages[1]\n",
    "predictions_short = bestPipeline_short.transform(cached_test)\n",
    "classificationMetrics(predictions_short,bcm)\n",
    "\n",
    "#Visualize Metrics\n",
    "cnf_matrix_short= createLabelsCM(predictions_short)\n",
    "plot_confusion_matrix(cnf_matrix_short, classes=['Not Educated','Educated'], normalize=True,\n",
    "                      title='Normalized confusion matrix')\n",
    "plt.show()"
   ]
  },
  {
   "cell_type": "markdown",
   "metadata": {},
   "source": [
    "### Checking Feature Importance to improve the model by removing features which are not important"
   ]
  },
  {
   "cell_type": "code",
   "execution_count": 43,
   "metadata": {},
   "outputs": [
    {
     "data": {
      "text/plain": [
       "['LABFORCE',\n",
       " 'UHRSWORK',\n",
       " 'OCCSCORE',\n",
       " 'CLASSWKR',\n",
       " 'HWSEI',\n",
       " 'INCTOT',\n",
       " 'MARST',\n",
       " 'HINSCAID',\n",
       " 'RELATE',\n",
       " 'SCHOOL']"
      ]
     },
     "execution_count": 43,
     "metadata": {},
     "output_type": "execute_result"
    }
   ],
   "source": [
    "selected_cols_imp"
   ]
  },
  {
   "cell_type": "code",
   "execution_count": 44,
   "metadata": {},
   "outputs": [
    {
     "data": {
      "image/png": "[encoded data removed]",
      "text/plain": [
       "<Figure size 640x480 with 1 Axes>"
      ]
     },
     "metadata": {},
     "output_type": "display_data"
    }
   ],
   "source": [
    "bestModel = bestPipeline_short.stages[2]\n",
    "importances = bestModel.featureImportances\n",
    "x_values = list(range(len(importances)))\n",
    "selected_cols_imp=[cols for cols in keep_pca if cols not in['label']]\n",
    "plt.barh(x_values,importances);\n",
    "plt.yticks(x_values,selected_cols_imp, rotation=0);\n",
    "plt.ylabel('Feature');\n",
    "plt.xlabel('Importance');\n",
    "plt.title('Feature Importances');\n",
    "plt.show();"
   ]
  },
  {
   "cell_type": "code",
   "execution_count": 35,
   "metadata": {},
   "outputs": [],
   "source": [
    "#References\n",
    "#https://towardsdatascience.com/pre-process-data-with-pipeline-to-prevent-data-leakage-during-cross-validation-e3442cca7fdc\n",
    "#https://awesomeopensource.com/project/adornes/spark_python_ml_examples\n",
    "#https://spark.apache.org/docs/latest/ml-tuning.html\n",
    "#https://sparkbyexamples.com/pyspark/pyspark-rename-dataframe-column/\n",
    "#https://spark.apache.org/docs/latest/ml-classification-regression.html#random-forest-classifier\n",
    "#https://people.stat.sc.edu/haigang/sparkCaseStudy.html"
   ]
  },
  {
   "cell_type": "code",
   "execution_count": null,
   "metadata": {},
   "outputs": [],
   "source": []
  }
 ],
 "metadata": {
  "kernelspec": {
   "display_name": "DS 5110",
   "language": "python",
   "name": "ds5110"
  },
  "language_info": {
   "codemirror_mode": {
    "name": "ipython",
    "version": 3
   },
   "file_extension": ".py",
   "mimetype": "text/x-python",
   "name": "python",
   "nbconvert_exporter": "python",
   "pygments_lexer": "ipython3",
   "version": "3.7.10"
  }
 },
 "nbformat": 4,
 "nbformat_minor": 4
}
