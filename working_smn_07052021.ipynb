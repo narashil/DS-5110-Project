{
 "cells": [
  {
   "cell_type": "code",
   "execution_count": 1,
   "metadata": {},
   "outputs": [],
   "source": [
    "# import context manager: SparkSession\n",
    "from pyspark.sql import SparkSession\n",
    "from pyspark.sql.types import ArrayType, StructField, StructType, StringType, IntegerType\n",
    "from pyspark.ml.linalg import Vectors\n",
    "from pyspark.ml.stat import Correlation\n",
    "from pyspark.sql import functions as F\n",
    "from pyspark.sql.types import *\n",
    "from pyspark.sql import SQLContext\n",
    "# set up the session\n",
    "\n",
    "spark = SparkSession \\\n",
    "    .builder \\\n",
    "    .master(\"local\") \\\n",
    "    .appName(\"Ed Squad Project\") \\\n",
    "    .config(\"spark.executor.memory\", '32g') \\\n",
    "    .config('spark.executor.cores', '6') \\\n",
    "    .config('spark.cores.max', '6') \\\n",
    "    .config(\"spark.driver.memory\",'32g') \\\n",
    "    .getOrCreate()\n",
    "\n",
    "sc = spark.sparkContext\n",
    "        \n",
    "        \n",
    "sqlContext = SQLContext(spark)"
   ]
  },
  {
   "cell_type": "code",
   "execution_count": 31,
   "metadata": {},
   "outputs": [
    {
     "data": {
      "text/plain": [
       "'200'"
      ]
     },
     "execution_count": 31,
     "metadata": {},
     "output_type": "execute_result"
    }
   ],
   "source": [
    "spark.conf.get(\"spark.sql.shuffle.partitions\")"
   ]
  },
  {
   "cell_type": "code",
   "execution_count": 3,
   "metadata": {},
   "outputs": [
    {
     "data": {
      "text/plain": [
       "'/sfs/qumulo/qhome/smn7ba/ds5110/project'"
      ]
     },
     "execution_count": 3,
     "metadata": {},
     "output_type": "execute_result"
    }
   ],
   "source": [
    "import os\n",
    "os.listdir()\n",
    "os.getcwd()"
   ]
  },
  {
   "cell_type": "code",
   "execution_count": 4,
   "metadata": {},
   "outputs": [],
   "source": [
    "#import pandas too for visualizations\n",
    "import pandas as pd\n",
    "import matplotlib.pyplot as plt\n",
    "import numpy as np\n",
    "import itertools\n",
    "from sklearn.metrics import confusion_matrix\n",
    "pd.set_option('display.max_rows', 200000)"
   ]
  },
  {
   "cell_type": "code",
   "execution_count": 5,
   "metadata": {},
   "outputs": [
    {
     "name": "stdout",
     "output_type": "stream",
     "text": [
      "CPU times: user 4.59 ms, sys: 604 µs, total: 5.2 ms\n",
      "Wall time: 4.62 ms\n"
     ]
    }
   ],
   "source": [
    "%%time\n",
    "#import mlLib libraries for classification\n",
    "from pyspark.ml.tuning import CrossValidator, ParamGridBuilder,TrainValidationSplit\n",
    "from pyspark.ml.evaluation import BinaryClassificationEvaluator,MulticlassClassificationEvaluator\n",
    "from pyspark.ml.classification import RandomForestClassifier\n",
    "from pyspark.ml import Pipeline\n",
    "from pyspark.ml.feature import PCA\n",
    "from pyspark.mllib.evaluation import MulticlassMetrics,BinaryClassificationMetrics\n",
    "from pyspark.ml.feature import VectorAssembler\n",
    "from pyspark.ml.feature import StandardScaler"
   ]
  },
  {
   "cell_type": "markdown",
   "metadata": {},
   "source": [
    "### About data\n",
    "AMERICAN COMMUNITY SURVEY 2015-2019 5-YEAR SAMPLE <br>\n",
    "5-in-100 national random sample of the population <br>\n",
    "Contains all households and persons from the 1% ACS samples for 2015, 2016, 2017, 2018, and 2019 identifiable by year. <br>\n",
    "The data include persons in group quarters. <br>\n",
    "This is a weighted sample. <br>\n",
    "The smallest identifiable geographic unit is the PUMA, containing at least 100,000 persons. PUMAs do not cross state boundaries. <br>\n",
    "Users should read the FAQ on the multi-year data. <br>\n",
    "\n",
    "\n",
    "WHERE CAN I GET BETTER GEOGRAPHIC IDENTIFIERS? <br>\n",
    "The lowest unit of geography in the microdata files is still the PUMA. PUMAs contain at least 100,000 people. <br>\n",
    "Aggregate data (but not microdata) is currently available from the Census Bureau for geographic areas as small as block groups, but only for the entire 2005-2009 period. <br>\n",
    "\n",
    "\n",
    "PERNUM numbers all persons within each household consecutively in the order in which they appear on the original census or survey form. <br>\n",
    "When combined with SAMPLE and SERIAL, PERNUM uniquely identifies each person within the IPUMS. <br>\n",
    "\n",
    "MULTYEAR identifies the actual year of survey in multi-year ACS/PRCS samples. <br>\n",
    "\n",
    "<br>\n",
    "For example, the 3-year ACS and PRCS data files each include cases from three single-year files. <br>\n",
    "For these multi-year samples, the YEAR variable identifies the last year of data (2007 for the 2005-2007 3-year data; 2008 for the 2006-2008 data; and so on). <br>\n",
    "MULTYEAR gives the single-year sample from which the case was drawn (2005, 2006, or 2007 for the 2005-2007 3-year data; 2006, 2007, or 2008 for the 2006-2008 3-year data; and so on). <br>\n",
    "\n",
    "https://usa.ipums.org/usa/acs_multyr.shtml\n"
   ]
  },
  {
   "cell_type": "markdown",
   "metadata": {},
   "source": [
    "### Read Data; Create a binary flag; rename columns; Drop if necessary"
   ]
  },
  {
   "cell_type": "code",
   "execution_count": 6,
   "metadata": {},
   "outputs": [
    {
     "name": "stdout",
     "output_type": "stream",
     "text": [
      "CPU times: user 13.9 ms, sys: 9.58 ms, total: 23.5 ms\n",
      "Wall time: 1min 53s\n"
     ]
    }
   ],
   "source": [
    "%%time\n",
    "#import whole data from the census\n",
    "data = spark.read.csv('/project/ds5559/ds5110_project_snoo/acs_15_19_south.csv', inferSchema=\"true\", header=\"true\")"
   ]
  },
  {
   "cell_type": "code",
   "execution_count": 7,
   "metadata": {},
   "outputs": [
    {
     "name": "stdout",
     "output_type": "stream",
     "text": [
      "+---------+\n",
      "|EDUC_FLAG|\n",
      "+---------+\n",
      "|        0|\n",
      "|        1|\n",
      "|        0|\n",
      "|        1|\n",
      "|        0|\n",
      "+---------+\n",
      "only showing top 5 rows\n",
      "\n",
      "CPU times: user 5.37 ms, sys: 1.41 ms, total: 6.79 ms\n",
      "Wall time: 1.05 s\n"
     ]
    }
   ],
   "source": [
    "%%time\n",
    "#writing a user defined function to create a Educated or Not Flag - if EDUC>6 then it is 1 and if not 0\n",
    "#https://towardsdatascience.com/5-ways-to-add-a-new-column-in-a-pyspark-dataframe-4e75c2fd8c08\n",
    "def EDUCFunc(value):\n",
    "  if   value > 6: \n",
    "      return 1\n",
    "  else:\n",
    "      return 0\n",
    "\n",
    "#create the function to be applied and create a new column EDUC_FLAG\n",
    "udfsomefunc = F.udf(EDUCFunc, IntegerType())\n",
    "data = data.withColumn(\"EDUC_FLAG\", udfsomefunc(\"EDUC\"))\n",
    "#see sample data\n",
    "data.select('EDUC_FLAG').show(5)"
   ]
  },
  {
   "cell_type": "code",
   "execution_count": 8,
   "metadata": {},
   "outputs": [
    {
     "name": "stdout",
     "output_type": "stream",
     "text": [
      "CPU times: user 4.84 ms, sys: 2.34 ms, total: 7.18 ms\n",
      "Wall time: 34.1 s\n"
     ]
    },
    {
     "data": {
      "text/plain": [
       "2470127"
      ]
     },
     "execution_count": 8,
     "metadata": {},
     "output_type": "execute_result"
    }
   ],
   "source": [
    "%%time\n",
    "#check the count for EDUC>6 or verify if flag was populated correctly\n",
    "data.filter(data.EDUC>6).count()"
   ]
  },
  {
   "cell_type": "code",
   "execution_count": 9,
   "metadata": {},
   "outputs": [
    {
     "name": "stdout",
     "output_type": "stream",
     "text": [
      "CPU times: user 4.11 ms, sys: 3.5 ms, total: 7.62 ms\n",
      "Wall time: 37 s\n"
     ]
    },
    {
     "data": {
      "text/plain": [
       "2470127"
      ]
     },
     "execution_count": 9,
     "metadata": {},
     "output_type": "execute_result"
    }
   ],
   "source": [
    "%%time\n",
    "#Verify the flag count. Should match number above\n",
    "data.filter(data.EDUC_FLAG!=0).count()"
   ]
  },
  {
   "cell_type": "code",
   "execution_count": 10,
   "metadata": {},
   "outputs": [
    {
     "name": "stdout",
     "output_type": "stream",
     "text": [
      "CPU times: user 1.42 ms, sys: 392 µs, total: 1.82 ms\n",
      "Wall time: 48.6 ms\n"
     ]
    }
   ],
   "source": [
    "%%time\n",
    "#renaming dependent variable to label because the classfier is not recognizing other names. Skip thsi if you are trying other classifiers\n",
    "\n",
    "df = data.withColumn(\"label\",data.EDUC_FLAG) \\\n",
    "      .drop(\"EDUC_FLAG\")"
   ]
  },
  {
   "cell_type": "code",
   "execution_count": 11,
   "metadata": {},
   "outputs": [],
   "source": [
    "#saving col names in case if we can use it later ot iterate or use the list for labels etc.\n",
    "cols = df.columns\n",
    "#spark.createDataFrame(cols,StringType()).toPandas()"
   ]
  },
  {
   "cell_type": "code",
   "execution_count": 12,
   "metadata": {},
   "outputs": [],
   "source": [
    "#Define variables which will be consistently used\n",
    "seed = 42\n",
    "split_ratio = [0.7,0.3]\n",
    "numFolds = 3\n",
    "threads = 6\n",
    "\n",
    "rf = RandomForestClassifier(labelCol = \"label\", featuresCol = \"scaledFeatures_train\")\n",
    "\n",
    "paramGrid = ParamGridBuilder() \\\n",
    "              .addGrid(rf.numTrees, [30, 50]) \\\n",
    "              .build()\n",
    "pca_model = PCA(k=10, inputCol = \"scaledFeatures_train\", outputCol = \"pca_features_cv\")\n",
    "\n",
    "#create a param grid to pass to cross validator \n",
    "#k --> number of principal components\n",
    "#number of treess in rf\n",
    "#need to add more later\n",
    "paramGrid_pca = ParamGridBuilder() \\\n",
    "  .addGrid(pca_model.k, [10, 20, 30]) \\\n",
    "  .addGrid(rf.numTrees, [20, 30, 50]) \\\n",
    "  .build()\n",
    "\n",
    "bcm = BinaryClassificationEvaluator()\n",
    "\n",
    "\n",
    "#Identified first 35 variables of interest\n",
    "keep_35 = [\"HHTYPE\",\"REGION\",\"STATEFIP\",\"COUNTYFIP\",\"METRO\",\"COSTELEC\",\"COSTGAS\",\"COSTWATR\",\"COSTFUEL\",\"FOODSTMP\",\"CINETHH\",\"CILAPTOP\",\\\n",
    "        \"CISMRTPHN\",\"CITABLET\",\"VEHICLES\",\"COUPLETYPE\",\"NFAMS\",\"NMOTHERS\",\"NFATHERS\",\"CITIZEN\",\"YRSUSA1\",\"RACAMIND\",\"RACASIAN\",\"RACBLK\",\"RACPACIS\"\\\n",
    "        ,\"RACWHT\",\"RACOTHER\",\"HCOVANY\",\"EMPSTAT\",\"LABFORCE\",\"CLASSWKR\",\"UHRSWORK\",\"VETSTAT\",\"TRANWORK\",\"GCHOUSE\",\"label\",\"MULTYEAR\"]\n"
   ]
  },
  {
   "cell_type": "markdown",
   "metadata": {},
   "source": [
    "### Reusable Functions to create sample data, split data, preprocess train, tst, fit model and generate classfication metrics and CM"
   ]
  },
  {
   "cell_type": "code",
   "execution_count": 13,
   "metadata": {},
   "outputs": [],
   "source": [
    "def createSampleData(df,cols,sampleweight):\n",
    "    df_small = df.select(cols)\n",
    "    sampled = df_small.sampleBy(\"MULTYEAR\", fractions={2015:sampleweight, 2016: sampleweight, 2017:sampleweight, 2018:sampleweight, 2019:sampleweight}, seed=seed)\n",
    "    return sampled\n",
    "\n",
    "def splitData(dataframe,split_ratio,seed):\n",
    "    training_data, test_data = dataframe.randomSplit(split_ratio, seed=seed)\n",
    "    cached_tr = training_data.cache()\n",
    "    cached_test = test_data.cache()\n",
    "    return cached_tr,cached_test\n",
    "\n",
    "def preProcessTrainFit(cached_tr,model,pca_model,paramGrid,evaluator,numFolds,seed ):\n",
    "    #Assemble traininngdata\n",
    "    #pass all the features into vector assembler to create a vector format to pass to the classification model\n",
    "    selected_cols=[cols for cols in cached_tr.columns if cols not in['label','MULTYEAR']]\n",
    "    assembler = VectorAssembler(inputCols=selected_cols, outputCol=\"features\") \n",
    "    #scale\n",
    "    scaler_train = StandardScaler(inputCol=\"features\", outputCol=\"scaledFeatures_train\")\n",
    "\n",
    "    #creating a pipeline with the assembler,scaler and model to use in the cross validator\n",
    "    if pca_model is None:  print(\"Not PCA\"); ppl_cv = Pipeline(stages = [assembler,scaler_train, model])\n",
    "        \n",
    "    else: \n",
    "        print(\"PCA\");\n",
    "        rf = RandomForestClassifier(labelCol = \"label\", featuresCol = \"pca_features_cv\")\n",
    "        ppl_cv = Pipeline(stages = [assembler,scaler_train,pca_model, rf])\n",
    "\n",
    "    #passs the model with variosu combinations of the parameters and it will pick the best one. Using 3 folds to save time. Check seed=42.\n",
    "    crossval = CrossValidator(estimator = ppl_cv,\\\n",
    "                                            estimatorParamMaps=paramGrid,\\\n",
    "                                            evaluator = evaluator ,\\\n",
    "                                            numFolds= numFolds,seed=seed,parallelism=threads)\n",
    "    #this is our best model - fit the training data\n",
    "    #https://spark.apache.org/docs/2.3.0/api/python/pyspark.ml.html#pyspark.ml.tuning.CrossValidator\n",
    "    return crossval.fit(cached_tr)\n",
    "    \n",
    "\n",
    "def preProcessTest(test_data):\n",
    "    #prepare test data to test predictions\n",
    "    selected_cols=[cols for cols in test_data.columns if cols not in['label','MULTYEAR']]\n",
    "    assembler_test = VectorAssembler(inputCols=selected_cols, outputCol=\"features\") \n",
    "    transformed_test = assembler_test.transform(test_data)\n",
    "    #register table as sql table and keep only columns fo interest and save in a new dataframe. This can be done without using SQl as well.\n",
    "    transformed_test.registerTempTable('transformed_tbl_test')\n",
    "    transformed_df_test = sqlContext.sql('select label,features from transformed_tbl_test')\n",
    "    #scale test data\n",
    "    scaler_test = StandardScaler(inputCol=\"features\", outputCol=\"scaledFeatures\")\n",
    "    scalerModel_test = scaler_test.fit(transformed_df_test)\n",
    "    scaledData_test = scalerModel_test.transform(transformed_df_test)\n",
    "    \n",
    "    return scaledData_test"
   ]
  },
  {
   "cell_type": "code",
   "execution_count": 14,
   "metadata": {},
   "outputs": [],
   "source": [
    "#https://runawayhorse001.github.io/LearningApacheSpark/classification.html\n",
    "#https://shihaojran.com/distributed-machine-learning-using-pyspark/\n",
    "#https://www.analyticsvidhya.com/blog/2020/06/auc-roc-curve-machine-learning/\n",
    "# Calculate the elements of the confusion matrix\n",
    "#https://runawayhorse001.github.io/LearningApacheSpark/classification.html#random-forest-classification\n",
    "\n",
    "def createLabelsCM(preds):\n",
    "    \n",
    "    ##saving labels in a list to pass to the plot\n",
    "    class_temp = preds.select(\"label\").groupBy(\"label\")\\\n",
    "                            .count().sort('count', ascending=False).toPandas()\n",
    "    class_temp = class_temp[\"label\"].values.tolist()\n",
    "    y_true = preds.select(\"label\")\n",
    "    y_true = y_true.toPandas()\n",
    "\n",
    "    y_pred = preds.select(\"prediction\")\n",
    "    y_pred = y_pred.toPandas()\n",
    "\n",
    "    return confusion_matrix(y_true, y_pred,class_temp)\n",
    "\n",
    "def plot_confusion_matrix(cm, classes,\n",
    "                          normalize=False,\n",
    "                          title='Confusion matrix',\n",
    "                          cmap=plt.cm.Blues):\n",
    "    \"\"\"\n",
    "    This function prints and plots the confusion matrix.\n",
    "    Normalization can be applied by setting `normalize=True`.\n",
    "    \"\"\"\n",
    "    if normalize:\n",
    "        cm = cm.astype('float') / cm.sum(axis=1)[:, np.newaxis]\n",
    "\n",
    "    plt.imshow(cm, interpolation='nearest', cmap=cmap)\n",
    "    plt.title(title)\n",
    "    plt.colorbar()\n",
    "    tick_marks = np.arange(len(classes))\n",
    "    plt.xticks(tick_marks, classes, rotation=0)\n",
    "    plt.yticks(tick_marks, classes)\n",
    "\n",
    "    fmt = '.2f' if normalize else 'd'\n",
    "    thresh = cm.max() / 2.\n",
    "    for i, j in itertools.product(range(cm.shape[0]), range(cm.shape[1])):\n",
    "        plt.text(j, i, format(cm[i, j], fmt),\n",
    "                 horizontalalignment=\"center\",\n",
    "                 color=\"white\" if cm[i, j] > thresh else \"black\")\n",
    "\n",
    "    plt.tight_layout()\n",
    "    plt.ylabel('True label')\n",
    "    plt.xlabel('Predicted label')\n",
    "\n",
    "def classificationMetrics(preds, evaluator):\n",
    "    #calcualte classification report\n",
    "    TN = preds.filter('prediction = 0 AND label = prediction').count()\n",
    "    TP = preds.filter('prediction = 1 AND label = prediction').count()\n",
    "    FN = preds.filter('prediction = 0 AND label <> prediction').count()\n",
    "    FP = preds.filter('prediction = 1 AND label <> prediction').count()\n",
    "    # show confusion matrix\n",
    "    preds.groupBy('label', 'prediction').count().show()\n",
    "    # calculate metrics by the confusion matrix\n",
    "    accuracy = (TN + TP) / (TN + TP + FN + FP)\n",
    "    precision = TP / (TP + FP)\n",
    "    recall = TP / (TP + FN)\n",
    "    F =  2 * (precision*recall) / (precision + recall)\n",
    "    # calculate auc\n",
    "    auc = evaluator.evaluate(preds, {evaluator.metricName: 'areaUnderROC'})\n",
    "    print('n precision: %0.3f' % precision)\n",
    "    print('n recall: %0.3f' % recall)\n",
    "    print('n accuracy: %0.3f' % accuracy)\n",
    "    print('n F1 score: %0.3f' % F)\n",
    "    print('AUC: %0.3f' % auc)"
   ]
  },
  {
   "cell_type": "markdown",
   "metadata": {},
   "source": [
    "### EDA"
   ]
  },
  {
   "cell_type": "code",
   "execution_count": 15,
   "metadata": {},
   "outputs": [
    {
     "name": "stdout",
     "output_type": "stream",
     "text": [
      "(5965249, 206)\n"
     ]
    }
   ],
   "source": [
    "#displaying number of rows and columns in the data\n",
    "print((df.count(), len(df.columns)))"
   ]
  },
  {
   "cell_type": "code",
   "execution_count": 16,
   "metadata": {},
   "outputs": [
    {
     "name": "stdout",
     "output_type": "stream",
     "text": [
      "+--------+\n",
      "|MULTYEAR|\n",
      "+--------+\n",
      "|    2018|\n",
      "|    2015|\n",
      "|    2019|\n",
      "|    2016|\n",
      "|    2017|\n",
      "+--------+\n",
      "\n",
      "CPU times: user 4.32 ms, sys: 2.19 ms, total: 6.51 ms\n",
      "Wall time: 35.7 s\n"
     ]
    }
   ],
   "source": [
    "%%time\n",
    "#number of years in the data set\n",
    "df.select('MULTYEAR').distinct().show()"
   ]
  },
  {
   "cell_type": "markdown",
   "metadata": {},
   "source": [
    "### Preprocess"
   ]
  },
  {
   "cell_type": "code",
   "execution_count": 17,
   "metadata": {},
   "outputs": [],
   "source": [
    "#sampling data to use more effeciently; seed = 42\n",
    "#https://spark.apache.org/docs/latest/api/python/reference/api/pyspark.sql.DataFrame.sampleBy.html\n",
    "#https://towardsdatascience.com/exploratory-data-analysis-eda-with-pyspark-on-databricks-e8d6529626b1\n",
    "#https://www.kaggle.com/tientd95/advanced-pyspark-for-exploratory-data-analysis\n",
    "sampled = createSampleData(df,cols,0.2)"
   ]
  },
  {
   "cell_type": "code",
   "execution_count": 18,
   "metadata": {},
   "outputs": [
    {
     "data": {
      "text/plain": [
       "\"\\nhhtype_dict = {'0':'N/A',            '1': 'Married-couple family household',            '2': 'Male householder, no wife present',            '3': 'Female householder, no husband present',            '4': 'Male householder, living alone',            '5': 'Male householder, not living alone',            '6': 'Female householder, living alone',            '7': 'Female householder, not living alone',            '9': 'HHTYPE could not be determined'}\\n\""
      ]
     },
     "execution_count": 18,
     "metadata": {},
     "output_type": "execute_result"
    }
   ],
   "source": [
    "#map to create meanign ful table # wip\n",
    "'''\n",
    "hhtype_dict = {'0':'N/A',\\\n",
    "            '1': 'Married-couple family household',\\\n",
    "            '2': 'Male householder, no wife present',\\\n",
    "            '3': 'Female householder, no husband present',\\\n",
    "            '4': 'Male householder, living alone',\\\n",
    "            '5': 'Male householder, not living alone',\\\n",
    "            '6': 'Female householder, living alone',\\\n",
    "            '7': 'Female householder, not living alone',\\\n",
    "            '9': 'HHTYPE could not be determined'}\n",
    "'''"
   ]
  },
  {
   "cell_type": "code",
   "execution_count": 19,
   "metadata": {},
   "outputs": [],
   "source": [
    "#sampled.select('HHTYPE').rdd.map(lambda x: hhtype_dict.get(x) ).take(5)"
   ]
  },
  {
   "cell_type": "code",
   "execution_count": 20,
   "metadata": {},
   "outputs": [
    {
     "name": "stdout",
     "output_type": "stream",
     "text": [
      "+--------+------+------+\n",
      "|MULTYEAR|HHTYPE|count |\n",
      "+--------+------+------+\n",
      "|2019    |1     |146654|\n",
      "|2019    |3     |29579 |\n",
      "|2019    |6     |16033 |\n",
      "|2019    |4     |11389 |\n",
      "|2019    |2     |8652  |\n",
      "|2019    |5     |3114  |\n",
      "|2019    |7     |2531  |\n",
      "|2018    |1     |144437|\n",
      "|2018    |3     |30007 |\n",
      "|2018    |6     |15660 |\n",
      "|2018    |4     |11305 |\n",
      "|2018    |2     |8799  |\n",
      "|2018    |5     |3107  |\n",
      "|2018    |7     |2588  |\n",
      "|2017    |1     |143183|\n",
      "|2017    |3     |30503 |\n",
      "|2017    |6     |15379 |\n",
      "|2017    |4     |11249 |\n",
      "|2017    |2     |8250  |\n",
      "|2017    |5     |3206  |\n",
      "|2017    |7     |2475  |\n",
      "|2016    |1     |140893|\n",
      "|2016    |3     |30454 |\n",
      "|2016    |6     |15660 |\n",
      "|2016    |4     |10798 |\n",
      "|2016    |2     |8242  |\n",
      "|2016    |5     |2978  |\n",
      "|2016    |7     |2629  |\n",
      "|2015    |1     |139913|\n",
      "|2015    |3     |30702 |\n",
      "|2015    |6     |15546 |\n",
      "|2015    |4     |10635 |\n",
      "|2015    |2     |8072  |\n",
      "|2015    |5     |3079  |\n",
      "|2015    |7     |2374  |\n",
      "+--------+------+------+\n",
      "\n",
      "CPU times: user 7.89 ms, sys: 4.58 ms, total: 12.5 ms\n",
      "Wall time: 1min 15s\n"
     ]
    }
   ],
   "source": [
    "%%time\n",
    "##aggregating counts by Year and HHtype for sampple dataset - add labels - convert to visualization\n",
    "#sampled_n = sampled.select('HHTYPE').rdd.map(lambda x: hhtype_dict.get(x) )\n",
    "#sampled.filter((sampled.HHTYPE!=0) & (sampled.HHTYPE!=9)).groupBy('MULTYEAR','HHTYPE').count()\\\n",
    "    #.orderBy('MULTYEAR','count', ascending=False).show(100,truncate=False)\n",
    "sampled.filter((sampled.HHTYPE!=0) & (sampled.HHTYPE!=9)).groupBy('MULTYEAR','HHTYPE').count()\\\n",
    "    .orderBy('MULTYEAR','count', ascending=False).show(100,truncate=False)"
   ]
  },
  {
   "cell_type": "markdown",
   "metadata": {},
   "source": [
    "### Random Forest Model with dimension reduction (PCA)"
   ]
  },
  {
   "cell_type": "code",
   "execution_count": 21,
   "metadata": {},
   "outputs": [
    {
     "name": "stdout",
     "output_type": "stream",
     "text": [
      "PCA\n",
      "CPU times: user 3.84 s, sys: 1.12 s, total: 4.95 s\n",
      "Wall time: 38min 33s\n"
     ]
    }
   ],
   "source": [
    "%%time\n",
    "#split data\n",
    "cached_tr_pca, cached_test_pca = splitData(sampled,split_ratio,seed)\n",
    "\n",
    "#preprocesstrain\n",
    "cv_model_pca = preProcessTrainFit(cached_tr_pca,rf,pca_model,paramGrid_pca,bcm,numFolds,seed)\n",
    "\n",
    "#preprocess test\n",
    "scaled_test_pca = preProcessTest(cached_test_pca)"
   ]
  },
  {
   "cell_type": "code",
   "execution_count": 22,
   "metadata": {},
   "outputs": [
    {
     "name": "stdout",
     "output_type": "stream",
     "text": [
      "+-----+----------+------+\n",
      "|label|prediction| count|\n",
      "+-----+----------+------+\n",
      "|    1|       0.0| 51212|\n",
      "|    0|       0.0|192210|\n",
      "|    1|       1.0| 96788|\n",
      "|    0|       1.0| 18344|\n",
      "+-----+----------+------+\n",
      "\n",
      "n precision: 0.841\n",
      "n recall: 0.654\n",
      "n accuracy: 0.806\n",
      "n F1 score: 0.736\n",
      "AUC: 0.891\n"
     ]
    },
    {
     "name": "stderr",
     "output_type": "stream",
     "text": [
      "/opt/conda/lib/python3.7/site-packages/sklearn/utils/validation.py:70: FutureWarning: Pass labels=[0, 1] as keyword args. From version 0.25 passing these as positional arguments will result in an error\n",
      "  FutureWarning)\n"
     ]
    },
    {
     "data": {
      "image/png": "[encoded data removed]",
      "text/plain": [
       "<Figure size 640x480 with 2 Axes>"
      ]
     },
     "metadata": {},
     "output_type": "display_data"
    }
   ],
   "source": [
    "#select the best model ffro mthe cross validator\n",
    "bestPipeline = cv_model_pca.bestModel\n",
    "\n",
    "#creating a new dataframe wiith labels features and predictions\n",
    "predictions = bestPipeline.transform(cached_test_pca)\n",
    "\n",
    "#Metrics\n",
    "#call classification metrics method to print metrics\n",
    "classificationMetrics(predictions,bcm)\n",
    "\n",
    "# Plot normalized confusion matrix\n",
    "cnf_matrix = createLabelsCM(predictions)\n",
    "plot_confusion_matrix(cnf_matrix, classes=['Not Educated','Educated'], normalize=True,\n",
    "                      title='Normalized confusion matrix')\n",
    "plt.show()"
   ]
  },
  {
   "cell_type": "code",
   "execution_count": 23,
   "metadata": {},
   "outputs": [
    {
     "name": "stdout",
     "output_type": "stream",
     "text": [
      "RandomForestClassificationModel: uid=RandomForestClassifier_76f3d29bd1b0, numTrees=20, numClasses=2, numFeatures=20\n",
      "[0.8632801883579015, 0.8632814194012153, 0.8632824928860326, 0.8912199293524388, 0.8912199992885914, 0.8912196995719539, 0.8867067398518431, 0.8867078463101831, 0.8867074589093495]\n"
     ]
    },
    {
     "data": {
      "text/plain": [
       "[({Param(parent='PCA_001c0ef6b4d7', name='k', doc='the number of principal components'): 10,\n",
       "   Param(parent='RandomForestClassifier_12820c00d903', name='numTrees', doc='Number of trees to train (>= 1).'): 20},),\n",
       " ({Param(parent='PCA_001c0ef6b4d7', name='k', doc='the number of principal components'): 10,\n",
       "   Param(parent='RandomForestClassifier_12820c00d903', name='numTrees', doc='Number of trees to train (>= 1).'): 30},),\n",
       " ({Param(parent='PCA_001c0ef6b4d7', name='k', doc='the number of principal components'): 10,\n",
       "   Param(parent='RandomForestClassifier_12820c00d903', name='numTrees', doc='Number of trees to train (>= 1).'): 50},),\n",
       " ({Param(parent='PCA_001c0ef6b4d7', name='k', doc='the number of principal components'): 20,\n",
       "   Param(parent='RandomForestClassifier_12820c00d903', name='numTrees', doc='Number of trees to train (>= 1).'): 20},),\n",
       " ({Param(parent='PCA_001c0ef6b4d7', name='k', doc='the number of principal components'): 20,\n",
       "   Param(parent='RandomForestClassifier_12820c00d903', name='numTrees', doc='Number of trees to train (>= 1).'): 30},),\n",
       " ({Param(parent='PCA_001c0ef6b4d7', name='k', doc='the number of principal components'): 20,\n",
       "   Param(parent='RandomForestClassifier_12820c00d903', name='numTrees', doc='Number of trees to train (>= 1).'): 50},),\n",
       " ({Param(parent='PCA_001c0ef6b4d7', name='k', doc='the number of principal components'): 30,\n",
       "   Param(parent='RandomForestClassifier_12820c00d903', name='numTrees', doc='Number of trees to train (>= 1).'): 20},),\n",
       " ({Param(parent='PCA_001c0ef6b4d7', name='k', doc='the number of principal components'): 30,\n",
       "   Param(parent='RandomForestClassifier_12820c00d903', name='numTrees', doc='Number of trees to train (>= 1).'): 30},),\n",
       " ({Param(parent='PCA_001c0ef6b4d7', name='k', doc='the number of principal components'): 30,\n",
       "   Param(parent='RandomForestClassifier_12820c00d903', name='numTrees', doc='Number of trees to train (>= 1).'): 50},)]"
      ]
     },
     "execution_count": 23,
     "metadata": {},
     "output_type": "execute_result"
    }
   ],
   "source": [
    "#look at the chosen model and models in all the folds and with all params\n",
    "rf_model = bestPipeline.stages[3]\n",
    "print(rf_model)\n",
    "\n",
    "#all the 9 model accuracies. The max one was picked as best\n",
    "avgMetricsGrid = cv_model_pca.avgMetrics\n",
    "print(avgMetricsGrid)\n",
    "\n",
    "#https://tsmatz.github.io/azure-databricks-exercise/exercise04-hyperparams-tuning.html\n",
    "#https://spark.apache.org/docs/latest/api/python/reference/api/pyspark.ml.tuning.CrossValidator.html\n",
    "# View all results (accuracy) by each params - these can be converted to pretty tables in pandas later\n",
    "list(zip(cv_model_pca.getEstimatorParamMaps()))"
   ]
  },
  {
   "cell_type": "markdown",
   "metadata": {},
   "source": [
    "### Model without PCA but selective features and QQ variables dropped"
   ]
  },
  {
   "cell_type": "code",
   "execution_count": 24,
   "metadata": {},
   "outputs": [
    {
     "name": "stdout",
     "output_type": "stream",
     "text": [
      "Not PCA\n"
     ]
    }
   ],
   "source": [
    "#create sample dataframe\n",
    "sampled_35 = createSampleData(df,keep_35,0.2)\n",
    "\n",
    "#split data\n",
    "cached_tr, cached_test = splitData(sampled_35,split_ratio,seed)\n",
    "\n",
    "#preProcessTrain data and fit\n",
    "model_35 = preProcessTrainFit(cached_tr,rf,None,paramGrid,bcm,numFolds,seed)\n",
    "\n",
    "#preprocess testdata\n",
    "scaled_test = preProcessTest(cached_test)"
   ]
  },
  {
   "cell_type": "code",
   "execution_count": 25,
   "metadata": {},
   "outputs": [
    {
     "name": "stdout",
     "output_type": "stream",
     "text": [
      "+-----+----------+------+\n",
      "|label|prediction| count|\n",
      "+-----+----------+------+\n",
      "|    1|       0.0| 49203|\n",
      "|    0|       0.0|160316|\n",
      "|    1|       1.0| 99148|\n",
      "|    0|       1.0| 49132|\n",
      "+-----+----------+------+\n",
      "\n",
      "n precision: 0.669\n",
      "n recall: 0.668\n",
      "n accuracy: 0.725\n",
      "n F1 score: 0.668\n",
      "AUC: 0.811\n"
     ]
    },
    {
     "data": {
      "image/png": "[encoded data removed]",
      "text/plain": [
       "<Figure size 640x480 with 2 Axes>"
      ]
     },
     "metadata": {},
     "output_type": "display_data"
    }
   ],
   "source": [
    "#predictions\n",
    "bestPipeline = model_35.bestModel\n",
    "pipe_35 = bestPipeline.stages[1]\n",
    "predictions_35 = bestPipeline.transform(cached_test)\n",
    "classificationMetrics(predictions_35,bcm)\n",
    "\n",
    "#Visualize Metrics\n",
    "cnf_matrix_35 = createLabelsCM(predictions_35)\n",
    "plot_confusion_matrix(cnf_matrix_35, classes=['Not Educated','Educated'], normalize=True,\n",
    "                      title='Normalized confusion matrix')\n",
    "plt.show()"
   ]
  },
  {
   "cell_type": "code",
   "execution_count": 26,
   "metadata": {},
   "outputs": [
    {
     "name": "stdout",
     "output_type": "stream",
     "text": [
      "[0.8106911757344202, 0.8124648309826212]\n"
     ]
    },
    {
     "data": {
      "text/plain": [
       "[({Param(parent='RandomForestClassifier_12820c00d903', name='numTrees', doc='Number of trees to train (>= 1).'): 30},),\n",
       " ({Param(parent='RandomForestClassifier_12820c00d903', name='numTrees', doc='Number of trees to train (>= 1).'): 50},)]"
      ]
     },
     "execution_count": 26,
     "metadata": {},
     "output_type": "execute_result"
    }
   ],
   "source": [
    "avgMetricsGrid_35 = model_35.avgMetrics\n",
    "print(avgMetricsGrid_35)\n",
    "list(zip(model_35.getEstimatorParamMaps()))"
   ]
  },
  {
   "cell_type": "markdown",
   "metadata": {},
   "source": [
    "### Checking Feature Importance to improve the model by removing features which are not important"
   ]
  },
  {
   "cell_type": "code",
   "execution_count": 27,
   "metadata": {},
   "outputs": [
    {
     "data": {
      "image/png": "[encoded data removed]",
      "text/plain": [
       "<Figure size 640x480 with 1 Axes>"
      ]
     },
     "metadata": {},
     "output_type": "display_data"
    }
   ],
   "source": [
    "bestPipeline = model_35.bestModel\n",
    "bestModel = bestPipeline.stages[2]\n",
    "importances = bestModel.featureImportances\n",
    "x_values = list(range(len(importances)))\n",
    "selected_cols=[cols for cols in keep_35 if cols not in['label','MULTYEAR']]\n",
    "plt.barh(x_values,importances);\n",
    "plt.yticks(x_values,selected_cols, rotation=0);\n",
    "plt.ylabel('Feature');\n",
    "plt.xlabel('Importance');\n",
    "plt.title('Feature Importances');\n",
    "plt.show();"
   ]
  },
  {
   "cell_type": "code",
   "execution_count": 28,
   "metadata": {},
   "outputs": [
    {
     "name": "stdout",
     "output_type": "stream",
     "text": [
      "Not PCA\n",
      "+-----+----------+------+\n",
      "|label|prediction| count|\n",
      "+-----+----------+------+\n",
      "|    1|       0.0| 42422|\n",
      "|    0|       0.0|150475|\n",
      "|    1|       1.0|105520|\n",
      "|    0|       1.0| 59382|\n",
      "+-----+----------+------+\n",
      "\n",
      "n precision: 0.640\n",
      "n recall: 0.713\n",
      "n accuracy: 0.715\n",
      "n F1 score: 0.675\n",
      "AUC: 0.789\n"
     ]
    },
    {
     "data": {
      "image/png": "[encoded data removed]",
      "text/plain": [
       "<Figure size 640x480 with 2 Axes>"
      ]
     },
     "metadata": {},
     "output_type": "display_data"
    }
   ],
   "source": [
    "#Identified important features\n",
    "keep_imp = [\"CILAPTOP\",\"EMPSTAT\",\"LABFORCE\",\"CLASSWKR\",\"VETSTAT\",\"GCHOUSE\",\"label\",\"MULTYEAR\"]\n",
    "\n",
    "#create sample dataframe\n",
    "sampled_imp = createSampleData(df,keep_imp,0.2)\n",
    "\n",
    "#split data\n",
    "cached_tr_imp, cached_test_imp = splitData(sampled_imp,split_ratio,seed)\n",
    "\n",
    "#preProcessTrain data and fit\n",
    "model_imp = preProcessTrainFit(cached_tr_imp,rf,None,paramGrid,bcm,numFolds,seed)\n",
    "\n",
    "#preprocess testdata\n",
    "scaled_test_imp = preProcessTest(cached_test_imp)\n",
    "\n",
    "#predictions\n",
    "bestPipeline_imp = model_imp.bestModel\n",
    "pipe_imp = bestPipeline_imp.stages[1]\n",
    "predictions_imp = bestPipeline_imp.transform(cached_test_imp)\n",
    "classificationMetrics(predictions_imp,bcm)\n",
    "\n",
    "#Visualize Metrics\n",
    "cnf_matrix_imp = createLabelsCM(predictions_imp)\n",
    "plot_confusion_matrix(cnf_matrix_imp, classes=['Not Educated','Educated'], normalize=True,\n",
    "                      title='Normalized confusion matrix')\n",
    "plt.show()"
   ]
  },
  {
   "cell_type": "code",
   "execution_count": 29,
   "metadata": {},
   "outputs": [
    {
     "name": "stdout",
     "output_type": "stream",
     "text": [
      "[0.7871356719072501, 0.7877933121195867]\n"
     ]
    },
    {
     "data": {
      "text/plain": [
       "[({Param(parent='RandomForestClassifier_12820c00d903', name='numTrees', doc='Number of trees to train (>= 1).'): 30},),\n",
       " ({Param(parent='RandomForestClassifier_12820c00d903', name='numTrees', doc='Number of trees to train (>= 1).'): 50},)]"
      ]
     },
     "execution_count": 29,
     "metadata": {},
     "output_type": "execute_result"
    }
   ],
   "source": [
    "avgMetricsGrid_imp = model_imp.avgMetrics\n",
    "print(avgMetricsGrid_imp)\n",
    "list(zip(model_imp.getEstimatorParamMaps()))"
   ]
  },
  {
   "cell_type": "code",
   "execution_count": 30,
   "metadata": {},
   "outputs": [],
   "source": [
    "#References\n",
    "#https://towardsdatascience.com/pre-process-data-with-pipeline-to-prevent-data-leakage-during-cross-validation-e3442cca7fdc\n",
    "#https://awesomeopensource.com/project/adornes/spark_python_ml_examples\n",
    "#https://spark.apache.org/docs/latest/ml-tuning.html\n",
    "#https://sparkbyexamples.com/pyspark/pyspark-rename-dataframe-column/\n",
    "#https://spark.apache.org/docs/latest/ml-classification-regression.html#random-forest-classifier\n",
    "#https://people.stat.sc.edu/haigang/sparkCaseStudy.html"
   ]
  },
  {
   "cell_type": "code",
   "execution_count": null,
   "metadata": {},
   "outputs": [],
   "source": []
  }
 ],
 "metadata": {
  "kernelspec": {
   "display_name": "DS 5110",
   "language": "python",
   "name": "ds5110"
  },
  "language_info": {
   "codemirror_mode": {
    "name": "ipython",
    "version": 3
   },
   "file_extension": ".py",
   "mimetype": "text/x-python",
   "name": "python",
   "nbconvert_exporter": "python",
   "pygments_lexer": "ipython3",
   "version": "3.7.10"
  }
 },
 "nbformat": 4,
 "nbformat_minor": 4
}
