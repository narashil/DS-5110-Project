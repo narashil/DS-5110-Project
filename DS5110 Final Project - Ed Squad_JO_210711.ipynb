{
 "cells": [
  {
   "cell_type": "markdown",
   "metadata": {},
   "source": [
    "### DS5110 Final Project Assignment\n",
    "\n",
    "#### The Ed Squad\n",
    "* Isaac Stevens (is3sb)<br>\n",
    "* Jamie Oh (hso6b)<br>\n",
    "* Ashlie Ossege (ajo5fs)<br>\n",
    "* Shilpa Narayan (smn7ba)<br>\n",
    "\n",
    "### Research question/hypothesis\n",
    "\n",
    "Inspired by the question \"How much has your ZIP Code Determined Your Opportunities\" , posed in the Student Opinion section of NY Times<sup>1</sup>, The Ed Squad seeks to answer the question:\n",
    "\n",
    "<b>What factors of a household contribute to completing education?</b></br>\n",
    "\n",
    "Specifically, we hypothesize that Public Use Microdata Areas(PUMA) will be one of the leading indictors of whether or not one is predicted to complete their education. Our census data source from Ipums.org does not contain zipcode identifiers in public-use data, which is why we are looking at the most granular geographic factor our dataset has available.\n",
    "    \n",
    "H<sub>0</sub> = B<sub>puma</sub> = 0 <br>\n",
    "H<sub>a</sub> = B<sub>puma</sub> ne 0\n"
   ]
  },
  {
   "cell_type": "markdown",
   "metadata": {},
   "source": [
    "### Data Sources\n",
    "\n",
    "Our data comes from the American Community Survey 2015-2019 Sample from usa.ipsums.org. and contains households and person information such as age, income, health insurance, and other demographic variables. In total there are 194 variables. Our focus of the study is in the South Region.\n",
    "\n",
    "Data: https://usa.ipums.org/usa/sampdesc.shtml#us2019c </br>\n",
    "Code Book for variables in the data: https://github.com/narashil/DS-5110-Project/blob/main/usa_00001.cbk\n"
   ]
  },
  {
   "cell_type": "markdown",
   "metadata": {},
   "source": [
    "### Supplemental Sources\n",
    "<sup>1</sup>  https://www.nytimes.com/2020/05/19/learning/how-much-has-your-zip-code-determined-your-opportunities.html </br>\n",
    "<sup>2</sup> https://www.census.gov/programs-surveys/geography/guidance/geo-areas/pumas.html "
   ]
  },
  {
   "cell_type": "code",
   "execution_count": 1,
   "metadata": {},
   "outputs": [],
   "source": [
    "# load modules\n",
    "from pyspark.sql import SparkSession\n",
    "from pyspark.sql.types import ArrayType, StructField, StructType, StringType, IntegerType\n",
    "from pyspark.ml.linalg import Vectors\n",
    "from pyspark.ml.stat import Correlation\n",
    "import pandas as pd\n",
    "import numpy as np\n",
    "from pyspark.ml.evaluation import BinaryClassificationEvaluator\n",
    "from pyspark.ml.evaluation import MulticlassClassificationEvaluator\n",
    "from pyspark.ml import Pipeline\n",
    "from pyspark.mllib.evaluation import MulticlassMetrics,BinaryClassificationMetrics\n",
    "from pyspark.ml.feature import VectorAssembler\n",
    "from pyspark.ml.feature import StandardScaler\n",
    "from pyspark.sql.functions import *\n",
    "from pyspark.sql import functions as F\n",
    "import matplotlib.pyplot as plt\n",
    "import seaborn as sns\n",
    "import itertools\n",
    "from sklearn.metrics import confusion_matrix\n",
    "from pyspark.ml.tuning import CrossValidator, ParamGridBuilder,TrainValidationSplit\n",
    "from pyspark.ml.classification import RandomForestClassifier\n",
    "from pyspark.ml import Pipeline\n",
    "from pyspark.ml.feature import PCA\n",
    "\n",
    "\n",
    "# set up the session\n",
    "spark = SparkSession.builder.getOrCreate()"
   ]
  },
  {
   "cell_type": "code",
   "execution_count": 2,
   "metadata": {},
   "outputs": [],
   "source": [
    "%matplotlib inline "
   ]
  },
  {
   "cell_type": "code",
   "execution_count": 3,
   "metadata": {},
   "outputs": [],
   "source": [
    "df = spark.read.csv('acs_15_19_south.csv', inferSchema=True, header=True)"
   ]
  },
  {
   "cell_type": "code",
   "execution_count": 4,
   "metadata": {},
   "outputs": [
    {
     "name": "stdout",
     "output_type": "stream",
     "text": [
      "+---------+\n",
      "|EDUC_FLAG|\n",
      "+---------+\n",
      "|        0|\n",
      "|        1|\n",
      "|        0|\n",
      "|        1|\n",
      "|        0|\n",
      "+---------+\n",
      "only showing top 5 rows\n",
      "\n"
     ]
    }
   ],
   "source": [
    "def EDUCFunc(value):\n",
    "  if   value > 6: \n",
    "      return 1\n",
    "  else:\n",
    "      return 0\n",
    "\n",
    "#create the function to be applied and create a new column EDUC_FLAG\n",
    "udfsomefunc = F.udf(EDUCFunc, IntegerType())\n",
    "df = df.withColumn(\"EDUC_FLAG\", udfsomefunc(\"EDUC\"))\n",
    "#see sample data\n",
    "df.select('EDUC_FLAG').show(5)"
   ]
  },
  {
   "cell_type": "code",
   "execution_count": 9,
   "metadata": {},
   "outputs": [],
   "source": [
    "#df.show(3)"
   ]
  },
  {
   "cell_type": "code",
   "execution_count": 11,
   "metadata": {},
   "outputs": [],
   "source": [
    "#df.columns"
   ]
  },
  {
   "cell_type": "markdown",
   "metadata": {},
   "source": [
    "## EDA"
   ]
  },
  {
   "cell_type": "code",
   "execution_count": 5,
   "metadata": {},
   "outputs": [
    {
     "data": {
      "text/plain": [
       "(5965249, 206)"
      ]
     },
     "execution_count": 5,
     "metadata": {},
     "output_type": "execute_result"
    }
   ],
   "source": [
    "df.count(), len(df.columns)"
   ]
  },
  {
   "cell_type": "code",
   "execution_count": 14,
   "metadata": {},
   "outputs": [],
   "source": [
    "#df.head()"
   ]
  },
  {
   "cell_type": "code",
   "execution_count": 24,
   "metadata": {},
   "outputs": [],
   "source": [
    "#df.printSchema()"
   ]
  },
  {
   "cell_type": "code",
   "execution_count": null,
   "metadata": {},
   "outputs": [],
   "source": [
    "'''\n",
    "EDUC                Educational attainment [general version]\n",
    "00                  N/A or no schooling\n",
    "01                  Nursery school to grade 4\n",
    "02                  Grade 5, 6, 7, or 8\n",
    "03                  Grade 9\n",
    "04                  Grade 10\n",
    "05                  Grade 11\n",
    "06                  Grade 12\n",
    "07                  1 year of college\n",
    "08                  2 years of college\n",
    "09                  3 years of college\n",
    "10                  4 years of college\n",
    "11                  5+ years of college\n",
    "'''"
   ]
  },
  {
   "cell_type": "code",
   "execution_count": 6,
   "metadata": {},
   "outputs": [
    {
     "name": "stdout",
     "output_type": "stream",
     "text": [
      "+----+\n",
      "|EDUC|\n",
      "+----+\n",
      "|   0|\n",
      "|   1|\n",
      "|   2|\n",
      "|   3|\n",
      "|   4|\n",
      "|   5|\n",
      "|   6|\n",
      "|   7|\n",
      "|   8|\n",
      "|  10|\n",
      "|  11|\n",
      "+----+\n",
      "\n"
     ]
    }
   ],
   "source": [
    "df.select('EDUC').distinct().orderBy('EDUC').show()"
   ]
  },
  {
   "cell_type": "code",
   "execution_count": 25,
   "metadata": {},
   "outputs": [],
   "source": [
    "#type('EDUC')"
   ]
  },
  {
   "cell_type": "code",
   "execution_count": 7,
   "metadata": {},
   "outputs": [
    {
     "name": "stdout",
     "output_type": "stream",
     "text": [
      "+----+-------+\n",
      "|EDUC|  count|\n",
      "+----+-------+\n",
      "|   0| 360318|\n",
      "|   1| 456253|\n",
      "|   2| 417958|\n",
      "|   3| 147906|\n",
      "|   4| 163885|\n",
      "|   5| 172998|\n",
      "|   6|1775804|\n",
      "|   7| 719456|\n",
      "|   8| 368279|\n",
      "|  10| 850738|\n",
      "|  11| 531654|\n",
      "+----+-------+\n",
      "\n"
     ]
    }
   ],
   "source": [
    "df_edu = df.groupby('EDUC').count().orderBy('EDUC')\n",
    "df_edu.show()"
   ]
  },
  {
   "cell_type": "code",
   "execution_count": 8,
   "metadata": {},
   "outputs": [
    {
     "data": {
      "image/png": "[encoded data removed]",
      "text/plain": [
       "<Figure size 432x288 with 1 Axes>"
      ]
     },
     "metadata": {
      "needs_background": "light"
     },
     "output_type": "display_data"
    }
   ],
   "source": [
    "import matplotlib.pyplot as plt\n",
    "df_edu = df_edu.toPandas()\n",
    "df_edu.plot(x=\"EDUC\", y=\"count\", kind='bar')\n",
    "plt.show() # no 9's!"
   ]
  },
  {
   "cell_type": "markdown",
   "metadata": {},
   "source": [
    "### Education Flag Ratio"
   ]
  },
  {
   "cell_type": "code",
   "execution_count": 9,
   "metadata": {},
   "outputs": [
    {
     "data": {
      "text/plain": [
       "(0.5859138486926531, 0.41408615130734694)"
      ]
     },
     "execution_count": 9,
     "metadata": {},
     "output_type": "execute_result"
    }
   ],
   "source": [
    "e_0 = df.filter(df['EDUC_FLAG'] == 0).count()\n",
    "e_1 = df.filter(df['EDUC_FLAG'] == 1).count()\n",
    "e_0/(e_0+e_1), e_1/(e_0+e_1) "
   ]
  },
  {
   "cell_type": "markdown",
   "metadata": {},
   "source": [
    "### Gender"
   ]
  },
  {
   "cell_type": "code",
   "execution_count": null,
   "metadata": {},
   "outputs": [],
   "source": [
    "'''\n",
    "SEX                 Sex\n",
    "1                   Male\n",
    "2                   Female\n",
    "'''"
   ]
  },
  {
   "cell_type": "code",
   "execution_count": 10,
   "metadata": {},
   "outputs": [
    {
     "name": "stdout",
     "output_type": "stream",
     "text": [
      "+---+-------+\n",
      "|SEX|  count|\n",
      "+---+-------+\n",
      "|  1|2897686|\n",
      "|  2|3067563|\n",
      "+---+-------+\n",
      "\n"
     ]
    }
   ],
   "source": [
    "df.groupBy('SEX').count().show()"
   ]
  },
  {
   "cell_type": "code",
   "execution_count": 11,
   "metadata": {},
   "outputs": [
    {
     "data": {
      "text/plain": [
       "(5965249, 5965249)"
      ]
     },
     "execution_count": 11,
     "metadata": {},
     "output_type": "execute_result"
    }
   ],
   "source": [
    "male_0 = df[(df['SEX'] == 1) & (df['EDUC_FLAG'] == 0)].count()\n",
    "male_1 = df[(df['SEX'] == 1) & (df['EDUC_FLAG'] == 1)].count()\n",
    "female_0 = df[(df['SEX'] == 2) & (df['EDUC_FLAG'] == 0)].count()\n",
    "female_1 = df[(df['SEX'] == 2) & (df['EDUC_FLAG'] == 1)].count()\n",
    "male = male_0 + male_1\n",
    "female = female_0 + female_1\n",
    "total = male + female\n",
    "total, df.count()"
   ]
  },
  {
   "cell_type": "code",
   "execution_count": 12,
   "metadata": {},
   "outputs": [
    {
     "data": {
      "text/plain": [
       "(0.6060601459233333, 0.3939398540766667)"
      ]
     },
     "execution_count": 12,
     "metadata": {},
     "output_type": "execute_result"
    }
   ],
   "source": [
    "# Male - Ed 0 vs Ed 1\n",
    "male_0/(male_0+male_1), male_1/(male_0+male_1)"
   ]
  },
  {
   "cell_type": "code",
   "execution_count": 13,
   "metadata": {},
   "outputs": [
    {
     "data": {
      "text/plain": [
       "(0.5668832229362527, 0.43311677706374735)"
      ]
     },
     "execution_count": 13,
     "metadata": {},
     "output_type": "execute_result"
    }
   ],
   "source": [
    "# Female - Ed 0 vs Ed 1\n",
    "female_0/(female_0+female_1), female_1/(female_0+female_1)"
   ]
  },
  {
   "cell_type": "code",
   "execution_count": 14,
   "metadata": {},
   "outputs": [
    {
     "data": {
      "image/png": "[encoded data removed]",
      "text/plain": [
       "<Figure size 360x360 with 1 Axes>"
      ]
     },
     "metadata": {
      "needs_background": "light"
     },
     "output_type": "display_data"
    }
   ],
   "source": [
    "import seaborn as sns\n",
    "df2 = df.groupBy('EDUC', 'SEX').count().orderBy('EDUC', 'SEX')\n",
    "df2 = df2.toPandas()\n",
    "fg = sns.catplot(x='EDUC', y='count', hue='SEX', data=df2, kind='bar', legend_out=False)\n",
    "fg.set_xlabels('Education Level')\n",
    "\n",
    "new_labels = ['Male', 'Female']\n",
    "for old, new in zip(fg._legend.texts, new_labels): old.set_text(new)\n",
    "\n",
    "#https://stackoverflow.com/questions/31845258/pandas-multi-index-plotting"
   ]
  },
  {
   "cell_type": "code",
   "execution_count": 15,
   "metadata": {},
   "outputs": [
    {
     "data": {
      "image/png": "[encoded data removed]",
      "text/plain": [
       "<Figure size 360x360 with 1 Axes>"
      ]
     },
     "metadata": {
      "needs_background": "light"
     },
     "output_type": "display_data"
    }
   ],
   "source": [
    "df3 = df.groupBy('EDUC_FLAG', 'SEX').count().orderBy('EDUC_FLAG', 'SEX')\n",
    "df3 = df3.toPandas()\n",
    "fg = sns.catplot(x='EDUC_FLAG', y='count', hue='SEX', data=df3, kind='bar', legend_out=False)\n",
    "fg.set_xlabels('Education Flag')\n",
    "\n",
    "new_labels = ['Male', 'Female']\n",
    "for old, new in zip(fg._legend.texts, new_labels): old.set_text(new)"
   ]
  },
  {
   "cell_type": "markdown",
   "metadata": {},
   "source": [
    " ## Sample: 2019 Data"
   ]
  },
  {
   "cell_type": "code",
   "execution_count": 16,
   "metadata": {},
   "outputs": [
    {
     "data": {
      "text/plain": [
       "1217644"
      ]
     },
     "execution_count": 16,
     "metadata": {},
     "output_type": "execute_result"
    }
   ],
   "source": [
    "sample = df.filter(df['MULTYEAR'] == 2019)\n",
    "sample.count()"
   ]
  },
  {
   "cell_type": "code",
   "execution_count": 26,
   "metadata": {},
   "outputs": [
    {
     "data": {
      "text/plain": [
       "0.2041229125557039"
      ]
     },
     "execution_count": 26,
     "metadata": {},
     "output_type": "execute_result"
    }
   ],
   "source": [
    "sample.count()/df.count()"
   ]
  },
  {
   "cell_type": "markdown",
   "metadata": {},
   "source": [
    "## Logistic Regression Model"
   ]
  },
  {
   "cell_type": "markdown",
   "metadata": {},
   "source": [
    "### with all features"
   ]
  },
  {
   "cell_type": "code",
   "execution_count": 17,
   "metadata": {},
   "outputs": [],
   "source": [
    "from pyspark.ml.feature import VectorAssembler\n",
    "\n",
    "assembler = VectorAssembler(inputCols=[column for column in sample.columns if column not in ['EDUC','EDUC_FLAG']], outputCol=\"features\") \n",
    "tr = assembler.transform(sample)"
   ]
  },
  {
   "cell_type": "code",
   "execution_count": 18,
   "metadata": {},
   "outputs": [],
   "source": [
    "from pyspark.ml.feature import StandardScaler\n",
    "\n",
    "scaler = StandardScaler(inputCol=\"features\", outputCol=\"scaledFeatures\")\n",
    "scalerModel = scaler.fit(tr)\n",
    "scaledData = scalerModel.transform(tr)"
   ]
  },
  {
   "cell_type": "code",
   "execution_count": 19,
   "metadata": {},
   "outputs": [],
   "source": [
    "training, test = scaledData.randomSplit([0.7, 0.3], seed=314)"
   ]
  },
  {
   "cell_type": "code",
   "execution_count": 20,
   "metadata": {},
   "outputs": [],
   "source": [
    "from pyspark.ml.classification import LogisticRegression\n",
    "\n",
    "lr = LogisticRegression(labelCol='EDUC_FLAG',\n",
    "                        featuresCol='scaledFeatures',\n",
    "                        maxIter=10, \n",
    "                        regParam=0.3, \n",
    "                        elasticNetParam=0.8)\n",
    "\n",
    "# Fit the model excluding intercept\n",
    "lrModel = lr.fit(training)"
   ]
  },
  {
   "cell_type": "code",
   "execution_count": 21,
   "metadata": {},
   "outputs": [
    {
     "name": "stdout",
     "output_type": "stream",
     "text": [
      "The model accuracy is: 0.8187826600564946\n",
      "Area under PR Curve: 0.8779862703618915\n"
     ]
    }
   ],
   "source": [
    "from pyspark.ml.evaluation import BinaryClassificationEvaluator\n",
    "from pyspark.ml.evaluation import MulticlassClassificationEvaluator\n",
    "\n",
    "# compute predictions. this will append column \"prediction\" to dataframe\n",
    "lrPred = lrModel.transform(test)\n",
    "\n",
    "# set up evaluator\n",
    "evaluator = MulticlassClassificationEvaluator(predictionCol=\"prediction\",\n",
    "                                          labelCol=\"EDUC_FLAG\",\n",
    "                                          metricName=\"accuracy\")\n",
    "\n",
    "evaluator2 = BinaryClassificationEvaluator(rawPredictionCol=\"prediction\",\n",
    "                                          labelCol=\"EDUC_FLAG\",\n",
    "                                          metricName=\"areaUnderPR\")\n",
    "\n",
    "\n",
    "# pass to evaluator the DF with predictions, labels\n",
    "accuracy = evaluator.evaluate(lrPred)\n",
    "aupr = evaluator2.evaluate(lrPred)\n",
    "\n",
    "\n",
    "print(\"The model accuracy is:\", accuracy)\n",
    "print(\"Area under PR Curve:\", aupr)"
   ]
  },
  {
   "cell_type": "markdown",
   "metadata": {},
   "source": [
    "### with ROI"
   ]
  },
  {
   "cell_type": "code",
   "execution_count": 22,
   "metadata": {},
   "outputs": [],
   "source": [
    "roi = [\"HHTYPE\",\"REGION\",\"STATEFIP\",\"COUNTYFIP\",\"METRO\",\"COSTELEC\",\"COSTGAS\",\"COSTWATR\",\"COSTFUEL\",\"FOODSTMP\",\n",
    "       \"CINETHH\",\"CILAPTOP\", \"CISMRTPHN\",\"CITABLET\",\"VEHICLES\",\"COUPLETYPE\",\"NFAMS\",\"NMOTHERS\",\"NFATHERS\",\n",
    "       \"CITIZEN\",\"YRSUSA1\",\"RACAMIND\",\"RACASIAN\",\"RACBLK\",\"RACPACIS\" ,\"RACWHT\",\"RACOTHER\",\"HCOVANY\",\"EMPSTAT\",\n",
    "       \"LABFORCE\",\"CLASSWKR\",\"UHRSWORK\",\"VETSTAT\",\"TRANWORK\",\"GCHOUSE\",\"MULTYEAR\",\"EDUC_FLAG\"]"
   ]
  },
  {
   "cell_type": "code",
   "execution_count": 23,
   "metadata": {},
   "outputs": [],
   "source": [
    "sample_roi = sample.select(roi)"
   ]
  },
  {
   "cell_type": "code",
   "execution_count": 24,
   "metadata": {},
   "outputs": [
    {
     "name": "stdout",
     "output_type": "stream",
     "text": [
      "The model accuracy is: 0.5729794174990908\n",
      "Area under PR Curve: 0.42702058250090924\n"
     ]
    }
   ],
   "source": [
    "assembler2 = VectorAssembler(inputCols=[column for column in roi if column not in [\"MULTYEAR\", \"EDUC_FLAG\"]], outputCol=\"features\") \n",
    "tr2 = assembler2.transform(sample_roi)\n",
    "\n",
    "scaler2 = StandardScaler(inputCol=\"features\", outputCol=\"scaledFeatures\")\n",
    "scalerModel2 = scaler2.fit(tr2)\n",
    "scaledData2 = scalerModel2.transform(tr2)\n",
    "\n",
    "training, test = scaledData2.randomSplit([0.7, 0.3], seed=314)\n",
    "\n",
    "lr2 = LogisticRegression(labelCol='EDUC_FLAG',\n",
    "                        featuresCol='scaledFeatures',\n",
    "                        maxIter=10, \n",
    "                        regParam=0.3, \n",
    "                        elasticNetParam=0.8)\n",
    "\n",
    "lrModel2 = lr2.fit(training)\n",
    "\n",
    "lrPred2 = lrModel2.transform(test)\n",
    "\n",
    "# set up evaluator\n",
    "evaluator_2 = MulticlassClassificationEvaluator(predictionCol=\"prediction\",\n",
    "                                          labelCol=\"EDUC_FLAG\",\n",
    "                                          metricName=\"accuracy\")\n",
    "\n",
    "evaluator2_2 = BinaryClassificationEvaluator(rawPredictionCol=\"prediction\",\n",
    "                                          labelCol=\"EDUC_FLAG\",\n",
    "                                          metricName=\"areaUnderPR\")\n",
    "\n",
    "\n",
    "# pass to evaluator the DF with predictions, labels\n",
    "accuracy2 = evaluator_2.evaluate(lrPred2)\n",
    "aupr2 = evaluator2_2.evaluate(lrPred2)\n",
    "\n",
    "\n",
    "print(\"The model accuracy is:\", accuracy2)\n",
    "print(\"Area under PR Curve:\", aupr2)"
   ]
  },
  {
   "cell_type": "code",
   "execution_count": 35,
   "metadata": {},
   "outputs": [
    {
     "name": "stdout",
     "output_type": "stream",
     "text": [
      "+---------+----------+------+\n",
      "|EDUC_FLAG|prediction| count|\n",
      "+---------+----------+------+\n",
      "|        1|       0.0|156161|\n",
      "|        0|       0.0|209538|\n",
      "+---------+----------+------+\n",
      "\n",
      "accuracy: 0.573\n"
     ]
    }
   ],
   "source": [
    "TN = lrPred2.filter('prediction = 0 AND EDUC_FLAG = prediction').count()\n",
    "TP = lrPred2.filter('prediction = 1 AND EDUC_FLAG = prediction').count()\n",
    "FN = lrPred2.filter('prediction = 0 AND EDUC_FLAG <> prediction').count()\n",
    "FP = lrPred2.filter('prediction = 1 AND EDUC_FLAG <> prediction').count()\n",
    " \n",
    "lrPred2.groupBy('EDUC_FLAG', 'prediction').count().show()\n",
    "\n",
    "accuracy = (TN + TP) / (TN + TP + FN + FP)\n",
    "  \n",
    "print('accuracy: %0.3f' % accuracy)"
   ]
  },
  {
   "cell_type": "markdown",
   "metadata": {},
   "source": [
    "### ROI with PCA"
   ]
  },
  {
   "cell_type": "code",
   "execution_count": 72,
   "metadata": {},
   "outputs": [
    {
     "name": "stdout",
     "output_type": "stream",
     "text": [
      "The model accuracy is: 0.5729794174990908\n",
      "Area under PR Curve: 0.42702058250090924\n"
     ]
    }
   ],
   "source": [
    "# PCA using 10 components\n",
    "pca = PCA(k=10, inputCol=assembler2.getOutputCol(), outputCol=\"pcaFeatures\")\n",
    "pca_model = pca.fit(scaledData2)\n",
    "\n",
    "# extract the transformed features\n",
    "pca_result = pca_model.transform(scaledData2)\n",
    "\n",
    "training, test = pca_result.randomSplit([0.7, 0.3], seed=314)\n",
    "\n",
    "lr_pca = LogisticRegression(labelCol='EDUC_FLAG',\n",
    "                        featuresCol='pcaFeatures',\n",
    "                        maxIter=10, \n",
    "                        regParam=0.3, \n",
    "                        elasticNetParam=0.8)\n",
    "\n",
    "lrModel_pca = lr_pca.fit(training)\n",
    "\n",
    "lrPred_pca = lrModel_pca.transform(test)\n",
    "\n",
    "# set up evaluator\n",
    "evaluator_3 = MulticlassClassificationEvaluator(predictionCol=\"prediction\",\n",
    "                                          labelCol=\"EDUC_FLAG\",\n",
    "                                          metricName=\"accuracy\")\n",
    "\n",
    "evaluator2_3 = BinaryClassificationEvaluator(rawPredictionCol=\"prediction\",\n",
    "                                          labelCol=\"EDUC_FLAG\",\n",
    "                                          metricName=\"areaUnderPR\")\n",
    "\n",
    "\n",
    "# pass to evaluator the DF with predictions, labels\n",
    "accuracy3 = evaluator_3.evaluate(lrPred_pca)\n",
    "aupr3 = evaluator2_3.evaluate(lrPred_pca)\n",
    "\n",
    "\n",
    "print(\"The model accuracy is:\", accuracy3)\n",
    "print(\"Area under PR Curve:\", aupr3)"
   ]
  },
  {
   "cell_type": "markdown",
   "metadata": {},
   "source": [
    "### Pipeline"
   ]
  },
  {
   "cell_type": "code",
   "execution_count": 77,
   "metadata": {},
   "outputs": [],
   "source": [
    "assembler = VectorAssembler(inputCols=[column for column in roi if column not in [\"MULTYEAR\", \"EDUC_FLAG\"]], outputCol=\"features\") \n",
    "pca = PCA(k=10, inputCol=assembler.getOutputCol(), outputCol=\"pcaFeatures\")\n",
    "lr = LogisticRegression(labelCol='EDUC_FLAG',\n",
    "                        featuresCol='pcaFeatures',\n",
    "                        maxIter=10, \n",
    "                        regParam=0.3, \n",
    "                        elasticNetParam=0.8)\n",
    "\n",
    "pipeline = Pipeline(stages=[assembler,pca,lr])\n",
    "\n",
    "training, test = sample_roi.randomSplit([0.7, 0.3], seed=314)\n",
    "model = pipeline.fit(training)\n",
    "prediction = model.transform(test)\n",
    "#prediction.show()"
   ]
  },
  {
   "cell_type": "code",
   "execution_count": 78,
   "metadata": {},
   "outputs": [
    {
     "name": "stdout",
     "output_type": "stream",
     "text": [
      "+---------+----------+------+\n",
      "|EDUC_FLAG|prediction| count|\n",
      "+---------+----------+------+\n",
      "|        1|       0.0|156161|\n",
      "|        0|       0.0|209538|\n",
      "+---------+----------+------+\n",
      "\n",
      "accuracy: 0.573\n"
     ]
    }
   ],
   "source": [
    "TN = prediction.filter('prediction = 0 AND EDUC_FLAG = prediction').count()\n",
    "TP = prediction.filter('prediction = 1 AND EDUC_FLAG = prediction').count()\n",
    "FN = prediction.filter('prediction = 0 AND EDUC_FLAG <> prediction').count()\n",
    "FP = prediction.filter('prediction = 1 AND EDUC_FLAG <> prediction').count()\n",
    " \n",
    "prediction.groupBy('EDUC_FLAG', 'prediction').count().show()\n",
    "\n",
    "accuracy = (TN + TP) / (TN + TP + FN + FP)\n",
    "  \n",
    "print('accuracy: %0.3f' % accuracy)"
   ]
  },
  {
   "cell_type": "code",
   "execution_count": null,
   "metadata": {},
   "outputs": [],
   "source": []
  },
  {
   "cell_type": "code",
   "execution_count": null,
   "metadata": {},
   "outputs": [],
   "source": []
  }
 ],
 "metadata": {
  "kernelspec": {
   "display_name": "DS 5110",
   "language": "python",
   "name": "ds5110"
  },
  "language_info": {
   "codemirror_mode": {
    "name": "ipython",
    "version": 3
   },
   "file_extension": ".py",
   "mimetype": "text/x-python",
   "name": "python",
   "nbconvert_exporter": "python",
   "pygments_lexer": "ipython3",
   "version": "3.7.10"
  }
 },
 "nbformat": 4,
 "nbformat_minor": 4
}
